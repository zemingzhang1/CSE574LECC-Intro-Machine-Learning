{
  "cells": [
    {
      "cell_type": "markdown",
      "metadata": {
        "id": "view-in-github",
        "colab_type": "text"
      },
      "source": [
        "<a href=\"https://colab.research.google.com/github/zemingzhang1/CSE574LECC-Intro-Machine-Learning/blob/main/Assignment%200/Final_spring23_assignment0(4).ipynb\" target=\"_parent\"><img src=\"https://colab.research.google.com/assets/colab-badge.svg\" alt=\"Open In Colab\"/></a>"
      ]
    },
    {
      "cell_type": "markdown",
      "metadata": {
        "id": "KH1K6cXFvnmj"
      },
      "source": [
        "<div align=\"center\"> <h3><font color='cyan'>CSE 4/574 Sections A&C&D: Introduction to Machine Learning, Spring 2023 </font> \n",
        "<h1> Assignment 0 - Python Intro\n",
        "\n",
        "<h3>Checkpoint: February 9, Thursday, 11:59pm\n",
        "<h2><font color='red'>Final Due Date: </font> February 16, Thu, 11:59pm</div>\n",
        "\n",
        "Welcome to your first CSE 574 assignment! The goal of this assignment is to sharpen your programming skills needed for this class. It is focused on familiarizing yourself with Python and main data science libraries that will be used for other assignments as well.\n",
        "\n",
        "There are a total of five parts. We will focus on basic Python functions, explore numpy, pandas and matplotlib libraries, sci-kit learning and analyze the real-world dataset.\n",
        "\n",
        "If you are new to Python, check our [Python resources page](https://ubuffalo-my.sharepoint.com/:w:/g/personal/avereshc_buffalo_edu/ESoUg6v6aoJImaeWXy90SqMBiubxGGAkG7dhaNyhuBum_w?e=3Tlwbz) and our class demos.\n",
        "\n",
        "\n",
        "### Submission\n",
        "\n",
        "All the details you need for this assignment are located within this notebook. You are expected to follow every block and complete the task within the marks ``` # BEGIN_YOUR_CODE ``` and ```# END_YOUR_CODE```. Do not modify or edit code beyond these lines. You can add helper functions in the new cells, if needed. We recommend completing the task within this .ipynb notebook, if needed you can convert it and submit as .py script. Try to make your code as clean and simple as possible and be sure to write your answers between the begin answer and end answer comments.\n",
        "\n",
        "1. Submit at **UBLearns > Assignments**\n",
        "2. The code of your implementations should be written in Python\n",
        "3. All project files should be packed in a ZIP file named YOUR_FIRST_NAME_YOUR_LAST_NAME_assignment0.zip (e.g. alina_vereshchaka_assignment0.zip).\n",
        "4. Your Jupyter notebook should be saved with the results. If you are submitting python scripts, after extracting the ZIP file and executing command python main.py in the first level directory, all the generated results and plots you used in your report should appear printed out in a clear manner.  \n",
        "6. Include all the references that have been used to complete the assignment at the end of the submittion.\n",
        "\n",
        "### Checkpoint Submission <font color='red'>[Due Date: Feb 9]</font>\n",
        "Complete Part 1, Part 2 and Part 3 and submit the .ipynb with the saved output in the ZIP file named YOUR_FIRST_NAME_YOUR_LAST_NAME_assignment0_checkpoint.zip. Checkpoint will be evaluated after the final submission.\n",
        "\n",
        "### Final Submission <font color='red'>[Due Date: Feb 16]</font>\n",
        "Complete all parts of the assignment and submit the code in the ZIP file named YOUR_FIRST_NAME_YOUR_LAST_NAME_assignment0_final.zip. You may add slight modification to your Checkpoint submission if needed.\n",
        "\n",
        "**Assignment Outline**\n",
        "\n",
        "| Part | Description | # of tasks | Points |\n",
        "| --- | --- | --- | --- |\n",
        "| [Part 1](#part1) | Basics, Numpy Basics | 19 | 20 |\n",
        "| [Part 2](#part2) | Algorithms | 2 | 20 |\n",
        "| [Part 3](#part3) | Pandas Basics | 7 | 20 |\n",
        "| [Part 4](#part4) | Matplotlib Basics | 8 | 20 |\n",
        "| [Part 5](#part5) | Sci-kit Learning Basics | 3 | 20 |\n",
        "\n",
        "    \n",
        "### Academic Integrity\n",
        "\n",
        "This assignment must be completed individually.\n",
        "The standing policy of the Department is that all students involved in any academic integrity violation (e.g. plagiarism in any way, shape, or form) will receive an F grade for the course. The catalog describes plagiarism as “Copying or receiving material from any source and submitting that material as one’s own, without acknowledging and citing the particular debts to the source, or in any other manner representing the work of another as one’s own.”. Refer to the [Office of Academic Integrity](https://www.buffalo.edu/academic-integrity.html) for more details.\n",
        "\n",
        "\n",
        "### Late Days Policy\n",
        "You can use up to 7 late days throughout the course toward any assignments' checkpoint or final submission. You do not have to inform the instructor, as the late submission will be tracked in UBlearns.\n",
        "\n",
        "### FAQ\n",
        ">What does 'raise Exception(\"Not implemented yet\")' mean?\n",
        "\n",
        "Here we define a custom exception to highlight that the task is not implemented yet. Once you implement your code, ensure to remove this part.\n",
        "\n",
        ">Can I add code beyond # BEGIN_YOUR_CODE parts.\n",
        "\n",
        "Yes, you can add helper functions. Add them in the separate cell with the comments, why you need it\n"
      ]
    },
    {
      "cell_type": "markdown",
      "metadata": {
        "id": "RiMGYifjvnmy"
      },
      "source": [
        "<a id='part1'></a>\n",
        "## Part 1 - Python and Numpy Basics [20 points]"
      ]
    },
    {
      "cell_type": "markdown",
      "metadata": {
        "id": "2LUCpwD6vnm1"
      },
      "source": [
        "The first part of this assignment gives you practice with python syntax. Follow the cells below for the instructions."
      ]
    },
    {
      "cell_type": "code",
      "execution_count": 70,
      "metadata": {
        "id": "mPqn5CYn4cKx",
        "outputId": "d2c95f65-c795-4f0c-a3c4-f317500f18da",
        "colab": {
          "base_uri": "https://localhost:8080/"
        }
      },
      "outputs": [
        {
          "output_type": "stream",
          "name": "stdout",
          "text": [
            "Add favorite holiday destination 1: Austin\n",
            "Add favorite holiday destination 2: Seattle\n",
            "Add favorite holiday destination 3: San Francisco\n",
            "Add favorite holiday destination 4: New York\n",
            "Add favorite holiday destination 5: Denver\n",
            "Personal list of favorite holiday destinations:\n",
            "Austin\n",
            "Seattle\n",
            "San Francisco\n",
            "New York\n",
            "Denver\n"
          ]
        }
      ],
      "source": [
        "''' Adding elements to a list during the runtime\n",
        "Create an empty list and add five of your favourite holiday destinations to the list during the runtime using functions input() and append()\n",
        "Print out the list.\n",
        "\n",
        "'''\n",
        "\n",
        "# BEGIN_YOUR_CODE\n",
        "destinations = []\n",
        "\n",
        "for i in range(1,6):\n",
        "  destinations.append(input(f\"Add favorite holiday destination {i}: \"))\n",
        "\n",
        "print(\"Personal list of favorite holiday destinations:\")\n",
        "for d in destinations:\n",
        "  print(d)\n",
        "# END_YOUR_CODE"
      ]
    },
    {
      "cell_type": "code",
      "execution_count": 71,
      "metadata": {
        "id": "l-ZQOmT34cKx",
        "outputId": "bef4c539-b4fb-4db0-822d-770fd5faa4f7",
        "colab": {
          "base_uri": "https://localhost:8080/"
        }
      },
      "outputs": [
        {
          "output_type": "execute_result",
          "data": {
            "text/plain": [
              "[0, 5, 10, 15, 20, 25]"
            ]
          },
          "metadata": {},
          "execution_count": 71
        }
      ],
      "source": [
        "''' Updating elements\n",
        "Given a string my_list, update the third element to 10 and sixth element to 25, so the output is as follows: [0, 5, 10, 15, 20, 25]\n",
        "Print out the updated list.\n",
        "'''\n",
        "\n",
        "my_list = [0, 5, 'ten', 15, 20, 'twenty five']\n",
        "\n",
        "# BEGIN_YOUR_CODE\n",
        "my_list[2] = 10\n",
        "my_list[5] = 25\n",
        "my_list\n",
        "# END_YOUR_CODE"
      ]
    },
    {
      "cell_type": "code",
      "execution_count": 72,
      "metadata": {
        "id": "W624nhy44cKx",
        "outputId": "aac56380-2b06-48b4-be01-5f84c359e021",
        "colab": {
          "base_uri": "https://localhost:8080/",
          "height": 35
        }
      },
      "outputs": [
        {
          "output_type": "execute_result",
          "data": {
            "text/plain": [
              "\"There are 1 'the' in the sentence.\""
            ],
            "application/vnd.google.colaboratory.intrinsic+json": {
              "type": "string"
            }
          },
          "metadata": {},
          "execution_count": 72
        }
      ],
      "source": [
        "'''Write a program to find a total number of \"the\" in the sentence \"the theatrics of neither these nor those\" using regular expressions.\n",
        "  Return the total number of \"the\"\n",
        "'''\n",
        "\n",
        "sentence = \"the theatrics of neither these nor those\"\n",
        "\n",
        "# BEGIN_YOUR_CODE\n",
        "from re import *\n",
        "\n",
        "count = len(findall(r'\\bthe\\b', sentence))\n",
        "f\"There are {count} 'the' in the sentence.\"\n",
        "# END_YOUR_CODE"
      ]
    },
    {
      "cell_type": "code",
      "execution_count": 73,
      "metadata": {
        "id": "pYW7jZF2vnm2",
        "outputId": "31caaf7e-cae5-41a8-92ab-c7c6f7557886",
        "colab": {
          "base_uri": "https://localhost:8080/"
        }
      },
      "outputs": [
        {
          "output_type": "stream",
          "name": "stdout",
          "text": [
            "1 \n",
            "2 4 \n",
            "3 6 9 \n",
            "4 8 12 16 \n",
            "5 10 15 20 25 \n",
            "6 12 18 24 30 36 \n"
          ]
        }
      ],
      "source": [
        "''' Pattern\n",
        "Write a function that will print the following pattern:\n",
        "1\n",
        "2 4\n",
        "3 6 9\n",
        "4 8 12 16\n",
        "5 10 15 20 25\n",
        "6 12 18 24 30 36\n",
        "\n",
        "Only submissions with a written function that will encode this pattern will be considered for evaluation\n",
        "'''\n",
        "\n",
        "# BEGIN_YOUR_CODE\n",
        "def pattern():\n",
        "  for x in range(1, 7):\n",
        "    for y in range(1, x+1):\n",
        "      print(x*y, end=\" \")\n",
        "    print(\"\")\n",
        "\n",
        "pattern()\n",
        "# END_YOUR_CODE"
      ]
    },
    {
      "cell_type": "code",
      "execution_count": 74,
      "metadata": {
        "id": "eQ7SJvrLvnm5",
        "outputId": "f97dab2a-3444-4d29-a5f9-78ae08d82b88",
        "colab": {
          "base_uri": "https://localhost:8080/"
        }
      },
      "outputs": [
        {
          "output_type": "execute_result",
          "data": {
            "text/plain": [
              "['Avengers', 'Age of Ultron', 'Infinity War', 'Endgame']"
            ]
          },
          "metadata": {},
          "execution_count": 74
        }
      ],
      "source": [
        "''' Reversing\n",
        "Reverse the order of elements in a list given below, so the output is as follows: ['Avengers', 'Age of Ultron', 'Infinity War', 'Endgame']\n",
        "Print the reversed list.\n",
        "'''\n",
        "\n",
        "list1 = [\"Endgame\", \"Infinity War\", \"Age of Ultron\", \"Avengers\"]\n",
        "\n",
        "# BEGIN_YOUR_CODE\n",
        "list1.reverse()\n",
        "list1\n",
        "# END_YOUR_CODE"
      ]
    },
    {
      "cell_type": "code",
      "execution_count": 75,
      "metadata": {
        "id": "vsIKrnuFvnm7",
        "outputId": "835c635f-a69e-4550-c53e-66f23a110008",
        "colab": {
          "base_uri": "https://localhost:8080/"
        }
      },
      "outputs": [
        {
          "output_type": "execute_result",
          "data": {
            "text/plain": [
              "[(3, 'Chris Evans'), (4, 'Chris Hemsworth')]"
            ]
          },
          "metadata": {},
          "execution_count": 75
        }
      ],
      "source": [
        "'''Numbering a list\n",
        "Write a function that will return a numbered list of the famous actors whose name starts from 'C' using \"enumerate()\" function.\n",
        "'''\n",
        "\n",
        "actors = ['Robert Downey Jr.', 'Scarlett Johansson', 'Chris Evans', 'Chris Hemsworth', 'Mark Ruffalo']\n",
        "\n",
        "# BEGIN_YOUR_CODE\n",
        "def number_list(actors):\n",
        "  return [(idx+1, actor) for idx, actor in enumerate(actors) if actor.split(\" \")[0] == \"Chris\"]\n",
        "\n",
        "number_list(actors)\n",
        "# END_YOUR_CODE"
      ]
    },
    {
      "cell_type": "code",
      "execution_count": 76,
      "metadata": {
        "id": "Izsh0n6Hvnm8",
        "outputId": "f89a4d8e-fc41-483e-f209-9be3ae6a55b5",
        "colab": {
          "base_uri": "https://localhost:8080/"
        }
      },
      "outputs": [
        {
          "output_type": "execute_result",
          "data": {
            "text/plain": [
              "[('Robert Downey Jr.', 'Iron Man'),\n",
              " ('Scarlett Johansson', 'Black Widow'),\n",
              " ('Chris Evans', 'Captain America'),\n",
              " ('Chris Hemsworth', 'Thor'),\n",
              " ('Mark Ruffalo', 'Hulk')]"
            ]
          },
          "metadata": {},
          "execution_count": 76
        }
      ],
      "source": [
        "'''Combining lists\n",
        "Combine two lists given below using zip() function and print out the result\n",
        "'''\n",
        "\n",
        "actors = ['Robert Downey Jr.', 'Scarlett Johansson', 'Chris Evans', 'Chris Hemsworth', 'Mark Ruffalo']\n",
        "role = ['Iron Man', 'Black Widow', 'Captain America', 'Thor', 'Hulk']\n",
        "\n",
        "# BEGIN_YOUR_CODE\n",
        "combined = list(zip(actors, role))\n",
        "combined\n",
        "# END_YOUR_CODE"
      ]
    },
    {
      "cell_type": "code",
      "execution_count": 171,
      "metadata": {
        "id": "tM242AlVvnm9"
      },
      "outputs": [],
      "source": [
        "''' Sum function\n",
        "Modify the function below to return a sum of a and b\n",
        "'''\n",
        "\n",
        "def add(a: int, b: int) -> int:\n",
        "  \n",
        "  # BEGIN_YOUR_CODE\n",
        "  return a+b\n",
        "  raise Exception(\"Not implemented yet\")\n",
        "  # END_YOUR_CODE"
      ]
    },
    {
      "cell_type": "markdown",
      "metadata": {
        "id": "o4HwFdtlvnm_"
      },
      "source": [
        "We defined ```add_test``` to test your ```add``` function. For this function we ```import random``` library. This is a very commonly used package that helps to generate random values. For example:\n",
        "\n",
        "``` python\n",
        "random.randint(0, 100) #Returns any random integer from 0 to 100\n",
        "```"
      ]
    },
    {
      "cell_type": "code",
      "execution_count": 172,
      "metadata": {
        "id": "TfVs9QUIvnnA"
      },
      "outputs": [],
      "source": [
        "import random\n",
        "\n",
        "def add_test():\n",
        "  a = random.randint(0, 9)\n",
        "  b = random.randint(0, 9)\n",
        "  result = add(a, b)\n",
        "\n",
        "  return('Value of a is {0}, value of b is {1}, and their sum is {2}.'.format(a, b,result))"
      ]
    },
    {
      "cell_type": "code",
      "execution_count": 173,
      "metadata": {
        "id": "cOLrlf2GvnnB",
        "outputId": "40649481-7fd6-4eb0-fb71-9ffaad47cbf7",
        "colab": {
          "base_uri": "https://localhost:8080/"
        }
      },
      "outputs": [
        {
          "output_type": "stream",
          "name": "stdout",
          "text": [
            "Value of a is 3, value of b is 3, and their sum is 6.\n"
          ]
        }
      ],
      "source": [
        "# Here we call our function 'add_test' to test your add function with random values\n",
        "if __name__ == '__main__':\n",
        "   print(add_test())"
      ]
    },
    {
      "cell_type": "markdown",
      "metadata": {
        "id": "-JmI82NyvnnC"
      },
      "source": [
        "In this section we will explore one of the most commonly used package - Numpy. You can refer to the [Official NumPy Guide](https://numpy.org/doc/stable/)."
      ]
    },
    {
      "cell_type": "code",
      "execution_count": 80,
      "metadata": {
        "id": "CstiC-8CvnnC"
      },
      "outputs": [],
      "source": [
        "'''Import the numpy package\n",
        "'''\n",
        "\n",
        "# BEGIN_YOUR_CODE\n",
        "import numpy as np\n",
        "# END_YOUR_CODE"
      ]
    },
    {
      "cell_type": "code",
      "execution_count": 81,
      "metadata": {
        "id": "2Cdaj9aTvnnE",
        "outputId": "efa4d4d0-89ba-417e-efcc-60a63f890df6",
        "colab": {
          "base_uri": "https://localhost:8080/"
        }
      },
      "outputs": [
        {
          "output_type": "execute_result",
          "data": {
            "text/plain": [
              "array([46, 43, 11, 28, 46, 27, 40,  5, 20, 43])"
            ]
          },
          "metadata": {},
          "execution_count": 81
        }
      ],
      "source": [
        "''' Random integers\n",
        "Create an array of random integers from 0 to 50 with the length 10 using numpy random generator.\n",
        "Print the results.\n",
        "'''\n",
        "\n",
        "# BEGIN_YOUR_CODE\n",
        "rand_array = np.random.randint(0, 51, 10)\n",
        "rand_array\n",
        "# END_YOUR_CODE"
      ]
    },
    {
      "cell_type": "code",
      "execution_count": 82,
      "metadata": {
        "colab": {
          "base_uri": "https://localhost:8080/"
        },
        "id": "D_NEdSyVvnnF",
        "outputId": "3a6417cb-5029-42c2-a49f-0d6d4603d248"
      },
      "outputs": [
        {
          "output_type": "stream",
          "name": "stdout",
          "text": [
            "The first 2 elements are [46 43] \n",
            "The last two elements are [20 43] \n",
            "Elements in the middle are [11 28 46 27 40  5].\n"
          ]
        }
      ],
      "source": [
        "''' Slicing\n",
        "Slice the above array and extract the first 2 elements, the last two elements, and all elements that are left in the middle.\n",
        "'''\n",
        "\n",
        "# BEGIN_YOUR_CODE\n",
        "first_two = rand_array[:2]\n",
        "last_two = rand_array[-2:]\n",
        "middle = rand_array[2:-2]\n",
        "# END_YOUR_CODE\n",
        "\n",
        "print('The first 2 elements are {0} \\nThe last two elements are {1} \\nElements in the middle are {2}.'.format(first_two, last_two, middle))"
      ]
    },
    {
      "cell_type": "code",
      "execution_count": 83,
      "metadata": {
        "id": "sHAJk2Qf4cKz",
        "outputId": "aeda1024-1006-4f73-8d98-063c97ab4480",
        "colab": {
          "base_uri": "https://localhost:8080/"
        }
      },
      "outputs": [
        {
          "output_type": "stream",
          "name": "stdout",
          "text": [
            "[[1 2], [3 4], [5 6], [7 8], [ 9 10]]\n"
          ]
        }
      ],
      "source": [
        "'''Split an array\n",
        "For the above list 'array' split the list into 5 equal parts  and print it in the form\n",
        "[array([1,2]), array([3,4]), array([5,6]), array([7,8]), array([9,10])]\n",
        "\n",
        "'''\n",
        "\n",
        "# BEGIN_YOUR_CODE\n",
        "array = np.array([1,2,3,4,5,6,7,8,9,10])\n",
        "split_array = np.array_split(array, 5)\n",
        "\n",
        "print('[{}]'.format(', '.join([str(a) for a in split_array])))\n",
        "# END_YOUR_CODE"
      ]
    },
    {
      "cell_type": "code",
      "execution_count": 90,
      "metadata": {
        "id": "zMNArJqJ4cKz",
        "outputId": "53c16540-3ba1-463b-d8aa-5a4badf34ccf",
        "colab": {
          "base_uri": "https://localhost:8080/"
        }
      },
      "outputs": [
        {
          "output_type": "stream",
          "name": "stdout",
          "text": [
            "Element of array1: [21  8 90 96 38 62 38 99 50 76]\n",
            "Element of array2: [82 10 93 44 68 73 85 55 90 44]\n",
            "Unique elements of array1: [ 8 21 38 50 62 76 96 99]\n",
            "Common elements of both arrays: [90]\n"
          ]
        }
      ],
      "source": [
        "'''Generate two arrays of size 10 (integers randomly selected between 1 and 100). \n",
        "Print unique elements of array1 and common elements of both arrays separately\n",
        "'''\n",
        "\n",
        "# BEGIN_YOUR_CODE\n",
        "array1 = np.random.randint(1, 100, 10)\n",
        "array2 = np.random.randint(1, 100, 10)\n",
        "\n",
        "unique_elements = np.setdiff1d(array1, array2)\n",
        "common_elements = np.intersect1d(array1, array2)\n",
        "\n",
        "print(\"Element of array1:\", array1)\n",
        "print(\"Element of array2:\", array2)\n",
        "print(\"Unique elements of array1:\", unique_elements)\n",
        "print(\"Common elements of both arrays:\", common_elements)\n",
        "# END_YOUR_CODE"
      ]
    },
    {
      "cell_type": "code",
      "execution_count": 92,
      "metadata": {
        "id": "x39Fry3OvnnF",
        "outputId": "03af5d3d-f752-4dc9-cb01-d39e7bfff0f4",
        "colab": {
          "base_uri": "https://localhost:8080/"
        }
      },
      "outputs": [
        {
          "output_type": "stream",
          "name": "stdout",
          "text": [
            "Original array shape: (8,)\n",
            "new 2D matrix shape: (2, 4)\n"
          ]
        }
      ],
      "source": [
        "'''Changing dimensions\n",
        "Convert your 1D array defined above to a 2D matrix and print its shape. The final output dimension should be 2x4.\n",
        "'''\n",
        "\n",
        "# BEGIN_YOUR_CODE\n",
        "array = unique_elements.reshape(2, 4)\n",
        "\n",
        "print(\"Original array shape:\", unique_elements.shape)\n",
        "print(\"new 2D matrix shape:\", array.shape)\n",
        "# END_YOUR_CODE"
      ]
    },
    {
      "cell_type": "code",
      "execution_count": 93,
      "metadata": {
        "id": "GTPk6XwivnnG",
        "outputId": "a4dd0221-e727-4d51-f95d-080f7f0b49b5",
        "colab": {
          "base_uri": "https://localhost:8080/"
        }
      },
      "outputs": [
        {
          "output_type": "execute_result",
          "data": {
            "text/plain": [
              "('The dimension of matrix A is (3, 2)',\n",
              " 'The dimension of the new 1D array from matrix A is (1, 6)')"
            ]
          },
          "metadata": {},
          "execution_count": 93
        }
      ],
      "source": [
        "'''Changing dimensions\n",
        "Convert a matrix below to 1D array and print its dimension\n",
        "'''\n",
        "\n",
        "A = np.array([[3,4], [5,6], [7,8]])\n",
        "\n",
        "# BEGIN_YOUR_CODE\n",
        "Ato1D = np.reshape(A, (1, -1))\n",
        "f\"The dimension of matrix A is {A.shape}\", f\"The dimension of the new 1D array from matrix A is {Ato1D.shape}\"\n",
        "# END_YOUR_CODE"
      ]
    },
    {
      "cell_type": "code",
      "execution_count": 94,
      "metadata": {
        "id": "ALyMwuojvnnM",
        "outputId": "e2196915-a22f-436c-c693-de6aa73bf575",
        "colab": {
          "base_uri": "https://localhost:8080/"
        }
      },
      "outputs": [
        {
          "output_type": "stream",
          "name": "stdout",
          "text": [
            "\n",
            "Matrix A is \n",
            "[[0.112627   0.13976154 0.67586577 0.19428197 0.26566657 0.01623507]\n",
            " [0.15707257 0.55776434 0.21854345 0.70060564 0.5158252  0.45124723]\n",
            " [0.56650553 0.70023161 0.39172193 0.00500979 0.00544782 0.17123163]\n",
            " [0.02097878 0.10490447 0.17715259 0.59272633 0.1723836  0.9566835 ]] \n",
            "Matrix B is \n",
            "[[0.31936387 0.9111481  0.385952   0.30202913]\n",
            " [0.37663821 0.11200386 0.62326323 0.5706737 ]\n",
            " [0.68869876 0.21863316 0.62541886 0.92227388]\n",
            " [0.48640542 0.69280437 0.07939861 0.70357098]\n",
            " [0.42780542 0.03637729 0.00436702 0.65437503]\n",
            " [0.57378257 0.72090252 0.65240694 0.28458551]], \n",
            "Their product is \n",
            "[[0.77154525 0.4220079  0.58045381 1.05226521]\n",
            " [1.23111826 1.08282121 0.89721422 1.52618618]\n",
            " [0.8174509  0.80735277 1.0121971  0.98779952]\n",
            " [1.07919592 1.17618569 0.85623588 1.03167245]]\n"
          ]
        }
      ],
      "source": [
        "''' Matrices\n",
        "Create two matrices A and B of size 4X6 and 6X4 respectively with random values from 0 to 1, and perform the dot product on them\n",
        "'''\n",
        "\n",
        "# BEGIN_YOUR_CODE\n",
        "A = np.random.rand(4,6)\n",
        "B = np.random.rand(6,4)\n",
        "dot_product = np.dot(A, B)\n",
        "# END_YOUR_CODE\n",
        "\n",
        "print('\\nMatrix A is \\n{0} \\nMatrix B is \\n{1}, \\nTheir product is \\n{2}'.format(A, B, dot_product))"
      ]
    },
    {
      "cell_type": "code",
      "execution_count": 95,
      "metadata": {
        "id": "khuCG55GvnnO",
        "outputId": "68cb41de-d55a-40f1-888f-4d3ada0b4f1c",
        "colab": {
          "base_uri": "https://localhost:8080/"
        }
      },
      "outputs": [
        {
          "output_type": "execute_result",
          "data": {
            "text/plain": [
              "array([[0.56313499, 0.69880772, 3.37932886, 0.97140984, 1.32833286,\n",
              "        0.08117533],\n",
              "       [0.78536285, 2.78882168, 1.09271723, 3.50302822, 2.57912598,\n",
              "        2.25623614],\n",
              "       [2.83252765, 3.50115803, 1.95860963, 0.02504893, 0.02723909,\n",
              "        0.85615814],\n",
              "       [0.10489388, 0.52452233, 0.88576296, 2.96363165, 0.86191798,\n",
              "        4.78341752]])"
            ]
          },
          "metadata": {},
          "execution_count": 95
        }
      ],
      "source": [
        "''' Multiply the Matrix A from previous question with a scalar 5 using multiply() function\n",
        "'''\n",
        "\n",
        "# BEGIN_YOUR_CODE\n",
        "result = np.multiply(A, 5)\n",
        "result\n",
        "# END_YOUR_CODE"
      ]
    },
    {
      "cell_type": "code",
      "execution_count": 96,
      "metadata": {
        "id": "cf2kSBLXvnnN",
        "outputId": "02ab61ad-8065-4b3b-83fd-4665822bc381",
        "colab": {
          "base_uri": "https://localhost:8080/"
        }
      },
      "outputs": [
        {
          "output_type": "execute_result",
          "data": {
            "text/plain": [
              "array([0.67586577, 0.70060564, 0.70023161, 0.9566835 ])"
            ]
          },
          "metadata": {},
          "execution_count": 96
        }
      ],
      "source": [
        "''' Maximum value\n",
        "Return the maximum value in each row of Matrix A created in the previous question. \n",
        "Result should come in the form: [row1_max row2_max row3_max row4_max row5_max]\n",
        "Print our the results\n",
        "'''\n",
        "\n",
        "# BEGIN_YOUR_CODE\n",
        "result = np.amax(A, axis=1)\n",
        "result\n",
        "# END_YOUR_CODE"
      ]
    },
    {
      "cell_type": "code",
      "execution_count": 97,
      "metadata": {
        "id": "KVFM3ERnvnnP",
        "outputId": "5c253e94-6f9e-4461-c664-ab4a6ccc4773",
        "colab": {
          "base_uri": "https://localhost:8080/"
        }
      },
      "outputs": [
        {
          "output_type": "stream",
          "name": "stdout",
          "text": [
            "\n",
            "Matrix A is \n",
            "[[3 7 5 5]\n",
            " [1 4 3 3]\n",
            " [3 0 6 2]] \n",
            "Matrix B is \n",
            "[[0 5 5 6]\n",
            " [0 7 6 7]\n",
            " [5 6 1 4]], \n",
            "Their element-wise multiplication is \n",
            "[[ 0 35 25 30]\n",
            " [ 0 28 18 21]\n",
            " [15  0  6  8]]\n"
          ]
        }
      ],
      "source": [
        "''' Element-wise multiplication\n",
        "Define two matrices A (3X4) and B (3X4) with random values from 0 to 9. Perform element-wise multiplication of Matrices A and B\n",
        "''' \n",
        "\n",
        "# BEGIN_YOUR_CODE\n",
        "A = np.random.randint(0, 9, (3, 4))\n",
        "B = np.random.randint(0, 9, (3, 4))\n",
        "multiplication = np.multiply(A, B)\n",
        "# END_YOUR_CODE\n",
        "\n",
        "print('\\nMatrix A is \\n{0} \\nMatrix B is \\n{1}, \\nTheir element-wise multiplication is \\n{2}'.format(A, B, multiplication))"
      ]
    },
    {
      "cell_type": "markdown",
      "metadata": {
        "id": "uiyFNoJivnnQ"
      },
      "source": [
        "<a id='part3'></a>\n",
        "## Part 2 - Algorithms [30 points]"
      ]
    },
    {
      "cell_type": "markdown",
      "metadata": {
        "id": "bE9PC_sEvnnQ"
      },
      "source": [
        "### Euclidian Distance\n",
        "\n",
        "Let point $p$ have Cartesian coordinates $(p_1,p_2)$ and let point $q$ have coordinates $(q_1,q_2)$. Then the distance between $p$ and $q$ is given by:\n",
        "    $d(p,q) = \\sqrt{(q_1-p_1)^2 + (q_2-p_2)^2}$.</math>"
      ]
    },
    {
      "cell_type": "code",
      "execution_count": 174,
      "metadata": {
        "id": "eWfSpbVqvnnR"
      },
      "outputs": [],
      "source": [
        "''' Euclidean distance\n",
        "Using numpy library return the Euclidean distance between two locations, where the locations are pairs of numbers (e.g., (3, 5)) '''\n",
        "\n",
        "def euclidean_distance(loc1: int, loc2: int) -> float:\n",
        "  # BEGIN_YOUR_CODE\n",
        "  p1, p2 = loc1\n",
        "  q1, q2 = loc2 \n",
        "  return np.sqrt(np.square(q1 - p1) + np.square(q2 - p2))\n",
        "  raise Exception(\"Not implemented yet\")\n",
        "  # END_YOUR_CODE"
      ]
    },
    {
      "cell_type": "code",
      "execution_count": 175,
      "metadata": {
        "id": "aKXPrvGBvnnR"
      },
      "outputs": [],
      "source": [
        "def euclidean_distance_test():\n",
        "  random.seed(42)\n",
        "  for _ in range(10):\n",
        "      x1 = random.randint(0, 10)\n",
        "      x2 = random.randint(0, 10)\n",
        "      y1 = random.randint(0, 10)\n",
        "      y2 = random.randint(0, 10)\n",
        "      dist = euclidean_distance((x1, x2), (y1, y2))\n",
        "  return('Loc1 is ({0}, {1}), loc2 is ({2}, {3}). Euclidian disctance is {4}.'.format(x1, x2, y1, y2, dist))"
      ]
    },
    {
      "cell_type": "code",
      "execution_count": 176,
      "metadata": {
        "id": "yI3g4R1hvnnR",
        "outputId": "5fa9615f-fdcf-492b-f631-64d76234a367",
        "colab": {
          "base_uri": "https://localhost:8080/"
        }
      },
      "outputs": [
        {
          "output_type": "stream",
          "name": "stdout",
          "text": [
            "Loc1 is (3, 5), loc2 is (1, 1). Euclidian disctance is 4.47213595499958.\n"
          ]
        }
      ],
      "source": [
        "if __name__ == '__main__':\n",
        "  print(euclidean_distance_test())"
      ]
    },
    {
      "cell_type": "markdown",
      "metadata": {
        "id": "lTuFruDrvnnR"
      },
      "source": [
        "### String Operations"
      ]
    },
    {
      "cell_type": "code",
      "execution_count": 178,
      "metadata": {
        "id": "AGJHIeXkvnnS"
      },
      "outputs": [],
      "source": [
        "''' Alphabetically first word\n",
        "Given a string, lowercase, sort out  all words in the alphabetical order and return the word that comes first.\n",
        "If the input text is an empty string, return an empty string or throw an error. '''\n",
        "\n",
        "def first_word(text: str) -> str:\n",
        "    \n",
        "  # BEGIN_YOUR_CODE\n",
        "  text = text.split()\n",
        "  words = [(w.lower(),idx) for idx, w in enumerate(text)]\n",
        "  if not words:\n",
        "      return \"\"\n",
        "  retIdx = sorted(words, key = lambda x:x[0])[0][1]\n",
        "  return text[retIdx]\n",
        "  raise Exception(\"Not implemented yet\")\n",
        "  # END_YOUR_CODE"
      ]
    },
    {
      "cell_type": "code",
      "execution_count": 179,
      "metadata": {
        "id": "Suevhw9TvnnS"
      },
      "outputs": [],
      "source": [
        "def first_word_test():\n",
        "  result0 = first_word('WelCome tO Ub')\n",
        "  result1 = first_word('CSE574 IntRo to ML cLasS')\n",
        "  result2 = first_word('SequenCes of DeCiSions')\n",
        "  result3 = first_word('Wolf, Panther, Leopard, Dog, Cat')\n",
        "  return result0, result1, result2, result3"
      ]
    },
    {
      "cell_type": "code",
      "execution_count": 180,
      "metadata": {
        "id": "DfSoFXLrvnnT",
        "outputId": "1a1823cc-c8c5-429b-9744-69bde5936c30",
        "colab": {
          "base_uri": "https://localhost:8080/"
        }
      },
      "outputs": [
        {
          "output_type": "stream",
          "name": "stdout",
          "text": [
            "('tO', 'cLasS', 'DeCiSions', 'Cat')\n"
          ]
        }
      ],
      "source": [
        "if __name__ == '__main__':\n",
        "  print(first_word_test())"
      ]
    },
    {
      "cell_type": "markdown",
      "metadata": {
        "id": "zW6tTqawDOBv"
      },
      "source": [
        "## Load from Drive*\n",
        "\n",
        "*If you are using Goolge Colab, uncomment the following piece of code and verify the file using the command, if you can see your file ```penguins.csv``` you are good to go."
      ]
    },
    {
      "cell_type": "code",
      "execution_count": 181,
      "metadata": {
        "id": "cpnuC4e04cK2",
        "outputId": "6c0bf1d7-d70b-4d4d-f19b-2795396d6331",
        "colab": {
          "base_uri": "https://localhost:8080/"
        }
      },
      "outputs": [
        {
          "output_type": "stream",
          "name": "stdout",
          "text": [
            "/content/drive/MyDrive\n",
            "'1080p (1).mov'\n",
            " 1080p.mov\n",
            " 2-11.pdf\n",
            " 360EAS.gdoc\n",
            "'442 Meeting Notes.gdoc'\n",
            "'Applicable course work.gdoc'\n",
            " ART250.gdoc\n",
            "'ART250 PJ1.gdoc'\n",
            "'Baudrillard’s Theory presented in his written scholarly article Simulacra and Simulation.gdoc'\n",
            "'‘Beneatha’s Place’ adds to the conversation started by ‘Clybourne Park’ - The Washington Post.pdf'\n",
            "'bio 200.gdoc'\n",
            "'Chinese textbook.pdf'\n",
            "'Colab Notebooks'\n",
            "'Copy of W1-LEC-EX.drawio'\n",
            "'cse191 notes .gdoc'\n",
            " CSE220.gdoc\n",
            "'CSE220 - Line chart 1.gsheet'\n",
            " CSE331WH2.gdoc\n",
            " CSE365.gdoc\n",
            "'CSE443 HW2.gdoc'\n",
            "'CSE443 HW3.gdoc'\n",
            "'Department_of_Computer_Science_and_Engineering (1).gslides'\n",
            " Department_of_Computer_Science_and_Engineering.gslides\n",
            " EAS360.pdf\n",
            "'EAS503-lecture questions.gdoc'\n",
            " EAS508_Fall22_Lecture2.pdf\n",
            " eas508_fall22_lecture3.pdf\n",
            " eas508_fall22_lecture4.pdf\n",
            "'EAS508 HW1.gdoc'\n",
            "'Exam 2.gdoc'\n",
            " exported_2020-10-07_12-25-45.mp4\n",
            "'Extra Credit Questions: Ze Ming Zhang.gdoc'\n",
            " Final.drawio\n",
            "'final final.gslides'\n",
            " final.gslides\n",
            "'Getting started.pdf'\n",
            "'Git 250 Repo.gdoc'\n",
            "'GP self assessment noteson readings(1).docx'\n",
            "'GP self assessment note taking I (3) (1).docx'\n",
            " He.gdoc\n",
            "'How is the US economy doing? (1).gslides'\n",
            "'How is the US economy doing?.gslides'\n",
            "'How is the US economy doing?.pptx'\n",
            " HW2_CSE489.gdoc\n",
            "'HW 3.gdoc'\n",
            "'HW 3 - Line chart 1.gsheet'\n",
            "'IMG_4029 (1).MOV'\n",
            "'IMG_4029 (2).MOV'\n",
            " IMG_4029.MOV\n",
            " IMG-4355.JPG\n",
            " IMG-4356.JPG\n",
            " IMG-4357.JPG\n",
            " KOs.gdoc\n",
            "'labs cse 489.gdoc'\n",
            "'Legit Review: ‘Beneatha’s Place’ – Variety (1).pdf'\n",
            "'Legit Review: ‘Beneatha’s Place’ – Variety.pdf'\n",
            " letter.gdoc\n",
            "'letter to docs .gdoc'\n",
            "'megabus | Low cost bus tickets from $1.pdf'\n",
            " MEMORANDUM.docx\n",
            " MEMORANDUM.gdoc\n",
            " MGS439.gdoc\n",
            "'MindTap Reader.webarchive'\n",
            "'Mulian And His Mother .gdoc'\n",
            " Nnnn.gdoc\n",
            " PatternRecLab\n",
            " PHY107_CHAP1-6.gslides\n",
            "'Pie Your RA.gdoc'\n",
            " Popout.webarchive\n",
            "'presentational IPA2.gdoc'\n",
            "'Project_Management_Plan(2).gdoc'\n",
            " Reflection.gdoc\n",
            " Report.gdoc\n",
            "'Response Assigment One (1) Short Version .gdoc'\n",
            " Resume.gdoc\n",
            " review.gdoc\n",
            " screenshots.zip\n",
            "'Slam Line Kick out.gdoc'\n",
            "'Spanish Quiz 2, Ze Ming Zhang.gdoc'\n",
            "'SPA Yoga.gdoc'\n",
            "'Team5 (1).mp4'\n",
            " Team5.mp4\n",
            " Test\n",
            "'TH Drag Show Review.gdoc'\n",
            "'th test.gdoc'\n",
            " UBNetDef_Instructional_Report_Style_Guide.docx\n",
            "'UB NSL.gdoc'\n",
            "'Untitled Diagram.drawio'\n",
            "'Untitled document (10).gdoc'\n",
            "'Untitled document (11).gdoc'\n",
            "'Untitled document (12).gdoc'\n",
            "'Untitled document (13).gdoc'\n",
            "'Untitled document (14).gdoc'\n",
            "'Untitled document (15).gdoc'\n",
            "'Untitled document (16).gdoc'\n",
            "'Untitled document (17).gdoc'\n",
            "'Untitled document (18).gdoc'\n",
            "'Untitled document (19).gdoc'\n",
            "'Untitled document (1).gdoc'\n",
            "'Untitled document (20).gdoc'\n",
            "'Untitled document (21).gdoc'\n",
            "'Untitled document (22).gdoc'\n",
            "'Untitled document (23).gdoc'\n",
            "'Untitled document (24).gdoc'\n",
            "'Untitled document (25).gdoc'\n",
            "'Untitled document (26).gdoc'\n",
            "'Untitled document (27).gdoc'\n",
            "'Untitled document (28).gdoc'\n",
            "'Untitled document (29).gdoc'\n",
            "'Untitled document (2).gdoc'\n",
            "'Untitled document (30).gdoc'\n",
            "'Untitled document (31).gdoc'\n",
            "'Untitled document (32).gdoc'\n",
            "'Untitled document (33).gdoc'\n",
            "'Untitled document (34).gdoc'\n",
            "'Untitled document (35).gdoc'\n",
            "'Untitled document (36).gdoc'\n",
            "'Untitled document (37).gdoc'\n",
            "'Untitled document (38).gdoc'\n",
            "'Untitled document (3).gdoc'\n",
            "'Untitled document (4).gdoc'\n",
            "'Untitled document (5).gdoc'\n",
            "'Untitled document (6).gdoc'\n",
            "'Untitled document (7).gdoc'\n",
            "'Untitled document (8).gdoc'\n",
            "'Untitled document (9).gdoc'\n",
            "'Untitled document - Bar chart 1.gsheet'\n",
            "'Untitled document - Column chart 1 (1).gsheet'\n",
            "'Untitled document - Column chart 1.gsheet'\n",
            "'Untitled document.docx'\n",
            "'Untitled document.gdoc'\n",
            "'Untitled document - Line chart 1.gsheet'\n",
            "'Untitled presentation (1).gslides'\n",
            "'Untitled presentation (2).gslides'\n",
            "'Untitled presentation (3).gslides'\n",
            "'Untitled presentation (4).gslides'\n",
            "'Untitled presentation.gslides'\n",
            " W1-LEC-EX.drawio\n",
            "'Week 2.gdoc'\n",
            "'wk 1 503.gdoc'\n",
            "'Wk 1- Bytes Conversion.gdoc'\n",
            " ZEMING.gdoc\n",
            "'Zhang_ZeMing_LGA9_White Paper.gdoc'\n"
          ]
        }
      ],
      "source": [
        "!pwd\n",
        "!ls"
      ]
    },
    {
      "cell_type": "code",
      "execution_count": 182,
      "metadata": {
        "id": "nV7Jv5SPDGsy",
        "outputId": "40ca1ec3-4cba-4e11-efd6-64c5186b1de7",
        "colab": {
          "base_uri": "https://localhost:8080/"
        }
      },
      "outputs": [
        {
          "output_type": "stream",
          "name": "stdout",
          "text": [
            "Drive already mounted at /content/drive; to attempt to forcibly remount, call drive.mount(\"/content/drive\", force_remount=True).\n",
            "/content/drive\n",
            "/content/drive/MyDrive\n"
          ]
        }
      ],
      "source": [
        "from google.colab import drive\n",
        "drive.mount('/content/drive')\n",
        "%cd ..\n",
        "%cd /content/drive/MyDrive"
      ]
    },
    {
      "cell_type": "markdown",
      "metadata": {
        "id": "zGMa8NVpvnnU"
      },
      "source": [
        "<a id='part4'></a>\n",
        "##  Part 3 - Pandas Basics [20 points]\n",
        "\n",
        "Some important resources:\n",
        "\n",
        "- [A Pandas guide](https://pandasguide.readthedocs.io/en/latest/) covers fundamental information about the package\n",
        "\n",
        "- [Pandas Cheat Sheet](https://www.datacamp.com/community/blog/python-pandas-cheat-sheet)\n",
        "\n",
        "### Penguin dataset\n",
        "In this section we will explore with you Palmer Archipelago (Antarctica) penguin dataset. It contains three penguin species and includes measurements of bill length, bill depth, flipper length and body mass. Overall, we are provided with 344 data samples.\n",
        "![image.png](attachment:image.png)\n",
        "\n",
        "The dataset consists of 7 columns:\n",
        "- species: penguin species (Chinstrap, Adélie, or Gentoo)\n",
        "- culmen_length_mm: culmen length (mm)\n",
        "- culmen_depth_mm: culmen depth (mm)\n",
        "- flipper_length_mm: flipper length (mm)\n",
        "- body_mass_g: body mass (g)\n",
        "- island: island name (Dream, Torgersen, or Biscoe) in the Palmer Archipelago (Antarctica)\n",
        "- sex: penguin sex (female, male)\n",
        "\n",
        "#### What are culmen length & depth?\n",
        "The culmen is \"the upper ridge of a bird's beak\"\n",
        "\n",
        "#### What are flippers?\n",
        "Penguins wings are called flippers. They are flat, thin, and broad with a long, tapered shape and a blunt, rounded tip.\n",
        " \n",
        "![image.png](attachment:image-2.png)\n"
      ]
    },
    {
      "cell_type": "code",
      "execution_count": 183,
      "metadata": {
        "id": "-JA6l-hpvnnU"
      },
      "outputs": [],
      "source": [
        "'''Install and import pandas library\n",
        "'''\n",
        "\n",
        "# BEGIN_YOUR_CODE\n",
        "import pandas as pd\n",
        "# END_YOUR_CODE"
      ]
    },
    {
      "cell_type": "code",
      "execution_count": 184,
      "metadata": {
        "id": "vNYL_RNyvnnV",
        "outputId": "51027f2d-d538-4157-8c24-53d56746e2d7",
        "colab": {
          "base_uri": "https://localhost:8080/",
          "height": 468
        }
      },
      "outputs": [
        {
          "output_type": "execute_result",
          "data": {
            "text/plain": [
              "       species     island  bill_length_mm  bill_depth_mm  flipper_length_mm  \\\n",
              "0       Adelie  Torgersen            39.1           18.7              181.0   \n",
              "1       Adelie  Torgersen            39.5           17.4              186.0   \n",
              "2       Adelie  Torgersen            40.3           18.0              195.0   \n",
              "3       Adelie  Torgersen             NaN            NaN                NaN   \n",
              "4       Adelie  Torgersen            36.7           19.3              193.0   \n",
              "..         ...        ...             ...            ...                ...   \n",
              "339  Chinstrap      Dream            55.8           19.8              207.0   \n",
              "340  Chinstrap      Dream            43.5           18.1              202.0   \n",
              "341  Chinstrap      Dream            49.6           18.2              193.0   \n",
              "342  Chinstrap      Dream            50.8           19.0              210.0   \n",
              "343  Chinstrap      Dream            50.2           18.7              198.0   \n",
              "\n",
              "     body_mass_g     sex  year  \n",
              "0         3750.0    male  2007  \n",
              "1         3800.0  female  2007  \n",
              "2         3250.0  female  2007  \n",
              "3            NaN     NaN  2007  \n",
              "4         3450.0  female  2007  \n",
              "..           ...     ...   ...  \n",
              "339       4000.0    male  2009  \n",
              "340       3400.0  female  2009  \n",
              "341       3775.0    male  2009  \n",
              "342       4100.0    male  2009  \n",
              "343       3775.0  female  2009  \n",
              "\n",
              "[344 rows x 8 columns]"
            ],
            "text/html": [
              "\n",
              "  <div id=\"df-970aea62-aec1-4501-bbda-ed854c5892da\">\n",
              "    <div class=\"colab-df-container\">\n",
              "      <div>\n",
              "<style scoped>\n",
              "    .dataframe tbody tr th:only-of-type {\n",
              "        vertical-align: middle;\n",
              "    }\n",
              "\n",
              "    .dataframe tbody tr th {\n",
              "        vertical-align: top;\n",
              "    }\n",
              "\n",
              "    .dataframe thead th {\n",
              "        text-align: right;\n",
              "    }\n",
              "</style>\n",
              "<table border=\"1\" class=\"dataframe\">\n",
              "  <thead>\n",
              "    <tr style=\"text-align: right;\">\n",
              "      <th></th>\n",
              "      <th>species</th>\n",
              "      <th>island</th>\n",
              "      <th>bill_length_mm</th>\n",
              "      <th>bill_depth_mm</th>\n",
              "      <th>flipper_length_mm</th>\n",
              "      <th>body_mass_g</th>\n",
              "      <th>sex</th>\n",
              "      <th>year</th>\n",
              "    </tr>\n",
              "  </thead>\n",
              "  <tbody>\n",
              "    <tr>\n",
              "      <th>0</th>\n",
              "      <td>Adelie</td>\n",
              "      <td>Torgersen</td>\n",
              "      <td>39.1</td>\n",
              "      <td>18.7</td>\n",
              "      <td>181.0</td>\n",
              "      <td>3750.0</td>\n",
              "      <td>male</td>\n",
              "      <td>2007</td>\n",
              "    </tr>\n",
              "    <tr>\n",
              "      <th>1</th>\n",
              "      <td>Adelie</td>\n",
              "      <td>Torgersen</td>\n",
              "      <td>39.5</td>\n",
              "      <td>17.4</td>\n",
              "      <td>186.0</td>\n",
              "      <td>3800.0</td>\n",
              "      <td>female</td>\n",
              "      <td>2007</td>\n",
              "    </tr>\n",
              "    <tr>\n",
              "      <th>2</th>\n",
              "      <td>Adelie</td>\n",
              "      <td>Torgersen</td>\n",
              "      <td>40.3</td>\n",
              "      <td>18.0</td>\n",
              "      <td>195.0</td>\n",
              "      <td>3250.0</td>\n",
              "      <td>female</td>\n",
              "      <td>2007</td>\n",
              "    </tr>\n",
              "    <tr>\n",
              "      <th>3</th>\n",
              "      <td>Adelie</td>\n",
              "      <td>Torgersen</td>\n",
              "      <td>NaN</td>\n",
              "      <td>NaN</td>\n",
              "      <td>NaN</td>\n",
              "      <td>NaN</td>\n",
              "      <td>NaN</td>\n",
              "      <td>2007</td>\n",
              "    </tr>\n",
              "    <tr>\n",
              "      <th>4</th>\n",
              "      <td>Adelie</td>\n",
              "      <td>Torgersen</td>\n",
              "      <td>36.7</td>\n",
              "      <td>19.3</td>\n",
              "      <td>193.0</td>\n",
              "      <td>3450.0</td>\n",
              "      <td>female</td>\n",
              "      <td>2007</td>\n",
              "    </tr>\n",
              "    <tr>\n",
              "      <th>...</th>\n",
              "      <td>...</td>\n",
              "      <td>...</td>\n",
              "      <td>...</td>\n",
              "      <td>...</td>\n",
              "      <td>...</td>\n",
              "      <td>...</td>\n",
              "      <td>...</td>\n",
              "      <td>...</td>\n",
              "    </tr>\n",
              "    <tr>\n",
              "      <th>339</th>\n",
              "      <td>Chinstrap</td>\n",
              "      <td>Dream</td>\n",
              "      <td>55.8</td>\n",
              "      <td>19.8</td>\n",
              "      <td>207.0</td>\n",
              "      <td>4000.0</td>\n",
              "      <td>male</td>\n",
              "      <td>2009</td>\n",
              "    </tr>\n",
              "    <tr>\n",
              "      <th>340</th>\n",
              "      <td>Chinstrap</td>\n",
              "      <td>Dream</td>\n",
              "      <td>43.5</td>\n",
              "      <td>18.1</td>\n",
              "      <td>202.0</td>\n",
              "      <td>3400.0</td>\n",
              "      <td>female</td>\n",
              "      <td>2009</td>\n",
              "    </tr>\n",
              "    <tr>\n",
              "      <th>341</th>\n",
              "      <td>Chinstrap</td>\n",
              "      <td>Dream</td>\n",
              "      <td>49.6</td>\n",
              "      <td>18.2</td>\n",
              "      <td>193.0</td>\n",
              "      <td>3775.0</td>\n",
              "      <td>male</td>\n",
              "      <td>2009</td>\n",
              "    </tr>\n",
              "    <tr>\n",
              "      <th>342</th>\n",
              "      <td>Chinstrap</td>\n",
              "      <td>Dream</td>\n",
              "      <td>50.8</td>\n",
              "      <td>19.0</td>\n",
              "      <td>210.0</td>\n",
              "      <td>4100.0</td>\n",
              "      <td>male</td>\n",
              "      <td>2009</td>\n",
              "    </tr>\n",
              "    <tr>\n",
              "      <th>343</th>\n",
              "      <td>Chinstrap</td>\n",
              "      <td>Dream</td>\n",
              "      <td>50.2</td>\n",
              "      <td>18.7</td>\n",
              "      <td>198.0</td>\n",
              "      <td>3775.0</td>\n",
              "      <td>female</td>\n",
              "      <td>2009</td>\n",
              "    </tr>\n",
              "  </tbody>\n",
              "</table>\n",
              "<p>344 rows × 8 columns</p>\n",
              "</div>\n",
              "      <button class=\"colab-df-convert\" onclick=\"convertToInteractive('df-970aea62-aec1-4501-bbda-ed854c5892da')\"\n",
              "              title=\"Convert this dataframe to an interactive table.\"\n",
              "              style=\"display:none;\">\n",
              "        \n",
              "  <svg xmlns=\"http://www.w3.org/2000/svg\" height=\"24px\"viewBox=\"0 0 24 24\"\n",
              "       width=\"24px\">\n",
              "    <path d=\"M0 0h24v24H0V0z\" fill=\"none\"/>\n",
              "    <path d=\"M18.56 5.44l.94 2.06.94-2.06 2.06-.94-2.06-.94-.94-2.06-.94 2.06-2.06.94zm-11 1L8.5 8.5l.94-2.06 2.06-.94-2.06-.94L8.5 2.5l-.94 2.06-2.06.94zm10 10l.94 2.06.94-2.06 2.06-.94-2.06-.94-.94-2.06-.94 2.06-2.06.94z\"/><path d=\"M17.41 7.96l-1.37-1.37c-.4-.4-.92-.59-1.43-.59-.52 0-1.04.2-1.43.59L10.3 9.45l-7.72 7.72c-.78.78-.78 2.05 0 2.83L4 21.41c.39.39.9.59 1.41.59.51 0 1.02-.2 1.41-.59l7.78-7.78 2.81-2.81c.8-.78.8-2.07 0-2.86zM5.41 20L4 18.59l7.72-7.72 1.47 1.35L5.41 20z\"/>\n",
              "  </svg>\n",
              "      </button>\n",
              "      \n",
              "  <style>\n",
              "    .colab-df-container {\n",
              "      display:flex;\n",
              "      flex-wrap:wrap;\n",
              "      gap: 12px;\n",
              "    }\n",
              "\n",
              "    .colab-df-convert {\n",
              "      background-color: #E8F0FE;\n",
              "      border: none;\n",
              "      border-radius: 50%;\n",
              "      cursor: pointer;\n",
              "      display: none;\n",
              "      fill: #1967D2;\n",
              "      height: 32px;\n",
              "      padding: 0 0 0 0;\n",
              "      width: 32px;\n",
              "    }\n",
              "\n",
              "    .colab-df-convert:hover {\n",
              "      background-color: #E2EBFA;\n",
              "      box-shadow: 0px 1px 2px rgba(60, 64, 67, 0.3), 0px 1px 3px 1px rgba(60, 64, 67, 0.15);\n",
              "      fill: #174EA6;\n",
              "    }\n",
              "\n",
              "    [theme=dark] .colab-df-convert {\n",
              "      background-color: #3B4455;\n",
              "      fill: #D2E3FC;\n",
              "    }\n",
              "\n",
              "    [theme=dark] .colab-df-convert:hover {\n",
              "      background-color: #434B5C;\n",
              "      box-shadow: 0px 1px 3px 1px rgba(0, 0, 0, 0.15);\n",
              "      filter: drop-shadow(0px 1px 2px rgba(0, 0, 0, 0.3));\n",
              "      fill: #FFFFFF;\n",
              "    }\n",
              "  </style>\n",
              "\n",
              "      <script>\n",
              "        const buttonEl =\n",
              "          document.querySelector('#df-970aea62-aec1-4501-bbda-ed854c5892da button.colab-df-convert');\n",
              "        buttonEl.style.display =\n",
              "          google.colab.kernel.accessAllowed ? 'block' : 'none';\n",
              "\n",
              "        async function convertToInteractive(key) {\n",
              "          const element = document.querySelector('#df-970aea62-aec1-4501-bbda-ed854c5892da');\n",
              "          const dataTable =\n",
              "            await google.colab.kernel.invokeFunction('convertToInteractive',\n",
              "                                                     [key], {});\n",
              "          if (!dataTable) return;\n",
              "\n",
              "          const docLinkHtml = 'Like what you see? Visit the ' +\n",
              "            '<a target=\"_blank\" href=https://colab.research.google.com/notebooks/data_table.ipynb>data table notebook</a>'\n",
              "            + ' to learn more about interactive tables.';\n",
              "          element.innerHTML = '';\n",
              "          dataTable['output_type'] = 'display_data';\n",
              "          await google.colab.output.renderOutput(dataTable, element);\n",
              "          const docLink = document.createElement('div');\n",
              "          docLink.innerHTML = docLinkHtml;\n",
              "          element.appendChild(docLink);\n",
              "        }\n",
              "      </script>\n",
              "    </div>\n",
              "  </div>\n",
              "  "
            ]
          },
          "metadata": {},
          "execution_count": 184
        }
      ],
      "source": [
        "'''Read given 'DataFile' and extract into Dataframe\n",
        "'''\n",
        "\n",
        "# BEGIN_YOUR_CODE\n",
        "csvUrl = \"https://raw.githubusercontent.com/zemingzhang1/CSE574LECC-Intro-Machine-Learning/main/Assignment%200/penguins.csv\"\n",
        "data = pd.read_csv(csvUrl)\n",
        "data\n",
        "# END_YOUR_CODE"
      ]
    },
    {
      "cell_type": "code",
      "execution_count": 185,
      "metadata": {
        "id": "nQhbLF7CvnnV",
        "outputId": "b9101c53-d19a-4207-bf15-f0701b3b3ecd",
        "colab": {
          "base_uri": "https://localhost:8080/",
          "height": 1000
        }
      },
      "outputs": [
        {
          "output_type": "stream",
          "name": "stdout",
          "text": [
            "Entries of Chinstrap species summary\n"
          ]
        },
        {
          "output_type": "display_data",
          "data": {
            "text/plain": [
              "       bill_length_mm  bill_depth_mm  flipper_length_mm  body_mass_g  \\\n",
              "count       68.000000      68.000000          68.000000    68.000000   \n",
              "mean        48.833824      18.420588         195.823529  3733.088235   \n",
              "std          3.339256       1.135395           7.131894   384.335081   \n",
              "min         40.900000      16.400000         178.000000  2700.000000   \n",
              "25%         46.350000      17.500000         191.000000  3487.500000   \n",
              "50%         49.550000      18.450000         196.000000  3700.000000   \n",
              "75%         51.075000      19.400000         201.000000  3950.000000   \n",
              "max         58.000000      20.800000         212.000000  4800.000000   \n",
              "\n",
              "              year  \n",
              "count    68.000000  \n",
              "mean   2007.970588  \n",
              "std       0.863360  \n",
              "min    2007.000000  \n",
              "25%    2007.000000  \n",
              "50%    2008.000000  \n",
              "75%    2009.000000  \n",
              "max    2009.000000  "
            ],
            "text/html": [
              "\n",
              "  <div id=\"df-a84c597e-de37-43b1-ad40-004daaa64165\">\n",
              "    <div class=\"colab-df-container\">\n",
              "      <div>\n",
              "<style scoped>\n",
              "    .dataframe tbody tr th:only-of-type {\n",
              "        vertical-align: middle;\n",
              "    }\n",
              "\n",
              "    .dataframe tbody tr th {\n",
              "        vertical-align: top;\n",
              "    }\n",
              "\n",
              "    .dataframe thead th {\n",
              "        text-align: right;\n",
              "    }\n",
              "</style>\n",
              "<table border=\"1\" class=\"dataframe\">\n",
              "  <thead>\n",
              "    <tr style=\"text-align: right;\">\n",
              "      <th></th>\n",
              "      <th>bill_length_mm</th>\n",
              "      <th>bill_depth_mm</th>\n",
              "      <th>flipper_length_mm</th>\n",
              "      <th>body_mass_g</th>\n",
              "      <th>year</th>\n",
              "    </tr>\n",
              "  </thead>\n",
              "  <tbody>\n",
              "    <tr>\n",
              "      <th>count</th>\n",
              "      <td>68.000000</td>\n",
              "      <td>68.000000</td>\n",
              "      <td>68.000000</td>\n",
              "      <td>68.000000</td>\n",
              "      <td>68.000000</td>\n",
              "    </tr>\n",
              "    <tr>\n",
              "      <th>mean</th>\n",
              "      <td>48.833824</td>\n",
              "      <td>18.420588</td>\n",
              "      <td>195.823529</td>\n",
              "      <td>3733.088235</td>\n",
              "      <td>2007.970588</td>\n",
              "    </tr>\n",
              "    <tr>\n",
              "      <th>std</th>\n",
              "      <td>3.339256</td>\n",
              "      <td>1.135395</td>\n",
              "      <td>7.131894</td>\n",
              "      <td>384.335081</td>\n",
              "      <td>0.863360</td>\n",
              "    </tr>\n",
              "    <tr>\n",
              "      <th>min</th>\n",
              "      <td>40.900000</td>\n",
              "      <td>16.400000</td>\n",
              "      <td>178.000000</td>\n",
              "      <td>2700.000000</td>\n",
              "      <td>2007.000000</td>\n",
              "    </tr>\n",
              "    <tr>\n",
              "      <th>25%</th>\n",
              "      <td>46.350000</td>\n",
              "      <td>17.500000</td>\n",
              "      <td>191.000000</td>\n",
              "      <td>3487.500000</td>\n",
              "      <td>2007.000000</td>\n",
              "    </tr>\n",
              "    <tr>\n",
              "      <th>50%</th>\n",
              "      <td>49.550000</td>\n",
              "      <td>18.450000</td>\n",
              "      <td>196.000000</td>\n",
              "      <td>3700.000000</td>\n",
              "      <td>2008.000000</td>\n",
              "    </tr>\n",
              "    <tr>\n",
              "      <th>75%</th>\n",
              "      <td>51.075000</td>\n",
              "      <td>19.400000</td>\n",
              "      <td>201.000000</td>\n",
              "      <td>3950.000000</td>\n",
              "      <td>2009.000000</td>\n",
              "    </tr>\n",
              "    <tr>\n",
              "      <th>max</th>\n",
              "      <td>58.000000</td>\n",
              "      <td>20.800000</td>\n",
              "      <td>212.000000</td>\n",
              "      <td>4800.000000</td>\n",
              "      <td>2009.000000</td>\n",
              "    </tr>\n",
              "  </tbody>\n",
              "</table>\n",
              "</div>\n",
              "      <button class=\"colab-df-convert\" onclick=\"convertToInteractive('df-a84c597e-de37-43b1-ad40-004daaa64165')\"\n",
              "              title=\"Convert this dataframe to an interactive table.\"\n",
              "              style=\"display:none;\">\n",
              "        \n",
              "  <svg xmlns=\"http://www.w3.org/2000/svg\" height=\"24px\"viewBox=\"0 0 24 24\"\n",
              "       width=\"24px\">\n",
              "    <path d=\"M0 0h24v24H0V0z\" fill=\"none\"/>\n",
              "    <path d=\"M18.56 5.44l.94 2.06.94-2.06 2.06-.94-2.06-.94-.94-2.06-.94 2.06-2.06.94zm-11 1L8.5 8.5l.94-2.06 2.06-.94-2.06-.94L8.5 2.5l-.94 2.06-2.06.94zm10 10l.94 2.06.94-2.06 2.06-.94-2.06-.94-.94-2.06-.94 2.06-2.06.94z\"/><path d=\"M17.41 7.96l-1.37-1.37c-.4-.4-.92-.59-1.43-.59-.52 0-1.04.2-1.43.59L10.3 9.45l-7.72 7.72c-.78.78-.78 2.05 0 2.83L4 21.41c.39.39.9.59 1.41.59.51 0 1.02-.2 1.41-.59l7.78-7.78 2.81-2.81c.8-.78.8-2.07 0-2.86zM5.41 20L4 18.59l7.72-7.72 1.47 1.35L5.41 20z\"/>\n",
              "  </svg>\n",
              "      </button>\n",
              "      \n",
              "  <style>\n",
              "    .colab-df-container {\n",
              "      display:flex;\n",
              "      flex-wrap:wrap;\n",
              "      gap: 12px;\n",
              "    }\n",
              "\n",
              "    .colab-df-convert {\n",
              "      background-color: #E8F0FE;\n",
              "      border: none;\n",
              "      border-radius: 50%;\n",
              "      cursor: pointer;\n",
              "      display: none;\n",
              "      fill: #1967D2;\n",
              "      height: 32px;\n",
              "      padding: 0 0 0 0;\n",
              "      width: 32px;\n",
              "    }\n",
              "\n",
              "    .colab-df-convert:hover {\n",
              "      background-color: #E2EBFA;\n",
              "      box-shadow: 0px 1px 2px rgba(60, 64, 67, 0.3), 0px 1px 3px 1px rgba(60, 64, 67, 0.15);\n",
              "      fill: #174EA6;\n",
              "    }\n",
              "\n",
              "    [theme=dark] .colab-df-convert {\n",
              "      background-color: #3B4455;\n",
              "      fill: #D2E3FC;\n",
              "    }\n",
              "\n",
              "    [theme=dark] .colab-df-convert:hover {\n",
              "      background-color: #434B5C;\n",
              "      box-shadow: 0px 1px 3px 1px rgba(0, 0, 0, 0.15);\n",
              "      filter: drop-shadow(0px 1px 2px rgba(0, 0, 0, 0.3));\n",
              "      fill: #FFFFFF;\n",
              "    }\n",
              "  </style>\n",
              "\n",
              "      <script>\n",
              "        const buttonEl =\n",
              "          document.querySelector('#df-a84c597e-de37-43b1-ad40-004daaa64165 button.colab-df-convert');\n",
              "        buttonEl.style.display =\n",
              "          google.colab.kernel.accessAllowed ? 'block' : 'none';\n",
              "\n",
              "        async function convertToInteractive(key) {\n",
              "          const element = document.querySelector('#df-a84c597e-de37-43b1-ad40-004daaa64165');\n",
              "          const dataTable =\n",
              "            await google.colab.kernel.invokeFunction('convertToInteractive',\n",
              "                                                     [key], {});\n",
              "          if (!dataTable) return;\n",
              "\n",
              "          const docLinkHtml = 'Like what you see? Visit the ' +\n",
              "            '<a target=\"_blank\" href=https://colab.research.google.com/notebooks/data_table.ipynb>data table notebook</a>'\n",
              "            + ' to learn more about interactive tables.';\n",
              "          element.innerHTML = '';\n",
              "          dataTable['output_type'] = 'display_data';\n",
              "          await google.colab.output.renderOutput(dataTable, element);\n",
              "          const docLink = document.createElement('div');\n",
              "          docLink.innerHTML = docLinkHtml;\n",
              "          element.appendChild(docLink);\n",
              "        }\n",
              "      </script>\n",
              "    </div>\n",
              "  </div>\n",
              "  "
            ]
          },
          "metadata": {}
        },
        {
          "output_type": "stream",
          "name": "stdout",
          "text": [
            "\n",
            "\n",
            "Entries of Gentoo species summary\n"
          ]
        },
        {
          "output_type": "display_data",
          "data": {
            "text/plain": [
              "       bill_length_mm  bill_depth_mm  flipper_length_mm  body_mass_g  \\\n",
              "count      123.000000     123.000000         123.000000   123.000000   \n",
              "mean        47.504878      14.982114         217.186992  5076.016260   \n",
              "std          3.081857       0.981220           6.484976   504.116237   \n",
              "min         40.900000      13.100000         203.000000  3950.000000   \n",
              "25%         45.300000      14.200000         212.000000  4700.000000   \n",
              "50%         47.300000      15.000000         216.000000  5000.000000   \n",
              "75%         49.550000      15.700000         221.000000  5500.000000   \n",
              "max         59.600000      17.300000         231.000000  6300.000000   \n",
              "\n",
              "              year  \n",
              "count   124.000000  \n",
              "mean   2008.080645  \n",
              "std       0.792206  \n",
              "min    2007.000000  \n",
              "25%    2007.000000  \n",
              "50%    2008.000000  \n",
              "75%    2009.000000  \n",
              "max    2009.000000  "
            ],
            "text/html": [
              "\n",
              "  <div id=\"df-3dc2fd6c-5190-45fe-a25a-0f371c726739\">\n",
              "    <div class=\"colab-df-container\">\n",
              "      <div>\n",
              "<style scoped>\n",
              "    .dataframe tbody tr th:only-of-type {\n",
              "        vertical-align: middle;\n",
              "    }\n",
              "\n",
              "    .dataframe tbody tr th {\n",
              "        vertical-align: top;\n",
              "    }\n",
              "\n",
              "    .dataframe thead th {\n",
              "        text-align: right;\n",
              "    }\n",
              "</style>\n",
              "<table border=\"1\" class=\"dataframe\">\n",
              "  <thead>\n",
              "    <tr style=\"text-align: right;\">\n",
              "      <th></th>\n",
              "      <th>bill_length_mm</th>\n",
              "      <th>bill_depth_mm</th>\n",
              "      <th>flipper_length_mm</th>\n",
              "      <th>body_mass_g</th>\n",
              "      <th>year</th>\n",
              "    </tr>\n",
              "  </thead>\n",
              "  <tbody>\n",
              "    <tr>\n",
              "      <th>count</th>\n",
              "      <td>123.000000</td>\n",
              "      <td>123.000000</td>\n",
              "      <td>123.000000</td>\n",
              "      <td>123.000000</td>\n",
              "      <td>124.000000</td>\n",
              "    </tr>\n",
              "    <tr>\n",
              "      <th>mean</th>\n",
              "      <td>47.504878</td>\n",
              "      <td>14.982114</td>\n",
              "      <td>217.186992</td>\n",
              "      <td>5076.016260</td>\n",
              "      <td>2008.080645</td>\n",
              "    </tr>\n",
              "    <tr>\n",
              "      <th>std</th>\n",
              "      <td>3.081857</td>\n",
              "      <td>0.981220</td>\n",
              "      <td>6.484976</td>\n",
              "      <td>504.116237</td>\n",
              "      <td>0.792206</td>\n",
              "    </tr>\n",
              "    <tr>\n",
              "      <th>min</th>\n",
              "      <td>40.900000</td>\n",
              "      <td>13.100000</td>\n",
              "      <td>203.000000</td>\n",
              "      <td>3950.000000</td>\n",
              "      <td>2007.000000</td>\n",
              "    </tr>\n",
              "    <tr>\n",
              "      <th>25%</th>\n",
              "      <td>45.300000</td>\n",
              "      <td>14.200000</td>\n",
              "      <td>212.000000</td>\n",
              "      <td>4700.000000</td>\n",
              "      <td>2007.000000</td>\n",
              "    </tr>\n",
              "    <tr>\n",
              "      <th>50%</th>\n",
              "      <td>47.300000</td>\n",
              "      <td>15.000000</td>\n",
              "      <td>216.000000</td>\n",
              "      <td>5000.000000</td>\n",
              "      <td>2008.000000</td>\n",
              "    </tr>\n",
              "    <tr>\n",
              "      <th>75%</th>\n",
              "      <td>49.550000</td>\n",
              "      <td>15.700000</td>\n",
              "      <td>221.000000</td>\n",
              "      <td>5500.000000</td>\n",
              "      <td>2009.000000</td>\n",
              "    </tr>\n",
              "    <tr>\n",
              "      <th>max</th>\n",
              "      <td>59.600000</td>\n",
              "      <td>17.300000</td>\n",
              "      <td>231.000000</td>\n",
              "      <td>6300.000000</td>\n",
              "      <td>2009.000000</td>\n",
              "    </tr>\n",
              "  </tbody>\n",
              "</table>\n",
              "</div>\n",
              "      <button class=\"colab-df-convert\" onclick=\"convertToInteractive('df-3dc2fd6c-5190-45fe-a25a-0f371c726739')\"\n",
              "              title=\"Convert this dataframe to an interactive table.\"\n",
              "              style=\"display:none;\">\n",
              "        \n",
              "  <svg xmlns=\"http://www.w3.org/2000/svg\" height=\"24px\"viewBox=\"0 0 24 24\"\n",
              "       width=\"24px\">\n",
              "    <path d=\"M0 0h24v24H0V0z\" fill=\"none\"/>\n",
              "    <path d=\"M18.56 5.44l.94 2.06.94-2.06 2.06-.94-2.06-.94-.94-2.06-.94 2.06-2.06.94zm-11 1L8.5 8.5l.94-2.06 2.06-.94-2.06-.94L8.5 2.5l-.94 2.06-2.06.94zm10 10l.94 2.06.94-2.06 2.06-.94-2.06-.94-.94-2.06-.94 2.06-2.06.94z\"/><path d=\"M17.41 7.96l-1.37-1.37c-.4-.4-.92-.59-1.43-.59-.52 0-1.04.2-1.43.59L10.3 9.45l-7.72 7.72c-.78.78-.78 2.05 0 2.83L4 21.41c.39.39.9.59 1.41.59.51 0 1.02-.2 1.41-.59l7.78-7.78 2.81-2.81c.8-.78.8-2.07 0-2.86zM5.41 20L4 18.59l7.72-7.72 1.47 1.35L5.41 20z\"/>\n",
              "  </svg>\n",
              "      </button>\n",
              "      \n",
              "  <style>\n",
              "    .colab-df-container {\n",
              "      display:flex;\n",
              "      flex-wrap:wrap;\n",
              "      gap: 12px;\n",
              "    }\n",
              "\n",
              "    .colab-df-convert {\n",
              "      background-color: #E8F0FE;\n",
              "      border: none;\n",
              "      border-radius: 50%;\n",
              "      cursor: pointer;\n",
              "      display: none;\n",
              "      fill: #1967D2;\n",
              "      height: 32px;\n",
              "      padding: 0 0 0 0;\n",
              "      width: 32px;\n",
              "    }\n",
              "\n",
              "    .colab-df-convert:hover {\n",
              "      background-color: #E2EBFA;\n",
              "      box-shadow: 0px 1px 2px rgba(60, 64, 67, 0.3), 0px 1px 3px 1px rgba(60, 64, 67, 0.15);\n",
              "      fill: #174EA6;\n",
              "    }\n",
              "\n",
              "    [theme=dark] .colab-df-convert {\n",
              "      background-color: #3B4455;\n",
              "      fill: #D2E3FC;\n",
              "    }\n",
              "\n",
              "    [theme=dark] .colab-df-convert:hover {\n",
              "      background-color: #434B5C;\n",
              "      box-shadow: 0px 1px 3px 1px rgba(0, 0, 0, 0.15);\n",
              "      filter: drop-shadow(0px 1px 2px rgba(0, 0, 0, 0.3));\n",
              "      fill: #FFFFFF;\n",
              "    }\n",
              "  </style>\n",
              "\n",
              "      <script>\n",
              "        const buttonEl =\n",
              "          document.querySelector('#df-3dc2fd6c-5190-45fe-a25a-0f371c726739 button.colab-df-convert');\n",
              "        buttonEl.style.display =\n",
              "          google.colab.kernel.accessAllowed ? 'block' : 'none';\n",
              "\n",
              "        async function convertToInteractive(key) {\n",
              "          const element = document.querySelector('#df-3dc2fd6c-5190-45fe-a25a-0f371c726739');\n",
              "          const dataTable =\n",
              "            await google.colab.kernel.invokeFunction('convertToInteractive',\n",
              "                                                     [key], {});\n",
              "          if (!dataTable) return;\n",
              "\n",
              "          const docLinkHtml = 'Like what you see? Visit the ' +\n",
              "            '<a target=\"_blank\" href=https://colab.research.google.com/notebooks/data_table.ipynb>data table notebook</a>'\n",
              "            + ' to learn more about interactive tables.';\n",
              "          element.innerHTML = '';\n",
              "          dataTable['output_type'] = 'display_data';\n",
              "          await google.colab.output.renderOutput(dataTable, element);\n",
              "          const docLink = document.createElement('div');\n",
              "          docLink.innerHTML = docLinkHtml;\n",
              "          element.appendChild(docLink);\n",
              "        }\n",
              "      </script>\n",
              "    </div>\n",
              "  </div>\n",
              "  "
            ]
          },
          "metadata": {}
        },
        {
          "output_type": "stream",
          "name": "stdout",
          "text": [
            "\n",
            "\n",
            "Entries of Adelie species summary\n"
          ]
        },
        {
          "output_type": "display_data",
          "data": {
            "text/plain": [
              "       bill_length_mm  bill_depth_mm  flipper_length_mm  body_mass_g  \\\n",
              "count      151.000000     151.000000         151.000000   151.000000   \n",
              "mean        38.791391      18.346358         189.953642  3700.662252   \n",
              "std          2.663405       1.216650           6.539457   458.566126   \n",
              "min         32.100000      15.500000         172.000000  2850.000000   \n",
              "25%         36.750000      17.500000         186.000000  3350.000000   \n",
              "50%         38.800000      18.400000         190.000000  3700.000000   \n",
              "75%         40.750000      19.000000         195.000000  4000.000000   \n",
              "max         46.000000      21.500000         210.000000  4775.000000   \n",
              "\n",
              "              year  \n",
              "count   152.000000  \n",
              "mean   2008.013158  \n",
              "std       0.821780  \n",
              "min    2007.000000  \n",
              "25%    2007.000000  \n",
              "50%    2008.000000  \n",
              "75%    2009.000000  \n",
              "max    2009.000000  "
            ],
            "text/html": [
              "\n",
              "  <div id=\"df-27a1f754-09a0-4e69-8730-1b160f14b18a\">\n",
              "    <div class=\"colab-df-container\">\n",
              "      <div>\n",
              "<style scoped>\n",
              "    .dataframe tbody tr th:only-of-type {\n",
              "        vertical-align: middle;\n",
              "    }\n",
              "\n",
              "    .dataframe tbody tr th {\n",
              "        vertical-align: top;\n",
              "    }\n",
              "\n",
              "    .dataframe thead th {\n",
              "        text-align: right;\n",
              "    }\n",
              "</style>\n",
              "<table border=\"1\" class=\"dataframe\">\n",
              "  <thead>\n",
              "    <tr style=\"text-align: right;\">\n",
              "      <th></th>\n",
              "      <th>bill_length_mm</th>\n",
              "      <th>bill_depth_mm</th>\n",
              "      <th>flipper_length_mm</th>\n",
              "      <th>body_mass_g</th>\n",
              "      <th>year</th>\n",
              "    </tr>\n",
              "  </thead>\n",
              "  <tbody>\n",
              "    <tr>\n",
              "      <th>count</th>\n",
              "      <td>151.000000</td>\n",
              "      <td>151.000000</td>\n",
              "      <td>151.000000</td>\n",
              "      <td>151.000000</td>\n",
              "      <td>152.000000</td>\n",
              "    </tr>\n",
              "    <tr>\n",
              "      <th>mean</th>\n",
              "      <td>38.791391</td>\n",
              "      <td>18.346358</td>\n",
              "      <td>189.953642</td>\n",
              "      <td>3700.662252</td>\n",
              "      <td>2008.013158</td>\n",
              "    </tr>\n",
              "    <tr>\n",
              "      <th>std</th>\n",
              "      <td>2.663405</td>\n",
              "      <td>1.216650</td>\n",
              "      <td>6.539457</td>\n",
              "      <td>458.566126</td>\n",
              "      <td>0.821780</td>\n",
              "    </tr>\n",
              "    <tr>\n",
              "      <th>min</th>\n",
              "      <td>32.100000</td>\n",
              "      <td>15.500000</td>\n",
              "      <td>172.000000</td>\n",
              "      <td>2850.000000</td>\n",
              "      <td>2007.000000</td>\n",
              "    </tr>\n",
              "    <tr>\n",
              "      <th>25%</th>\n",
              "      <td>36.750000</td>\n",
              "      <td>17.500000</td>\n",
              "      <td>186.000000</td>\n",
              "      <td>3350.000000</td>\n",
              "      <td>2007.000000</td>\n",
              "    </tr>\n",
              "    <tr>\n",
              "      <th>50%</th>\n",
              "      <td>38.800000</td>\n",
              "      <td>18.400000</td>\n",
              "      <td>190.000000</td>\n",
              "      <td>3700.000000</td>\n",
              "      <td>2008.000000</td>\n",
              "    </tr>\n",
              "    <tr>\n",
              "      <th>75%</th>\n",
              "      <td>40.750000</td>\n",
              "      <td>19.000000</td>\n",
              "      <td>195.000000</td>\n",
              "      <td>4000.000000</td>\n",
              "      <td>2009.000000</td>\n",
              "    </tr>\n",
              "    <tr>\n",
              "      <th>max</th>\n",
              "      <td>46.000000</td>\n",
              "      <td>21.500000</td>\n",
              "      <td>210.000000</td>\n",
              "      <td>4775.000000</td>\n",
              "      <td>2009.000000</td>\n",
              "    </tr>\n",
              "  </tbody>\n",
              "</table>\n",
              "</div>\n",
              "      <button class=\"colab-df-convert\" onclick=\"convertToInteractive('df-27a1f754-09a0-4e69-8730-1b160f14b18a')\"\n",
              "              title=\"Convert this dataframe to an interactive table.\"\n",
              "              style=\"display:none;\">\n",
              "        \n",
              "  <svg xmlns=\"http://www.w3.org/2000/svg\" height=\"24px\"viewBox=\"0 0 24 24\"\n",
              "       width=\"24px\">\n",
              "    <path d=\"M0 0h24v24H0V0z\" fill=\"none\"/>\n",
              "    <path d=\"M18.56 5.44l.94 2.06.94-2.06 2.06-.94-2.06-.94-.94-2.06-.94 2.06-2.06.94zm-11 1L8.5 8.5l.94-2.06 2.06-.94-2.06-.94L8.5 2.5l-.94 2.06-2.06.94zm10 10l.94 2.06.94-2.06 2.06-.94-2.06-.94-.94-2.06-.94 2.06-2.06.94z\"/><path d=\"M17.41 7.96l-1.37-1.37c-.4-.4-.92-.59-1.43-.59-.52 0-1.04.2-1.43.59L10.3 9.45l-7.72 7.72c-.78.78-.78 2.05 0 2.83L4 21.41c.39.39.9.59 1.41.59.51 0 1.02-.2 1.41-.59l7.78-7.78 2.81-2.81c.8-.78.8-2.07 0-2.86zM5.41 20L4 18.59l7.72-7.72 1.47 1.35L5.41 20z\"/>\n",
              "  </svg>\n",
              "      </button>\n",
              "      \n",
              "  <style>\n",
              "    .colab-df-container {\n",
              "      display:flex;\n",
              "      flex-wrap:wrap;\n",
              "      gap: 12px;\n",
              "    }\n",
              "\n",
              "    .colab-df-convert {\n",
              "      background-color: #E8F0FE;\n",
              "      border: none;\n",
              "      border-radius: 50%;\n",
              "      cursor: pointer;\n",
              "      display: none;\n",
              "      fill: #1967D2;\n",
              "      height: 32px;\n",
              "      padding: 0 0 0 0;\n",
              "      width: 32px;\n",
              "    }\n",
              "\n",
              "    .colab-df-convert:hover {\n",
              "      background-color: #E2EBFA;\n",
              "      box-shadow: 0px 1px 2px rgba(60, 64, 67, 0.3), 0px 1px 3px 1px rgba(60, 64, 67, 0.15);\n",
              "      fill: #174EA6;\n",
              "    }\n",
              "\n",
              "    [theme=dark] .colab-df-convert {\n",
              "      background-color: #3B4455;\n",
              "      fill: #D2E3FC;\n",
              "    }\n",
              "\n",
              "    [theme=dark] .colab-df-convert:hover {\n",
              "      background-color: #434B5C;\n",
              "      box-shadow: 0px 1px 3px 1px rgba(0, 0, 0, 0.15);\n",
              "      filter: drop-shadow(0px 1px 2px rgba(0, 0, 0, 0.3));\n",
              "      fill: #FFFFFF;\n",
              "    }\n",
              "  </style>\n",
              "\n",
              "      <script>\n",
              "        const buttonEl =\n",
              "          document.querySelector('#df-27a1f754-09a0-4e69-8730-1b160f14b18a button.colab-df-convert');\n",
              "        buttonEl.style.display =\n",
              "          google.colab.kernel.accessAllowed ? 'block' : 'none';\n",
              "\n",
              "        async function convertToInteractive(key) {\n",
              "          const element = document.querySelector('#df-27a1f754-09a0-4e69-8730-1b160f14b18a');\n",
              "          const dataTable =\n",
              "            await google.colab.kernel.invokeFunction('convertToInteractive',\n",
              "                                                     [key], {});\n",
              "          if (!dataTable) return;\n",
              "\n",
              "          const docLinkHtml = 'Like what you see? Visit the ' +\n",
              "            '<a target=\"_blank\" href=https://colab.research.google.com/notebooks/data_table.ipynb>data table notebook</a>'\n",
              "            + ' to learn more about interactive tables.';\n",
              "          element.innerHTML = '';\n",
              "          dataTable['output_type'] = 'display_data';\n",
              "          await google.colab.output.renderOutput(dataTable, element);\n",
              "          const docLink = document.createElement('div');\n",
              "          docLink.innerHTML = docLinkHtml;\n",
              "          element.appendChild(docLink);\n",
              "        }\n",
              "      </script>\n",
              "    </div>\n",
              "  </div>\n",
              "  "
            ]
          },
          "metadata": {}
        },
        {
          "output_type": "stream",
          "name": "stdout",
          "text": [
            "\n",
            "\n",
            "Total data summary\n"
          ]
        },
        {
          "output_type": "execute_result",
          "data": {
            "text/plain": [
              "       bill_length_mm  bill_depth_mm  flipper_length_mm  body_mass_g  \\\n",
              "count      342.000000     342.000000         342.000000   342.000000   \n",
              "mean        43.921930      17.151170         200.915205  4201.754386   \n",
              "std          5.459584       1.974793          14.061714   801.954536   \n",
              "min         32.100000      13.100000         172.000000  2700.000000   \n",
              "25%         39.225000      15.600000         190.000000  3550.000000   \n",
              "50%         44.450000      17.300000         197.000000  4050.000000   \n",
              "75%         48.500000      18.700000         213.000000  4750.000000   \n",
              "max         59.600000      21.500000         231.000000  6300.000000   \n",
              "\n",
              "              year  \n",
              "count   344.000000  \n",
              "mean   2008.029070  \n",
              "std       0.818356  \n",
              "min    2007.000000  \n",
              "25%    2007.000000  \n",
              "50%    2008.000000  \n",
              "75%    2009.000000  \n",
              "max    2009.000000  "
            ],
            "text/html": [
              "\n",
              "  <div id=\"df-67579992-b1e4-4a58-92f5-df60915ef424\">\n",
              "    <div class=\"colab-df-container\">\n",
              "      <div>\n",
              "<style scoped>\n",
              "    .dataframe tbody tr th:only-of-type {\n",
              "        vertical-align: middle;\n",
              "    }\n",
              "\n",
              "    .dataframe tbody tr th {\n",
              "        vertical-align: top;\n",
              "    }\n",
              "\n",
              "    .dataframe thead th {\n",
              "        text-align: right;\n",
              "    }\n",
              "</style>\n",
              "<table border=\"1\" class=\"dataframe\">\n",
              "  <thead>\n",
              "    <tr style=\"text-align: right;\">\n",
              "      <th></th>\n",
              "      <th>bill_length_mm</th>\n",
              "      <th>bill_depth_mm</th>\n",
              "      <th>flipper_length_mm</th>\n",
              "      <th>body_mass_g</th>\n",
              "      <th>year</th>\n",
              "    </tr>\n",
              "  </thead>\n",
              "  <tbody>\n",
              "    <tr>\n",
              "      <th>count</th>\n",
              "      <td>342.000000</td>\n",
              "      <td>342.000000</td>\n",
              "      <td>342.000000</td>\n",
              "      <td>342.000000</td>\n",
              "      <td>344.000000</td>\n",
              "    </tr>\n",
              "    <tr>\n",
              "      <th>mean</th>\n",
              "      <td>43.921930</td>\n",
              "      <td>17.151170</td>\n",
              "      <td>200.915205</td>\n",
              "      <td>4201.754386</td>\n",
              "      <td>2008.029070</td>\n",
              "    </tr>\n",
              "    <tr>\n",
              "      <th>std</th>\n",
              "      <td>5.459584</td>\n",
              "      <td>1.974793</td>\n",
              "      <td>14.061714</td>\n",
              "      <td>801.954536</td>\n",
              "      <td>0.818356</td>\n",
              "    </tr>\n",
              "    <tr>\n",
              "      <th>min</th>\n",
              "      <td>32.100000</td>\n",
              "      <td>13.100000</td>\n",
              "      <td>172.000000</td>\n",
              "      <td>2700.000000</td>\n",
              "      <td>2007.000000</td>\n",
              "    </tr>\n",
              "    <tr>\n",
              "      <th>25%</th>\n",
              "      <td>39.225000</td>\n",
              "      <td>15.600000</td>\n",
              "      <td>190.000000</td>\n",
              "      <td>3550.000000</td>\n",
              "      <td>2007.000000</td>\n",
              "    </tr>\n",
              "    <tr>\n",
              "      <th>50%</th>\n",
              "      <td>44.450000</td>\n",
              "      <td>17.300000</td>\n",
              "      <td>197.000000</td>\n",
              "      <td>4050.000000</td>\n",
              "      <td>2008.000000</td>\n",
              "    </tr>\n",
              "    <tr>\n",
              "      <th>75%</th>\n",
              "      <td>48.500000</td>\n",
              "      <td>18.700000</td>\n",
              "      <td>213.000000</td>\n",
              "      <td>4750.000000</td>\n",
              "      <td>2009.000000</td>\n",
              "    </tr>\n",
              "    <tr>\n",
              "      <th>max</th>\n",
              "      <td>59.600000</td>\n",
              "      <td>21.500000</td>\n",
              "      <td>231.000000</td>\n",
              "      <td>6300.000000</td>\n",
              "      <td>2009.000000</td>\n",
              "    </tr>\n",
              "  </tbody>\n",
              "</table>\n",
              "</div>\n",
              "      <button class=\"colab-df-convert\" onclick=\"convertToInteractive('df-67579992-b1e4-4a58-92f5-df60915ef424')\"\n",
              "              title=\"Convert this dataframe to an interactive table.\"\n",
              "              style=\"display:none;\">\n",
              "        \n",
              "  <svg xmlns=\"http://www.w3.org/2000/svg\" height=\"24px\"viewBox=\"0 0 24 24\"\n",
              "       width=\"24px\">\n",
              "    <path d=\"M0 0h24v24H0V0z\" fill=\"none\"/>\n",
              "    <path d=\"M18.56 5.44l.94 2.06.94-2.06 2.06-.94-2.06-.94-.94-2.06-.94 2.06-2.06.94zm-11 1L8.5 8.5l.94-2.06 2.06-.94-2.06-.94L8.5 2.5l-.94 2.06-2.06.94zm10 10l.94 2.06.94-2.06 2.06-.94-2.06-.94-.94-2.06-.94 2.06-2.06.94z\"/><path d=\"M17.41 7.96l-1.37-1.37c-.4-.4-.92-.59-1.43-.59-.52 0-1.04.2-1.43.59L10.3 9.45l-7.72 7.72c-.78.78-.78 2.05 0 2.83L4 21.41c.39.39.9.59 1.41.59.51 0 1.02-.2 1.41-.59l7.78-7.78 2.81-2.81c.8-.78.8-2.07 0-2.86zM5.41 20L4 18.59l7.72-7.72 1.47 1.35L5.41 20z\"/>\n",
              "  </svg>\n",
              "      </button>\n",
              "      \n",
              "  <style>\n",
              "    .colab-df-container {\n",
              "      display:flex;\n",
              "      flex-wrap:wrap;\n",
              "      gap: 12px;\n",
              "    }\n",
              "\n",
              "    .colab-df-convert {\n",
              "      background-color: #E8F0FE;\n",
              "      border: none;\n",
              "      border-radius: 50%;\n",
              "      cursor: pointer;\n",
              "      display: none;\n",
              "      fill: #1967D2;\n",
              "      height: 32px;\n",
              "      padding: 0 0 0 0;\n",
              "      width: 32px;\n",
              "    }\n",
              "\n",
              "    .colab-df-convert:hover {\n",
              "      background-color: #E2EBFA;\n",
              "      box-shadow: 0px 1px 2px rgba(60, 64, 67, 0.3), 0px 1px 3px 1px rgba(60, 64, 67, 0.15);\n",
              "      fill: #174EA6;\n",
              "    }\n",
              "\n",
              "    [theme=dark] .colab-df-convert {\n",
              "      background-color: #3B4455;\n",
              "      fill: #D2E3FC;\n",
              "    }\n",
              "\n",
              "    [theme=dark] .colab-df-convert:hover {\n",
              "      background-color: #434B5C;\n",
              "      box-shadow: 0px 1px 3px 1px rgba(0, 0, 0, 0.15);\n",
              "      filter: drop-shadow(0px 1px 2px rgba(0, 0, 0, 0.3));\n",
              "      fill: #FFFFFF;\n",
              "    }\n",
              "  </style>\n",
              "\n",
              "      <script>\n",
              "        const buttonEl =\n",
              "          document.querySelector('#df-67579992-b1e4-4a58-92f5-df60915ef424 button.colab-df-convert');\n",
              "        buttonEl.style.display =\n",
              "          google.colab.kernel.accessAllowed ? 'block' : 'none';\n",
              "\n",
              "        async function convertToInteractive(key) {\n",
              "          const element = document.querySelector('#df-67579992-b1e4-4a58-92f5-df60915ef424');\n",
              "          const dataTable =\n",
              "            await google.colab.kernel.invokeFunction('convertToInteractive',\n",
              "                                                     [key], {});\n",
              "          if (!dataTable) return;\n",
              "\n",
              "          const docLinkHtml = 'Like what you see? Visit the ' +\n",
              "            '<a target=\"_blank\" href=https://colab.research.google.com/notebooks/data_table.ipynb>data table notebook</a>'\n",
              "            + ' to learn more about interactive tables.';\n",
              "          element.innerHTML = '';\n",
              "          dataTable['output_type'] = 'display_data';\n",
              "          await google.colab.output.renderOutput(dataTable, element);\n",
              "          const docLink = document.createElement('div');\n",
              "          docLink.innerHTML = docLinkHtml;\n",
              "          element.appendChild(docLink);\n",
              "        }\n",
              "      </script>\n",
              "    </div>\n",
              "  </div>\n",
              "  "
            ]
          },
          "metadata": {},
          "execution_count": 185
        }
      ],
      "source": [
        "'''Provide the main statistics about the entries of the dataset (mean, std, etc.)\n",
        "'''\n",
        "\n",
        "# BEGIN_YOUR_CODE\n",
        "from IPython.display import display\n",
        "\n",
        "uniqueSpecies= set(data[\"species\"])\n",
        "for i in uniqueSpecies:\n",
        "  print(f\"Entries of {i} species summary\")\n",
        "  display(data[data[\"species\"]==i].describe())\n",
        "  print(\"\\n\")\n",
        "summary  = data.describe()\n",
        "\n",
        "print(\"Total data summary\")\n",
        "summary\n",
        "# END_YOUR_CODE"
      ]
    },
    {
      "cell_type": "code",
      "execution_count": 186,
      "metadata": {
        "id": "JnuZGhGwvnnW",
        "outputId": "0696beb4-a698-4ae1-d378-848c1ab6db08",
        "colab": {
          "base_uri": "https://localhost:8080/"
        }
      },
      "outputs": [
        {
          "output_type": "execute_result",
          "data": {
            "text/plain": [
              "(344, 8)"
            ]
          },
          "metadata": {},
          "execution_count": 186
        }
      ],
      "source": [
        "''' Print shape of the dataset '''\n",
        "\n",
        "# BEGIN_YOUR_CODE\n",
        "dataSp = data.shape\n",
        "dataSp\n",
        "# END_YOUR_CODE"
      ]
    },
    {
      "cell_type": "code",
      "execution_count": 187,
      "metadata": {
        "id": "nFWD5zl8vnne",
        "outputId": "775a8bae-6ffd-445b-938e-261716e4b79b",
        "colab": {
          "base_uri": "https://localhost:8080/"
        }
      },
      "outputs": [
        {
          "output_type": "execute_result",
          "data": {
            "text/plain": [
              "['species',\n",
              " 'island',\n",
              " 'bill_length_mm',\n",
              " 'bill_depth_mm',\n",
              " 'flipper_length_mm',\n",
              " 'body_mass_g',\n",
              " 'sex',\n",
              " 'year']"
            ]
          },
          "metadata": {},
          "execution_count": 187
        }
      ],
      "source": [
        "''' Return all the column names'''\n",
        "\n",
        "# BEGIN_YOUR_CODE\n",
        "columns = list(data.columns)\n",
        "columns\n",
        "# END_YOUR_CODE"
      ]
    },
    {
      "cell_type": "code",
      "execution_count": 188,
      "metadata": {
        "id": "6-1Dj0sGvnng",
        "outputId": "0924ecad-e41c-46e9-a010-6d88ba4cb44b",
        "colab": {
          "base_uri": "https://localhost:8080/"
        }
      },
      "outputs": [
        {
          "output_type": "execute_result",
          "data": {
            "text/plain": [
              "(['Adelie',\n",
              "  'Adelie',\n",
              "  'Adelie',\n",
              "  'Adelie',\n",
              "  'Adelie',\n",
              "  'Adelie',\n",
              "  'Adelie',\n",
              "  'Adelie',\n",
              "  'Adelie',\n",
              "  'Adelie',\n",
              "  'Adelie',\n",
              "  'Adelie',\n",
              "  'Adelie',\n",
              "  'Adelie',\n",
              "  'Adelie',\n",
              "  'Adelie',\n",
              "  'Adelie',\n",
              "  'Adelie',\n",
              "  'Adelie',\n",
              "  'Adelie',\n",
              "  'Adelie',\n",
              "  'Adelie',\n",
              "  'Adelie',\n",
              "  'Adelie',\n",
              "  'Adelie',\n",
              "  'Adelie',\n",
              "  'Adelie',\n",
              "  'Adelie',\n",
              "  'Adelie',\n",
              "  'Adelie',\n",
              "  'Adelie',\n",
              "  'Adelie',\n",
              "  'Adelie',\n",
              "  'Adelie',\n",
              "  'Adelie',\n",
              "  'Adelie',\n",
              "  'Adelie',\n",
              "  'Adelie',\n",
              "  'Adelie',\n",
              "  'Adelie',\n",
              "  'Adelie',\n",
              "  'Adelie',\n",
              "  'Adelie',\n",
              "  'Adelie',\n",
              "  'Adelie',\n",
              "  'Adelie',\n",
              "  'Adelie',\n",
              "  'Adelie',\n",
              "  'Adelie',\n",
              "  'Adelie',\n",
              "  'Adelie',\n",
              "  'Adelie',\n",
              "  'Adelie',\n",
              "  'Adelie',\n",
              "  'Adelie',\n",
              "  'Adelie',\n",
              "  'Adelie',\n",
              "  'Adelie',\n",
              "  'Adelie',\n",
              "  'Adelie',\n",
              "  'Adelie',\n",
              "  'Adelie',\n",
              "  'Adelie',\n",
              "  'Adelie',\n",
              "  'Adelie',\n",
              "  'Adelie',\n",
              "  'Adelie',\n",
              "  'Adelie',\n",
              "  'Adelie',\n",
              "  'Adelie',\n",
              "  'Adelie',\n",
              "  'Adelie',\n",
              "  'Adelie',\n",
              "  'Adelie',\n",
              "  'Adelie',\n",
              "  'Adelie',\n",
              "  'Adelie',\n",
              "  'Adelie',\n",
              "  'Adelie',\n",
              "  'Adelie',\n",
              "  'Adelie',\n",
              "  'Adelie',\n",
              "  'Adelie',\n",
              "  'Adelie',\n",
              "  'Adelie',\n",
              "  'Adelie',\n",
              "  'Adelie',\n",
              "  'Adelie',\n",
              "  'Adelie',\n",
              "  'Adelie',\n",
              "  'Adelie',\n",
              "  'Adelie',\n",
              "  'Adelie',\n",
              "  'Adelie',\n",
              "  'Adelie',\n",
              "  'Adelie',\n",
              "  'Adelie',\n",
              "  'Adelie',\n",
              "  'Adelie',\n",
              "  'Adelie',\n",
              "  'Adelie',\n",
              "  'Adelie',\n",
              "  'Adelie',\n",
              "  'Adelie',\n",
              "  'Adelie',\n",
              "  'Adelie',\n",
              "  'Adelie',\n",
              "  'Adelie',\n",
              "  'Adelie',\n",
              "  'Adelie',\n",
              "  'Adelie',\n",
              "  'Adelie',\n",
              "  'Adelie',\n",
              "  'Adelie',\n",
              "  'Adelie',\n",
              "  'Adelie',\n",
              "  'Adelie',\n",
              "  'Adelie',\n",
              "  'Adelie',\n",
              "  'Adelie',\n",
              "  'Adelie',\n",
              "  'Adelie',\n",
              "  'Adelie',\n",
              "  'Adelie',\n",
              "  'Adelie',\n",
              "  'Adelie',\n",
              "  'Adelie',\n",
              "  'Adelie',\n",
              "  'Adelie',\n",
              "  'Adelie',\n",
              "  'Adelie',\n",
              "  'Adelie',\n",
              "  'Adelie',\n",
              "  'Adelie',\n",
              "  'Adelie',\n",
              "  'Adelie',\n",
              "  'Adelie',\n",
              "  'Adelie',\n",
              "  'Adelie',\n",
              "  'Adelie',\n",
              "  'Adelie',\n",
              "  'Adelie',\n",
              "  'Adelie',\n",
              "  'Adelie',\n",
              "  'Adelie',\n",
              "  'Adelie',\n",
              "  'Adelie',\n",
              "  'Adelie',\n",
              "  'Adelie',\n",
              "  'Adelie',\n",
              "  'Adelie',\n",
              "  'Adelie',\n",
              "  'Gentoo',\n",
              "  'Gentoo',\n",
              "  'Gentoo',\n",
              "  'Gentoo',\n",
              "  'Gentoo',\n",
              "  'Gentoo',\n",
              "  'Gentoo',\n",
              "  'Gentoo',\n",
              "  'Gentoo',\n",
              "  'Gentoo',\n",
              "  'Gentoo',\n",
              "  'Gentoo',\n",
              "  'Gentoo',\n",
              "  'Gentoo',\n",
              "  'Gentoo',\n",
              "  'Gentoo',\n",
              "  'Gentoo',\n",
              "  'Gentoo',\n",
              "  'Gentoo',\n",
              "  'Gentoo',\n",
              "  'Gentoo',\n",
              "  'Gentoo',\n",
              "  'Gentoo',\n",
              "  'Gentoo',\n",
              "  'Gentoo',\n",
              "  'Gentoo',\n",
              "  'Gentoo',\n",
              "  'Gentoo',\n",
              "  'Gentoo',\n",
              "  'Gentoo',\n",
              "  'Gentoo',\n",
              "  'Gentoo',\n",
              "  'Gentoo',\n",
              "  'Gentoo',\n",
              "  'Gentoo',\n",
              "  'Gentoo',\n",
              "  'Gentoo',\n",
              "  'Gentoo',\n",
              "  'Gentoo',\n",
              "  'Gentoo',\n",
              "  'Gentoo',\n",
              "  'Gentoo',\n",
              "  'Gentoo',\n",
              "  'Gentoo',\n",
              "  'Gentoo',\n",
              "  'Gentoo',\n",
              "  'Gentoo',\n",
              "  'Gentoo',\n",
              "  'Gentoo',\n",
              "  'Gentoo',\n",
              "  'Gentoo',\n",
              "  'Gentoo',\n",
              "  'Gentoo',\n",
              "  'Gentoo',\n",
              "  'Gentoo',\n",
              "  'Gentoo',\n",
              "  'Gentoo',\n",
              "  'Gentoo',\n",
              "  'Gentoo',\n",
              "  'Gentoo',\n",
              "  'Gentoo',\n",
              "  'Gentoo',\n",
              "  'Gentoo',\n",
              "  'Gentoo',\n",
              "  'Gentoo',\n",
              "  'Gentoo',\n",
              "  'Gentoo',\n",
              "  'Gentoo',\n",
              "  'Gentoo',\n",
              "  'Gentoo',\n",
              "  'Gentoo',\n",
              "  'Gentoo',\n",
              "  'Gentoo',\n",
              "  'Gentoo',\n",
              "  'Gentoo',\n",
              "  'Gentoo',\n",
              "  'Gentoo',\n",
              "  'Gentoo',\n",
              "  'Gentoo',\n",
              "  'Gentoo',\n",
              "  'Gentoo',\n",
              "  'Gentoo',\n",
              "  'Gentoo',\n",
              "  'Gentoo',\n",
              "  'Gentoo',\n",
              "  'Gentoo',\n",
              "  'Gentoo',\n",
              "  'Gentoo',\n",
              "  'Gentoo',\n",
              "  'Gentoo',\n",
              "  'Gentoo',\n",
              "  'Gentoo',\n",
              "  'Gentoo',\n",
              "  'Gentoo',\n",
              "  'Gentoo',\n",
              "  'Gentoo',\n",
              "  'Gentoo',\n",
              "  'Gentoo',\n",
              "  'Gentoo',\n",
              "  'Gentoo',\n",
              "  'Gentoo',\n",
              "  'Gentoo',\n",
              "  'Gentoo',\n",
              "  'Gentoo',\n",
              "  'Gentoo',\n",
              "  'Gentoo',\n",
              "  'Gentoo',\n",
              "  'Gentoo',\n",
              "  'Gentoo',\n",
              "  'Gentoo',\n",
              "  'Gentoo',\n",
              "  'Gentoo',\n",
              "  'Gentoo',\n",
              "  'Gentoo',\n",
              "  'Gentoo',\n",
              "  'Gentoo',\n",
              "  'Gentoo',\n",
              "  'Gentoo',\n",
              "  'Gentoo',\n",
              "  'Gentoo',\n",
              "  'Gentoo',\n",
              "  'Gentoo',\n",
              "  'Gentoo',\n",
              "  'Gentoo',\n",
              "  'Chinstrap',\n",
              "  'Chinstrap',\n",
              "  'Chinstrap',\n",
              "  'Chinstrap',\n",
              "  'Chinstrap',\n",
              "  'Chinstrap',\n",
              "  'Chinstrap',\n",
              "  'Chinstrap',\n",
              "  'Chinstrap',\n",
              "  'Chinstrap',\n",
              "  'Chinstrap',\n",
              "  'Chinstrap',\n",
              "  'Chinstrap',\n",
              "  'Chinstrap',\n",
              "  'Chinstrap',\n",
              "  'Chinstrap',\n",
              "  'Chinstrap',\n",
              "  'Chinstrap',\n",
              "  'Chinstrap',\n",
              "  'Chinstrap',\n",
              "  'Chinstrap',\n",
              "  'Chinstrap',\n",
              "  'Chinstrap',\n",
              "  'Chinstrap',\n",
              "  'Chinstrap',\n",
              "  'Chinstrap',\n",
              "  'Chinstrap',\n",
              "  'Chinstrap',\n",
              "  'Chinstrap',\n",
              "  'Chinstrap',\n",
              "  'Chinstrap',\n",
              "  'Chinstrap',\n",
              "  'Chinstrap',\n",
              "  'Chinstrap',\n",
              "  'Chinstrap',\n",
              "  'Chinstrap',\n",
              "  'Chinstrap',\n",
              "  'Chinstrap',\n",
              "  'Chinstrap',\n",
              "  'Chinstrap',\n",
              "  'Chinstrap',\n",
              "  'Chinstrap',\n",
              "  'Chinstrap',\n",
              "  'Chinstrap',\n",
              "  'Chinstrap',\n",
              "  'Chinstrap',\n",
              "  'Chinstrap',\n",
              "  'Chinstrap',\n",
              "  'Chinstrap',\n",
              "  'Chinstrap',\n",
              "  'Chinstrap',\n",
              "  'Chinstrap',\n",
              "  'Chinstrap',\n",
              "  'Chinstrap',\n",
              "  'Chinstrap',\n",
              "  'Chinstrap',\n",
              "  'Chinstrap',\n",
              "  'Chinstrap',\n",
              "  'Chinstrap',\n",
              "  'Chinstrap',\n",
              "  'Chinstrap',\n",
              "  'Chinstrap',\n",
              "  'Chinstrap',\n",
              "  'Chinstrap',\n",
              "  'Chinstrap',\n",
              "  'Chinstrap',\n",
              "  'Chinstrap',\n",
              "  'Chinstrap'],\n",
              " {'Adelie', 'Chinstrap', 'Gentoo'})"
            ]
          },
          "metadata": {},
          "execution_count": 188
        }
      ],
      "source": [
        "''' Print a list of penguin species '''\n",
        "\n",
        "# BEGIN_YOUR_CODE\n",
        "speciesList = list(data[\"species\"])\n",
        "speciesSet = set(list(data[\"species\"]))\n",
        "speciesList,speciesSet\n",
        "# END_YOUR_CODE"
      ]
    },
    {
      "cell_type": "code",
      "execution_count": 189,
      "metadata": {
        "id": "nl9T08Pc4cK3",
        "outputId": "84be762d-0259-4b7c-f338-71c091ba14f8",
        "colab": {
          "base_uri": "https://localhost:8080/",
          "height": 407
        }
      },
      "outputs": [
        {
          "output_type": "execute_result",
          "data": {
            "text/plain": [
              "  species     island  bill_length_mm  bill_depth_mm  flipper_length_mm  \\\n",
              "0  Adelie  Torgersen            39.1           18.7              181.0   \n",
              "1  Adelie  Torgersen            39.5           17.4              186.0   \n",
              "2  Adelie  Torgersen            40.3           18.0              195.0   \n",
              "3  Adelie  Torgersen             NaN            NaN                NaN   \n",
              "4  Adelie  Torgersen            36.7           19.3              193.0   \n",
              "5  Adelie  Torgersen            39.3           20.6              190.0   \n",
              "6  Adelie  Torgersen            38.9           17.8              181.0   \n",
              "7  Adelie  Torgersen            39.2           19.6              195.0   \n",
              "8  Adelie  Torgersen            34.1           18.1              193.0   \n",
              "9  Adelie  Torgersen            42.0           20.2              190.0   \n",
              "\n",
              "   body_mass_g     sex  year  \n",
              "0       3750.0    male  2007  \n",
              "1       3800.0  female  2007  \n",
              "2       3250.0  female  2007  \n",
              "3          NaN     NaN  2007  \n",
              "4       3450.0  female  2007  \n",
              "5       3650.0    male  2007  \n",
              "6       3625.0  female  2007  \n",
              "7       4675.0    male  2007  \n",
              "8       3475.0     NaN  2007  \n",
              "9       4250.0     NaN  2007  "
            ],
            "text/html": [
              "\n",
              "  <div id=\"df-319e64ca-1cb6-4bef-9b81-182592498604\">\n",
              "    <div class=\"colab-df-container\">\n",
              "      <div>\n",
              "<style scoped>\n",
              "    .dataframe tbody tr th:only-of-type {\n",
              "        vertical-align: middle;\n",
              "    }\n",
              "\n",
              "    .dataframe tbody tr th {\n",
              "        vertical-align: top;\n",
              "    }\n",
              "\n",
              "    .dataframe thead th {\n",
              "        text-align: right;\n",
              "    }\n",
              "</style>\n",
              "<table border=\"1\" class=\"dataframe\">\n",
              "  <thead>\n",
              "    <tr style=\"text-align: right;\">\n",
              "      <th></th>\n",
              "      <th>species</th>\n",
              "      <th>island</th>\n",
              "      <th>bill_length_mm</th>\n",
              "      <th>bill_depth_mm</th>\n",
              "      <th>flipper_length_mm</th>\n",
              "      <th>body_mass_g</th>\n",
              "      <th>sex</th>\n",
              "      <th>year</th>\n",
              "    </tr>\n",
              "  </thead>\n",
              "  <tbody>\n",
              "    <tr>\n",
              "      <th>0</th>\n",
              "      <td>Adelie</td>\n",
              "      <td>Torgersen</td>\n",
              "      <td>39.1</td>\n",
              "      <td>18.7</td>\n",
              "      <td>181.0</td>\n",
              "      <td>3750.0</td>\n",
              "      <td>male</td>\n",
              "      <td>2007</td>\n",
              "    </tr>\n",
              "    <tr>\n",
              "      <th>1</th>\n",
              "      <td>Adelie</td>\n",
              "      <td>Torgersen</td>\n",
              "      <td>39.5</td>\n",
              "      <td>17.4</td>\n",
              "      <td>186.0</td>\n",
              "      <td>3800.0</td>\n",
              "      <td>female</td>\n",
              "      <td>2007</td>\n",
              "    </tr>\n",
              "    <tr>\n",
              "      <th>2</th>\n",
              "      <td>Adelie</td>\n",
              "      <td>Torgersen</td>\n",
              "      <td>40.3</td>\n",
              "      <td>18.0</td>\n",
              "      <td>195.0</td>\n",
              "      <td>3250.0</td>\n",
              "      <td>female</td>\n",
              "      <td>2007</td>\n",
              "    </tr>\n",
              "    <tr>\n",
              "      <th>3</th>\n",
              "      <td>Adelie</td>\n",
              "      <td>Torgersen</td>\n",
              "      <td>NaN</td>\n",
              "      <td>NaN</td>\n",
              "      <td>NaN</td>\n",
              "      <td>NaN</td>\n",
              "      <td>NaN</td>\n",
              "      <td>2007</td>\n",
              "    </tr>\n",
              "    <tr>\n",
              "      <th>4</th>\n",
              "      <td>Adelie</td>\n",
              "      <td>Torgersen</td>\n",
              "      <td>36.7</td>\n",
              "      <td>19.3</td>\n",
              "      <td>193.0</td>\n",
              "      <td>3450.0</td>\n",
              "      <td>female</td>\n",
              "      <td>2007</td>\n",
              "    </tr>\n",
              "    <tr>\n",
              "      <th>5</th>\n",
              "      <td>Adelie</td>\n",
              "      <td>Torgersen</td>\n",
              "      <td>39.3</td>\n",
              "      <td>20.6</td>\n",
              "      <td>190.0</td>\n",
              "      <td>3650.0</td>\n",
              "      <td>male</td>\n",
              "      <td>2007</td>\n",
              "    </tr>\n",
              "    <tr>\n",
              "      <th>6</th>\n",
              "      <td>Adelie</td>\n",
              "      <td>Torgersen</td>\n",
              "      <td>38.9</td>\n",
              "      <td>17.8</td>\n",
              "      <td>181.0</td>\n",
              "      <td>3625.0</td>\n",
              "      <td>female</td>\n",
              "      <td>2007</td>\n",
              "    </tr>\n",
              "    <tr>\n",
              "      <th>7</th>\n",
              "      <td>Adelie</td>\n",
              "      <td>Torgersen</td>\n",
              "      <td>39.2</td>\n",
              "      <td>19.6</td>\n",
              "      <td>195.0</td>\n",
              "      <td>4675.0</td>\n",
              "      <td>male</td>\n",
              "      <td>2007</td>\n",
              "    </tr>\n",
              "    <tr>\n",
              "      <th>8</th>\n",
              "      <td>Adelie</td>\n",
              "      <td>Torgersen</td>\n",
              "      <td>34.1</td>\n",
              "      <td>18.1</td>\n",
              "      <td>193.0</td>\n",
              "      <td>3475.0</td>\n",
              "      <td>NaN</td>\n",
              "      <td>2007</td>\n",
              "    </tr>\n",
              "    <tr>\n",
              "      <th>9</th>\n",
              "      <td>Adelie</td>\n",
              "      <td>Torgersen</td>\n",
              "      <td>42.0</td>\n",
              "      <td>20.2</td>\n",
              "      <td>190.0</td>\n",
              "      <td>4250.0</td>\n",
              "      <td>NaN</td>\n",
              "      <td>2007</td>\n",
              "    </tr>\n",
              "  </tbody>\n",
              "</table>\n",
              "</div>\n",
              "      <button class=\"colab-df-convert\" onclick=\"convertToInteractive('df-319e64ca-1cb6-4bef-9b81-182592498604')\"\n",
              "              title=\"Convert this dataframe to an interactive table.\"\n",
              "              style=\"display:none;\">\n",
              "        \n",
              "  <svg xmlns=\"http://www.w3.org/2000/svg\" height=\"24px\"viewBox=\"0 0 24 24\"\n",
              "       width=\"24px\">\n",
              "    <path d=\"M0 0h24v24H0V0z\" fill=\"none\"/>\n",
              "    <path d=\"M18.56 5.44l.94 2.06.94-2.06 2.06-.94-2.06-.94-.94-2.06-.94 2.06-2.06.94zm-11 1L8.5 8.5l.94-2.06 2.06-.94-2.06-.94L8.5 2.5l-.94 2.06-2.06.94zm10 10l.94 2.06.94-2.06 2.06-.94-2.06-.94-.94-2.06-.94 2.06-2.06.94z\"/><path d=\"M17.41 7.96l-1.37-1.37c-.4-.4-.92-.59-1.43-.59-.52 0-1.04.2-1.43.59L10.3 9.45l-7.72 7.72c-.78.78-.78 2.05 0 2.83L4 21.41c.39.39.9.59 1.41.59.51 0 1.02-.2 1.41-.59l7.78-7.78 2.81-2.81c.8-.78.8-2.07 0-2.86zM5.41 20L4 18.59l7.72-7.72 1.47 1.35L5.41 20z\"/>\n",
              "  </svg>\n",
              "      </button>\n",
              "      \n",
              "  <style>\n",
              "    .colab-df-container {\n",
              "      display:flex;\n",
              "      flex-wrap:wrap;\n",
              "      gap: 12px;\n",
              "    }\n",
              "\n",
              "    .colab-df-convert {\n",
              "      background-color: #E8F0FE;\n",
              "      border: none;\n",
              "      border-radius: 50%;\n",
              "      cursor: pointer;\n",
              "      display: none;\n",
              "      fill: #1967D2;\n",
              "      height: 32px;\n",
              "      padding: 0 0 0 0;\n",
              "      width: 32px;\n",
              "    }\n",
              "\n",
              "    .colab-df-convert:hover {\n",
              "      background-color: #E2EBFA;\n",
              "      box-shadow: 0px 1px 2px rgba(60, 64, 67, 0.3), 0px 1px 3px 1px rgba(60, 64, 67, 0.15);\n",
              "      fill: #174EA6;\n",
              "    }\n",
              "\n",
              "    [theme=dark] .colab-df-convert {\n",
              "      background-color: #3B4455;\n",
              "      fill: #D2E3FC;\n",
              "    }\n",
              "\n",
              "    [theme=dark] .colab-df-convert:hover {\n",
              "      background-color: #434B5C;\n",
              "      box-shadow: 0px 1px 3px 1px rgba(0, 0, 0, 0.15);\n",
              "      filter: drop-shadow(0px 1px 2px rgba(0, 0, 0, 0.3));\n",
              "      fill: #FFFFFF;\n",
              "    }\n",
              "  </style>\n",
              "\n",
              "      <script>\n",
              "        const buttonEl =\n",
              "          document.querySelector('#df-319e64ca-1cb6-4bef-9b81-182592498604 button.colab-df-convert');\n",
              "        buttonEl.style.display =\n",
              "          google.colab.kernel.accessAllowed ? 'block' : 'none';\n",
              "\n",
              "        async function convertToInteractive(key) {\n",
              "          const element = document.querySelector('#df-319e64ca-1cb6-4bef-9b81-182592498604');\n",
              "          const dataTable =\n",
              "            await google.colab.kernel.invokeFunction('convertToInteractive',\n",
              "                                                     [key], {});\n",
              "          if (!dataTable) return;\n",
              "\n",
              "          const docLinkHtml = 'Like what you see? Visit the ' +\n",
              "            '<a target=\"_blank\" href=https://colab.research.google.com/notebooks/data_table.ipynb>data table notebook</a>'\n",
              "            + ' to learn more about interactive tables.';\n",
              "          element.innerHTML = '';\n",
              "          dataTable['output_type'] = 'display_data';\n",
              "          await google.colab.output.renderOutput(dataTable, element);\n",
              "          const docLink = document.createElement('div');\n",
              "          docLink.innerHTML = docLinkHtml;\n",
              "          element.appendChild(docLink);\n",
              "        }\n",
              "      </script>\n",
              "    </div>\n",
              "  </div>\n",
              "  "
            ]
          },
          "metadata": {},
          "execution_count": 189
        }
      ],
      "source": [
        "'''Print top 10 rows of the dataset'''\n",
        "\n",
        "# BEGIN_YOUR_CODE\n",
        "topTen = data.head(10)\n",
        "topTen\n",
        "# END_YOUR_CODE"
      ]
    },
    {
      "cell_type": "markdown",
      "metadata": {
        "id": "YNq5ppEGvnnh"
      },
      "source": [
        "<a id='part5'></a>\n",
        "## Part 4 - Matplotlib Basics [20 points]"
      ]
    },
    {
      "cell_type": "markdown",
      "metadata": {
        "id": "MyidlhZlIPa2"
      },
      "source": [
        "Heatmaps is a useful plot tool which help us visualize the data density or distribution. Refer the below documentation for more details on heatmap.\n",
        "\n",
        "[Matplotlib tutorial](https://machinelearningknowledge.ai/matplotlib-heatmap-complete-tutorial-for-beginners/)\n",
        "\n",
        "**Note:** You can only use matplotlib library for the following tasks"
      ]
    },
    {
      "cell_type": "code",
      "execution_count": null,
      "metadata": {
        "id": "bfFqEdGEvnnh"
      },
      "outputs": [],
      "source": [
        "''' Install and import matplotlib library\n",
        "'''\n",
        "\n",
        "# BEGIN_YOUR_CODE\n",
        "\n",
        "# END_YOUR_CODE"
      ]
    },
    {
      "cell_type": "code",
      "execution_count": null,
      "metadata": {
        "id": "25-jR3OHstb_"
      },
      "outputs": [],
      "source": [
        "''' Heatmap\n",
        "Take any random numpy array of dimension 12x15 and plot a heatmap\n",
        "'''\n",
        "\n",
        "# BEGIN YOUR CODE\n",
        "\n",
        "# END YOUR CODE"
      ]
    },
    {
      "cell_type": "code",
      "execution_count": null,
      "metadata": {
        "id": "VD6WIdUU4-PA"
      },
      "outputs": [],
      "source": [
        "'''For the given value x plot the function y = 1/x using list comprehension on y.\n",
        "You can check https://docs.python.org/3/tutorial/datastructures.html#list-comprehensions to learn how to use list comprehension\n",
        "'''\n",
        "\n",
        "x = range(1,26)\n",
        "\n",
        "# BEGIN YOUR CODE\n",
        "\n",
        "# END YOUR CODE"
      ]
    },
    {
      "cell_type": "code",
      "execution_count": null,
      "metadata": {
        "id": "GB4uqfd8K495"
      },
      "outputs": [],
      "source": [
        "'''For the given value x plot the function y = x^3 using lambda function y.\n",
        "\n",
        "Lambda function is a small anonymous function which consist of a single expression, and is usually used when we need the function for a smaller duration\n",
        "https://realpython.com/python-lambda/\n",
        "'''\n",
        "\n",
        "x = range(25)\n",
        "\n",
        "# BEGIN YOUR CODE\n",
        "\n",
        "# END YOUR CODE\n"
      ]
    },
    {
      "cell_type": "code",
      "execution_count": null,
      "metadata": {
        "id": "p6TJB7sK4cK4"
      },
      "outputs": [],
      "source": [
        "'''On one graph draw two lines:\n",
        "1) Plot the function y = x^3 using lambda function y (use your code from above)\n",
        "2) A scatter plot for y = x^4 using either list comprehension or lambda function for evaluating y\n",
        "'''\n",
        "\n",
        "x = range(25)\n",
        "\n",
        "# BEGIN YOUR CODE\n",
        "\n",
        "# END YOUR CODE"
      ]
    },
    {
      "cell_type": "code",
      "execution_count": null,
      "metadata": {
        "id": "AEbDCKYH7UfV"
      },
      "outputs": [],
      "source": [
        "'''Create subplots showing graphs of tan and cot side by side of each other\n",
        "the value of theta ranges from -60 to 60\n",
        "\n",
        "HINT: You might want to utilize np.linspace() or np.arrange() to create smooth curves\n",
        "'''\n",
        "\n",
        "import math\n",
        "\n",
        "# BEGIN YOUR CODE\n",
        "\n",
        "# END YOUR CODE"
      ]
    },
    {
      "cell_type": "code",
      "execution_count": null,
      "metadata": {
        "id": "yENY45pIs_S9"
      },
      "outputs": [],
      "source": [
        "''' Penguin (\"penguin.csv\"): total number of penguins per Species\n",
        "Plot a graph which shows the total number of penguins per species\n",
        "'''\n",
        "\n",
        "# BEGIN YOUR CODE\n",
        "\n",
        "# END YOUR CODE"
      ]
    },
    {
      "cell_type": "code",
      "execution_count": null,
      "metadata": {
        "id": "oD--lSLQ4cK5"
      },
      "outputs": [],
      "source": [
        "''' Penguin (\"penguin.csv\"): total number of penguins between range of body mass\n",
        "Plot a graph which shows the total number of penguins having body_mass_g between 3200 and 4500\n",
        "'''\n",
        "\n",
        "# BEGIN YOUR CODE\n",
        "\n",
        "# END YOUR CODE"
      ]
    },
    {
      "cell_type": "markdown",
      "metadata": {
        "id": "Oo6h1NH6R6Pq"
      },
      "source": [
        "#### Results analyzing\n",
        "\n",
        "Analyze the graph and answer the following two questions:\n",
        "\n",
        "**1) What is your inference from the above graph?**\n",
        "\n",
        "*YOUR ANSWER:*\n",
        "\n",
        "**2) Which species has the most number of penguins having body_mass_g between 3200 and 4500?**\n",
        "\n",
        "*YOUR ANSWER:*\n",
        "\n",
        "**3) Which is the most common species of penguins?**\n",
        "\n",
        "*YOUR ANSWER:*\n"
      ]
    },
    {
      "cell_type": "markdown",
      "metadata": {
        "id": "qB6WA8H64cK5"
      },
      "source": [
        "# Part 5 - Sckit-learn Basics\n",
        "\n",
        "Skit-learn is a commonly used data analysis library. It contains in-build unsupervised and supervised learning algorithms. Check more details here - https://scikit-learn.org/stable/\n",
        "In this part we will use "
      ]
    },
    {
      "cell_type": "code",
      "execution_count": null,
      "metadata": {
        "id": "6cm6j0VtyK2e"
      },
      "outputs": [],
      "source": [
        "'''Install and import scikit-learn library\n",
        "'''\n",
        "\n",
        "# BEGIN_YOUR_CODE\n",
        "\n",
        "# END_YOUR_CODE"
      ]
    },
    {
      "cell_type": "code",
      "execution_count": null,
      "metadata": {
        "id": "g6l3M4JiyK2e"
      },
      "outputs": [],
      "source": [
        "''' Prepare Penguins dataset for training\n",
        "    Define our X_data = all the columns, exept 'Species'. You can use drop() function\n",
        "    Define Y_target = 'Species' column from the dataset\n",
        "    Using train_test_split function divide the dataset into training and testing as 80/20. \n",
        "'''\n",
        "\n",
        "# BEGIN_YOUR_CODE\n",
        "\n",
        "# END_YOUR_CODE"
      ]
    },
    {
      "cell_type": "code",
      "execution_count": null,
      "metadata": {
        "id": "w_QuYKbvyK2e"
      },
      "outputs": [],
      "source": [
        "''' Fit the model\n",
        "    Create and fit a logistic regression model to predict the 'Species' of a penguin using all of the other features in the dataset.\n",
        "    You can use one hot encoding to encode categorical-based feature ('island' and 'sex').\n",
        "    You can read more about the inbuild Logistic Regression model here - https://scikit-learn.org/stable/modules/generated/sklearn.linear_model.LogisticRegression.html\n",
        "    Return the accuracy_score of your prediction and parameter values\n",
        "'''\n",
        "\n",
        "# BEGIN_YOUR_CODE\n",
        "    \n",
        "# END_YOUR_CODE"
      ]
    },
    {
      "cell_type": "markdown",
      "metadata": {
        "id": "toxZCPhevnni"
      },
      "source": [
        "## References Used\n",
        "\n",
        "**List below all the references you used to complete this assignment**"
      ]
    },
    {
      "cell_type": "code",
      "execution_count": null,
      "metadata": {
        "id": "YW_6TvjFrilZ"
      },
      "outputs": [],
      "source": []
    },
    {
      "cell_type": "code",
      "execution_count": null,
      "metadata": {
        "id": "jhnNAIEH4cK5"
      },
      "outputs": [],
      "source": []
    },
    {
      "cell_type": "code",
      "execution_count": null,
      "metadata": {
        "id": "e_Ig4hgH4cK5"
      },
      "outputs": [],
      "source": []
    },
    {
      "cell_type": "markdown",
      "metadata": {
        "id": "i9Jl34yN4cK5"
      },
      "source": []
    }
  ],
  "metadata": {
    "celltoolbar": "Raw Cell Format",
    "colab": {
      "provenance": [],
      "include_colab_link": true
    },
    "kernelspec": {
      "display_name": "Python 3 (ipykernel)",
      "language": "python",
      "name": "python3"
    },
    "language_info": {
      "codemirror_mode": {
        "name": "ipython",
        "version": 3
      },
      "file_extension": ".py",
      "mimetype": "text/x-python",
      "name": "python",
      "nbconvert_exporter": "python",
      "pygments_lexer": "ipython3",
      "version": "3.9.7"
    },
    "vscode": {
      "interpreter": {
        "hash": "68b275f025d6728071a958497b9f8c302ed1ae4ff22f4ec2c8359f6dd0b66064"
      }
    }
  },
  "nbformat": 4,
  "nbformat_minor": 0
}