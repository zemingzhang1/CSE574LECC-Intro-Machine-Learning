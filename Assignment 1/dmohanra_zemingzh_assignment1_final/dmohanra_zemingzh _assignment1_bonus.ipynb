{
 "cells": [
  {
   "cell_type": "markdown",
   "id": "28e3144e",
   "metadata": {},
   "source": [
    "## Bonus"
   ]
  },
  {
   "cell_type": "code",
   "execution_count": 100,
   "id": "a272774c",
   "metadata": {},
   "outputs": [],
   "source": [
    "#Import all libraries\n",
    "import pandas as pd\n",
    "import numpy as np\n",
    "import pickle\n",
    "import matplotlib.pyplot as plt\n",
    "import seaborn as sns"
   ]
  },
  {
   "cell_type": "code",
   "execution_count": 101,
   "id": "cc57d709",
   "metadata": {},
   "outputs": [
    {
     "data": {
      "text/plain": [
       "(53940, 11)"
      ]
     },
     "execution_count": 101,
     "metadata": {},
     "output_type": "execute_result"
    }
   ],
   "source": [
    "#Reading data and printing shape\n",
    "df_size = pd.read_csv('/Users/deepakrajmohanraj/Desktop/UB/Assignments/Spring 2023/CSE 574/Assignment 1/datasets 2/diamond.csv', sep=',')\n",
    "df_size.shape\n"
   ]
  },
  {
   "cell_type": "code",
   "execution_count": 102,
   "id": "b32a5161",
   "metadata": {},
   "outputs": [
    {
     "name": "stdout",
     "output_type": "stream",
     "text": [
      "Unnamed: 0    0\n",
      "carat         0\n",
      "cut           0\n",
      "color         0\n",
      "clarity       0\n",
      "depth         0\n",
      "table         0\n",
      "price         0\n",
      "x             0\n",
      "y             0\n",
      "z             0\n",
      "dtype: int64\n"
     ]
    }
   ],
   "source": [
    "#To determine the number of na present in each column in the dataset\n",
    "nan_count = df_size.isna().sum()\n",
    "print(nan_count)"
   ]
  },
  {
   "cell_type": "code",
   "execution_count": 103,
   "id": "ba7ade5d",
   "metadata": {},
   "outputs": [
    {
     "data": {
      "text/plain": [
       "(53940, 11)"
      ]
     },
     "execution_count": 103,
     "metadata": {},
     "output_type": "execute_result"
    }
   ],
   "source": [
    "df=df_size\n",
    "df.shape"
   ]
  },
  {
   "cell_type": "code",
   "execution_count": 104,
   "id": "b556b871",
   "metadata": {},
   "outputs": [
    {
     "data": {
      "text/html": [
       "<div>\n",
       "<style scoped>\n",
       "    .dataframe tbody tr th:only-of-type {\n",
       "        vertical-align: middle;\n",
       "    }\n",
       "\n",
       "    .dataframe tbody tr th {\n",
       "        vertical-align: top;\n",
       "    }\n",
       "\n",
       "    .dataframe thead th {\n",
       "        text-align: right;\n",
       "    }\n",
       "</style>\n",
       "<table border=\"1\" class=\"dataframe\">\n",
       "  <thead>\n",
       "    <tr style=\"text-align: right;\">\n",
       "      <th></th>\n",
       "      <th>Unnamed: 0</th>\n",
       "      <th>carat</th>\n",
       "      <th>cut</th>\n",
       "      <th>color</th>\n",
       "      <th>clarity</th>\n",
       "      <th>depth</th>\n",
       "      <th>table</th>\n",
       "      <th>price</th>\n",
       "      <th>x</th>\n",
       "      <th>y</th>\n",
       "      <th>z</th>\n",
       "    </tr>\n",
       "  </thead>\n",
       "  <tbody>\n",
       "    <tr>\n",
       "      <th>0</th>\n",
       "      <td>1</td>\n",
       "      <td>0.23</td>\n",
       "      <td>Ideal</td>\n",
       "      <td>E</td>\n",
       "      <td>SI2</td>\n",
       "      <td>61.5</td>\n",
       "      <td>55.0</td>\n",
       "      <td>326</td>\n",
       "      <td>3.95</td>\n",
       "      <td>3.98</td>\n",
       "      <td>2.43</td>\n",
       "    </tr>\n",
       "    <tr>\n",
       "      <th>1</th>\n",
       "      <td>2</td>\n",
       "      <td>0.21</td>\n",
       "      <td>Premium</td>\n",
       "      <td>E</td>\n",
       "      <td>SI1</td>\n",
       "      <td>59.8</td>\n",
       "      <td>61.0</td>\n",
       "      <td>326</td>\n",
       "      <td>3.89</td>\n",
       "      <td>3.84</td>\n",
       "      <td>2.31</td>\n",
       "    </tr>\n",
       "    <tr>\n",
       "      <th>2</th>\n",
       "      <td>3</td>\n",
       "      <td>0.23</td>\n",
       "      <td>Good</td>\n",
       "      <td>E</td>\n",
       "      <td>VS1</td>\n",
       "      <td>56.9</td>\n",
       "      <td>65.0</td>\n",
       "      <td>327</td>\n",
       "      <td>4.05</td>\n",
       "      <td>4.07</td>\n",
       "      <td>2.31</td>\n",
       "    </tr>\n",
       "    <tr>\n",
       "      <th>3</th>\n",
       "      <td>4</td>\n",
       "      <td>0.29</td>\n",
       "      <td>Premium</td>\n",
       "      <td>I</td>\n",
       "      <td>VS2</td>\n",
       "      <td>62.4</td>\n",
       "      <td>58.0</td>\n",
       "      <td>334</td>\n",
       "      <td>4.20</td>\n",
       "      <td>4.23</td>\n",
       "      <td>2.63</td>\n",
       "    </tr>\n",
       "    <tr>\n",
       "      <th>4</th>\n",
       "      <td>5</td>\n",
       "      <td>0.31</td>\n",
       "      <td>Good</td>\n",
       "      <td>J</td>\n",
       "      <td>SI2</td>\n",
       "      <td>63.3</td>\n",
       "      <td>58.0</td>\n",
       "      <td>335</td>\n",
       "      <td>4.34</td>\n",
       "      <td>4.35</td>\n",
       "      <td>2.75</td>\n",
       "    </tr>\n",
       "  </tbody>\n",
       "</table>\n",
       "</div>"
      ],
      "text/plain": [
       "   Unnamed: 0  carat      cut color clarity  depth  table  price     x     y  \\\n",
       "0           1   0.23    Ideal     E     SI2   61.5   55.0    326  3.95  3.98   \n",
       "1           2   0.21  Premium     E     SI1   59.8   61.0    326  3.89  3.84   \n",
       "2           3   0.23     Good     E     VS1   56.9   65.0    327  4.05  4.07   \n",
       "3           4   0.29  Premium     I     VS2   62.4   58.0    334  4.20  4.23   \n",
       "4           5   0.31     Good     J     SI2   63.3   58.0    335  4.34  4.35   \n",
       "\n",
       "      z  \n",
       "0  2.43  \n",
       "1  2.31  \n",
       "2  2.31  \n",
       "3  2.63  \n",
       "4  2.75  "
      ]
     },
     "execution_count": 104,
     "metadata": {},
     "output_type": "execute_result"
    }
   ],
   "source": [
    "#Taking a peak at the dataset\n",
    "df.head()"
   ]
  },
  {
   "cell_type": "code",
   "execution_count": 105,
   "id": "2900c143",
   "metadata": {},
   "outputs": [
    {
     "name": "stdout",
     "output_type": "stream",
     "text": [
      "         Unnamed: 0         carat         depth         table         price  \\\n",
      "count  53940.000000  53940.000000  53940.000000  53940.000000  53940.000000   \n",
      "mean   26970.500000      0.797940     61.749405     57.457184   3932.799722   \n",
      "std    15571.281097      0.474011      1.432621      2.234491   3989.439738   \n",
      "min        1.000000      0.200000     43.000000     43.000000    326.000000   \n",
      "25%    13485.750000      0.400000     61.000000     56.000000    950.000000   \n",
      "50%    26970.500000      0.700000     61.800000     57.000000   2401.000000   \n",
      "75%    40455.250000      1.040000     62.500000     59.000000   5324.250000   \n",
      "max    53940.000000      5.010000     79.000000     95.000000  18823.000000   \n",
      "\n",
      "                  x             y             z  \n",
      "count  53940.000000  53940.000000  53940.000000  \n",
      "mean       5.731157      5.734526      3.538734  \n",
      "std        1.121761      1.142135      0.705699  \n",
      "min        0.000000      0.000000      0.000000  \n",
      "25%        4.710000      4.720000      2.910000  \n",
      "50%        5.700000      5.710000      3.530000  \n",
      "75%        6.540000      6.540000      4.040000  \n",
      "max       10.740000     58.900000     31.800000  \n"
     ]
    }
   ],
   "source": [
    "# Print the main statistic about the dataset\n",
    "print(df.describe())"
   ]
  },
  {
   "cell_type": "code",
   "execution_count": 106,
   "id": "cfeaf676",
   "metadata": {
    "scrolled": true
   },
   "outputs": [
    {
     "name": "stdout",
     "output_type": "stream",
     "text": [
      "Unique values of Unnamed: 0: [    1     2     3 ... 53938 53939 53940]\n",
      "\n",
      "Unique values of carat: [0.23 0.21 0.29 0.31 0.24 0.26 0.22 0.3  0.2  0.32 0.33 0.25 0.35 0.42\n",
      " 0.28 0.38 0.7  0.86 0.71 0.78 0.96 0.73 0.8  0.75 0.74 0.81 0.59 0.9\n",
      " 0.91 0.61 0.77 0.63 0.76 0.64 0.72 0.79 0.58 1.17 0.6  0.83 0.54 0.98\n",
      " 0.52 1.01 0.53 0.84 0.51 1.05 0.55 0.87 1.   0.57 0.82 1.04 0.93 1.2\n",
      " 0.99 0.34 0.43 0.36 0.95 0.89 1.02 0.97 0.56 0.85 0.92 1.27 0.66 1.12\n",
      " 0.68 1.03 0.62 1.22 1.08 0.88 0.5  1.19 0.39 0.65 1.24 1.5  0.27 0.41\n",
      " 1.13 1.06 0.69 0.4  1.14 0.94 1.29 1.52 1.16 1.21 1.23 1.09 0.67 1.11\n",
      " 1.1  1.18 1.15 1.25 1.07 1.28 1.51 0.37 1.31 1.26 1.39 1.44 1.35 1.3\n",
      " 1.32 1.41 1.36 1.45 1.34 1.58 1.54 1.38 1.33 1.74 1.64 1.47 1.4  1.55\n",
      " 1.95 2.   1.37 1.83 1.62 1.57 1.69 2.06 1.72 1.66 2.14 1.49 1.46 2.15\n",
      " 1.96 2.22 1.7  1.53 1.85 2.01 2.27 1.68 1.56 1.81 1.65 1.82 2.03 1.73\n",
      " 1.59 1.42 1.43 2.08 1.48 1.6  2.49 1.71 2.02 2.07 3.   2.21 2.1  1.91\n",
      " 2.25 2.17 2.32 2.72 1.61 2.23 2.11 2.05 1.63 2.3  2.31 1.75 2.04 2.12\n",
      " 1.77 2.5  1.8  1.67 1.84 2.2  3.01 1.88 2.33 2.68 2.34 1.9  2.16 2.74\n",
      " 1.78 1.76 2.28 1.79 1.94 2.43 1.86 3.11 1.87 2.09 1.89 2.52 2.19 2.18\n",
      " 2.77 2.63 3.05 2.46 3.02 2.38 2.24 2.26 2.36 1.99 2.29 3.65 2.45 2.4\n",
      " 2.54 3.24 2.13 2.58 3.22 3.5  2.48 1.98 2.44 2.75 1.93 2.41 2.61 2.35\n",
      " 2.51 2.7  2.55 1.97 2.53 2.37 2.47 2.8  4.01 2.56 3.04 1.92 2.39 3.4\n",
      " 4.   3.67 2.42 2.66 2.65 2.59 2.6  2.57 2.71 4.13 2.64 5.01 4.5  2.67\n",
      " 3.51 0.44 0.45 0.47 0.46 0.48 0.49]\n",
      "\n",
      "Unique values of cut: ['Ideal' 'Premium' 'Good' 'Very Good' 'Fair']\n",
      "\n",
      "Unique values of color: ['E' 'I' 'J' 'H' 'F' 'G' 'D']\n",
      "\n",
      "Unique values of clarity: ['SI2' 'SI1' 'VS1' 'VS2' 'VVS2' 'VVS1' 'I1' 'IF']\n",
      "\n",
      "Unique values of depth: [61.5 59.8 56.9 62.4 63.3 62.8 62.3 61.9 65.1 59.4 64.  60.4 62.2 60.2\n",
      " 60.9 62.  63.4 63.8 62.7 61.  58.1 62.5 60.5 60.  60.7 59.5 58.2 64.1\n",
      " 60.8 61.8 61.2 61.1 65.2 58.4 63.1 61.6 59.3 62.6 63.  63.2 62.1 61.4\n",
      " 62.9 63.7 59.2 59.9 57.9 55.1 57.5 66.3 61.7 58.8 64.5 65.3 59.6 64.4\n",
      " 65.7 63.6 61.3 60.1 60.3 58.  64.6 59.7 57.8 67.9 60.6 57.2 64.2 65.8\n",
      " 67.4 59.  63.5 67.3 58.7 66.4 68.1 63.9 55.  58.6 64.3 58.5 65.  56.\n",
      " 58.3 53.1 64.9 59.1 58.9 66.7 57.7 65.4 53.3 53.  67.8 66.1 55.8 67.6\n",
      " 68.2 65.5 67.7 69.5 56.6 56.3 66.9 66.  67.  57.6 67.1 65.6 64.8 69.3\n",
      " 66.2 55.4 66.8 64.7 66.6 55.9 57.3 57.4 68.3 68.5 56.2 65.9 56.5 56.1\n",
      " 66.5 68.4 69.7 57.1 68.7 56.7 68.6 71.6 43.  68.8 67.5 69.  55.2 68.9\n",
      " 69.6 57.  56.4 56.8 44.  67.2 70.1 71.3 70.6 69.8 71.8 53.8 53.2 70.\n",
      " 69.4 68.  70.2 50.8 55.6 70.5 71.  69.1 55.3 54.2 51.  70.8 54.6 54.\n",
      " 54.4 52.3 55.5 78.2 71.2 52.7 54.3 69.2 73.6 52.2 69.9 53.4 72.2 79.\n",
      " 72.9 54.7]\n",
      "\n",
      "Unique values of table: [55.  61.  65.  58.  57.  56.  54.  62.  59.  63.  60.  55.3 69.  53.\n",
      " 64.  56.4 60.5 67.  52.  55.8 66.  70.  68.  54.4 57.1 53.6 54.8 54.2\n",
      " 54.9 56.7 53.9 57.8 54.1 55.1 51.  58.1 56.9 56.5 53.7 60.7 56.2 56.6\n",
      " 56.1 56.3 57.2 57.5 60.9 59.8 62.3 60.1 55.9 50.1 62.2 54.5 55.7 53.4\n",
      " 54.7 58.8 59.4 62.5 54.3 60.6 55.2 58.6 49.  50.  54.6 62.6 57.7 56.8\n",
      " 57.9 60.3 55.6 59.5 57.4 62.4 60.4 53.3 60.2 60.8 58.5 57.6 43.  59.9\n",
      " 63.5 57.3 61.4 58.3 55.4 58.2 53.5 59.7 55.5 58.7 53.8 59.1 53.2 59.3\n",
      " 61.1 51.6 95.  61.2 59.2 58.4 53.1 52.8 44.  61.3 61.9 61.8 59.6 61.5\n",
      " 58.9 64.3 62.8 71.  52.4 63.3 61.7 64.2 73.  65.4 63.4 62.1 79.  76.\n",
      " 61.6]\n",
      "\n",
      "Unique values of price: [ 326  327  334 ... 2753 2755 2756]\n",
      "\n",
      "Unique values of x: [ 3.95  3.89  4.05  4.2   4.34  3.94  4.07  3.87  4.    4.25  3.93  3.88\n",
      "  4.35  3.79  4.38  4.31  4.23  4.21  4.26  3.85  4.39  4.44  3.97  4.28\n",
      "  3.96  4.04  4.01  3.92  4.06  3.83  4.29  4.13  4.49  3.99  4.19  4.24\n",
      "  4.36  4.33  4.02  4.45  3.91  4.3   4.43  4.54  4.78  4.15  4.08  4.03\n",
      "  4.65  4.22  5.7   6.45  5.68  5.81  5.85  5.71  6.27  5.77  5.97  5.8\n",
      "  6.    5.94  5.87  5.9   6.14  5.38  5.96  6.16  5.73  5.98  5.72  6.01\n",
      "  5.64  5.57  5.63  5.65  6.09  5.56  6.11  6.03  5.89  5.69  5.62  5.88\n",
      "  5.52  5.74  5.53  5.78  5.83  5.66  5.82  5.79  5.92  5.39  5.33  6.83\n",
      "  5.41  5.25  5.24  5.67  5.61  5.76  6.05  5.6   5.19  5.84  6.39  5.34\n",
      "  5.14  5.11  5.54  6.07  6.29  6.31  6.49  5.28  5.48  5.55  6.41  6.02\n",
      "  5.91  6.17  6.61  5.12  6.19  5.43  5.99  5.95  6.37  5.93  6.46  5.22\n",
      "  5.75  6.21  6.15  6.73  5.49  4.37  4.47  4.41  4.27  4.85  4.32  4.48\n",
      "  4.5   4.56  4.94  4.09  6.72  5.15  6.3   5.86  5.23  6.08  6.62  6.26\n",
      "  6.55  6.04  6.2   6.43  6.36  6.34  5.2   5.37  6.06  5.51  6.9   6.24\n",
      "  5.36  5.16  5.45  5.47  6.12  6.6   6.35  7.12  6.25  6.1   6.75  6.22\n",
      "  6.78  6.38  6.82  6.84  5.44  4.57  4.6   4.52  4.42  4.46  6.93  6.4\n",
      "  5.27  5.21  6.47  6.13  5.59  6.44  6.53  6.5   6.32  5.08  5.09  5.18\n",
      "  5.3   6.68  6.51  6.23  5.42  4.66  4.4   6.18  5.58  5.03  6.85  6.67\n",
      "  6.28  6.57  7.26  4.18  4.77  6.52  6.42  5.5   6.54  6.92  5.46  6.77\n",
      "  6.63  5.35  5.17  4.64  6.81  6.33  5.4   7.53  6.48  6.58  7.01  6.79\n",
      "  6.59  6.66  6.64  6.99  4.67  7.56  6.65  6.69  5.13  6.8   4.58  4.55\n",
      "  4.16  4.12  4.51  6.71  6.95  4.14  4.53  6.89  6.86  6.91  6.76  6.96\n",
      "  4.99  4.61  4.69  4.71  6.56  4.1   4.7   7.4   5.29  5.26  5.31  5.32\n",
      "  7.29  7.18  6.87  6.74  7.43  6.7   7.37  7.    4.11  4.63  6.94  7.22\n",
      "  7.06  7.05  7.09  7.17  7.07  4.73  4.75  4.74  7.02  7.16  7.11  6.88\n",
      "  7.1   4.98  7.15  6.98  7.31  7.38  7.39  7.33  4.17  4.59  7.28  7.08\n",
      "  6.97  4.62  4.83  4.68  7.34  7.21  4.89  7.03  7.55  4.79  7.25  7.45\n",
      "  7.19  7.04  7.62  7.14  3.98  4.8   7.44  0.    7.13  7.32  7.2   7.48\n",
      "  8.1   8.11  7.23  7.27  7.42  7.7   4.76  4.72  7.3   7.24  7.79  7.54\n",
      "  7.63  7.46  7.74  4.84  8.01  7.59  7.36  4.87  8.04  7.78  7.8   7.71\n",
      "  8.48  7.61  8.05  7.6   7.5   7.52  7.91  7.81  8.03  8.23  7.41  7.49\n",
      "  7.68  7.57  7.35  8.26  7.84  7.58  8.    8.19  7.77  7.87  7.47  8.25\n",
      "  7.76  9.23  7.97  8.31  8.3   7.82  4.88  7.93  7.73  7.89  7.66  7.75\n",
      "  8.75  7.88  7.99  8.46  7.51  7.69  7.64  8.24  8.15  8.71  7.83  8.39\n",
      "  7.72  8.13  4.82  7.65  9.1   8.93  8.16  7.94  7.85  8.64  7.67  4.91\n",
      "  4.81  8.14  7.86  9.11  8.45  7.9   8.47  8.07  8.55  8.76  7.96  8.28\n",
      "  8.4   8.37  8.52  8.43  8.09  7.98  8.81  8.54  8.02  8.08  8.18  4.92\n",
      "  8.12  9.15  8.17  9.24  8.33  8.34  7.92  8.57  7.95  8.06  9.26  8.82\n",
      "  8.27  8.66  8.22  9.54  9.38  8.36  8.41  8.53  8.42  8.44  8.21  8.51\n",
      "  8.68  8.49  8.29  8.2   9.08  9.17  8.6   9.53  8.7   8.32  8.65  9.44\n",
      "  8.38  8.61  8.58  9.49  9.65  8.83  8.5   8.79  8.63  8.74  9.04  9.42\n",
      "  8.35  8.56  8.8   8.87  8.84  8.88  8.59  8.69  9.32  9.03  8.72 10.14\n",
      " 10.02  8.62  8.85  9.14  8.67  8.99 10.01  8.78  9.25  9.86  8.77  8.73\n",
      "  9.3   9.13  9.05 10.    8.9   8.97 10.74  9.36  9.06  8.89 10.23  9.51\n",
      "  9.66  9.35  9.41  4.86  4.9   3.9   3.86  4.93  4.96  5.04  5.    4.95\n",
      "  5.01  5.05  3.81  3.84  3.73  3.74  3.76  3.77  4.97  5.06  5.02  5.1\n",
      "  5.07  3.82]\n",
      "\n",
      "Unique values of y: [ 3.98  3.84  4.07  4.23  4.35  3.96  4.11  3.78  4.05  4.28  3.9   4.37\n",
      "  3.75  4.42  4.34  4.29  4.26  4.27  4.3   3.92  4.43  4.47  4.01  3.94\n",
      "  3.97  3.99  4.03  4.06  4.08  3.85  4.31  4.16  4.51  4.5   4.55  4.02\n",
      "  4.24  4.38  3.95  4.48  3.89  3.88  4.33  4.32  4.59  4.84  4.22  4.\n",
      "  4.25  4.13  4.09  4.04  4.12  4.67  5.72  6.33  5.67  5.73  5.85  5.9\n",
      "  5.76  5.95  5.78  5.93  5.75  5.96  5.79  5.87  5.8   5.81  6.11  5.43\n",
      "  6.    5.84  6.12  5.82  5.74  5.94  6.07  5.69  5.83  5.61  5.53  5.58\n",
      "  5.59  5.97  6.09  5.99  5.86  5.68  5.65  5.55  5.77  5.91  5.56  5.89\n",
      "  5.92  6.03  5.44  5.37  5.88  6.9   5.62  5.27  5.26  5.7   5.64  5.63\n",
      "  5.71  5.51  5.22  6.36  5.54  5.66  6.2   5.18  5.15  6.1   6.21  6.22\n",
      "  6.45  6.01  5.3   5.41  5.52  6.27  6.05  6.06  6.13  6.55  5.35  5.16\n",
      "  6.25  6.02  5.46  6.23  6.08  5.45  6.41  6.34  5.25  6.15  6.19  6.66\n",
      "  4.36  4.2   4.79  4.57  4.52  4.53  4.58  5.    6.67  5.11  6.29  6.04\n",
      "  6.53  6.65  6.5   6.16  5.6   6.39  5.21  5.4   5.98  6.83  6.37  6.31\n",
      "  5.38  6.43  5.29  5.19  6.18  5.34  5.48  5.23  6.14  5.49  5.57  6.46\n",
      "  7.05  6.26  6.75  6.74  6.77  4.66  4.46  4.56  4.41  4.4   4.39  5.2\n",
      "  6.88  5.31  6.3   6.48  5.47  5.13  6.49  6.47  6.32  5.12  5.24  6.35\n",
      "  6.61  4.7   6.24  6.28  5.08  6.44  6.79  6.57  6.92  6.6   5.28  5.42\n",
      "  5.5   7.09  4.45  4.62  4.8   6.42  6.85  6.54  6.7   6.51  6.59  6.38\n",
      "  6.69  5.06  4.69  4.44  4.49  6.71  6.4   6.17  5.39  7.42  6.52  6.95\n",
      "  6.56  6.62  6.87  6.81  7.39  6.58  6.73  5.17  4.65  4.19  4.61  6.64\n",
      "  6.91  6.8   4.15  4.71  4.21  4.68  6.84  6.86  4.96  5.04  5.09  4.64\n",
      "  4.74  4.73  4.6   4.75  7.28  5.32  6.82  6.63  7.17  7.13  4.1   4.63\n",
      "  7.35  6.68  7.26  6.78  4.17  4.9   6.89  7.01  7.1   6.72  7.    5.36\n",
      "  4.76  4.78  6.96  7.15  7.19  6.93  4.54  7.34  6.76  7.18  4.14  7.12\n",
      "  7.04  7.22  7.2   6.94  7.16  7.21  4.18  7.32  7.06  6.99  4.72  7.03\n",
      "  7.14  6.97  7.29  7.51  4.81  6.98  7.33  7.23  7.25  7.02  7.59  7.11\n",
      "  4.82  7.07  7.36  7.08  7.4   7.41  8.05  8.06  0.    4.83  7.44  7.79\n",
      "  8.07  7.24  7.7   7.45  7.56  4.88  7.27  7.95  4.87  7.31  4.77  4.89\n",
      "  8.02  7.37  7.49  7.38  7.74  7.75  7.64  8.39  7.55  8.    7.48  7.5\n",
      "  7.54  7.47  7.52  7.53  7.43  7.85  7.6   7.3   7.99  7.57  8.18  7.8\n",
      "  7.92  7.72  8.2   7.65  7.63  7.58  7.73  9.1   8.27  8.19  7.76  8.01\n",
      "  7.66  7.46  7.97  4.94  7.91  7.86  7.61  8.69  7.82  7.9   8.43  7.62\n",
      "  7.71  7.83  8.3   8.12  7.94  7.98  8.56  7.78  8.22  8.28  7.67  4.85\n",
      "  8.44  7.87  8.97  8.84  8.11  4.98  7.81  8.09  7.68  8.25  9.07  8.38\n",
      "  8.67  7.84  4.86  8.26  8.66  7.69  8.32  8.46  8.35  7.89  8.04  8.21\n",
      "  7.96  8.03  8.77  8.49  8.17  8.13  8.33  7.77  9.02  8.08  9.13  7.88\n",
      "  8.31  8.53  8.5   8.14  8.83  8.81  9.25  8.15  8.76  8.23  7.93  8.16\n",
      "  8.63  9.38  9.31  8.34  8.24  8.51  8.47  8.1   8.57  8.45  3.86  8.96\n",
      "  9.48  8.36  8.58  8.41  8.61  8.64  4.97 58.9   8.68  9.4   8.37  8.48\n",
      "  8.29  8.4   9.42  9.59  8.78  8.54  8.7   8.98  9.26  8.65  8.52  8.6\n",
      "  8.42  9.37  8.74  8.59  8.55  9.01  9.19 10.1   9.94  8.71  9.34  9.2\n",
      "  9.81  8.73  8.82  8.87  8.75  8.79  8.93  8.88  9.14  9.03  8.9   8.94\n",
      "  9.85  8.62 10.54  8.89 10.16  9.46  9.63  9.22  9.32  8.85  4.91  4.93\n",
      "  4.92  3.93  4.95  5.01  4.99  5.05  3.77  3.8   3.71  3.73  3.68  3.72\n",
      "  3.91  5.07  5.02  5.03  3.87  5.14  5.1   5.33  3.83  3.81  3.82 31.8 ]\n",
      "\n",
      "Unique values of z: [ 2.43  2.31  2.63  2.75  2.48  2.47  2.53  2.49  2.39  2.73  2.46  2.33\n",
      "  2.71  2.27  2.68  2.7   2.66  2.41  2.62  2.59  2.67  2.4   2.42  2.44\n",
      "  2.37  2.52  2.78  2.76  2.61  2.65  2.79  2.54  2.64  2.45  2.72  2.69\n",
      "  2.96  2.58  2.51  2.56  2.55  2.87  3.57  3.52  3.5   3.56  3.72  3.38\n",
      "  3.4   4.07  3.66  3.65  3.58  3.59  3.63  3.69  3.61  3.6   3.35  3.67\n",
      "  3.62  3.87  3.68  3.49  3.47  3.46  3.7   3.32  3.93  3.95  3.64  3.53\n",
      "  3.37  3.43  3.51  3.54  3.48  3.55  3.33  3.3   4.13  3.79  3.24  3.23\n",
      "  4.08  3.19  3.94  3.08  3.31  3.21  3.75  3.18  3.41  4.03  4.09  3.22\n",
      "  4.18  3.76  3.83  3.17  3.44  3.74  3.8   3.39  3.88  4.    3.98  3.85\n",
      "  3.96  3.16  3.78  3.84  4.33  4.01  3.45  2.74  2.95  2.8   2.77  2.9\n",
      "  2.82  3.77  3.9   3.73  3.34  3.86  3.89  3.81  3.42  3.71  3.91  3.2\n",
      "  3.1   4.06  3.97  4.02  4.2   4.11  3.99  4.23  3.27  3.92  4.15  2.83\n",
      "  2.81  4.04  3.82  4.21  4.1   4.26  4.29  3.26  2.88  2.5   4.16  4.14\n",
      "  4.12  3.25  4.7   4.19  3.13  4.05  4.27  4.34  3.14  2.97  4.17  3.36\n",
      "  4.42  4.28  4.38  3.29  0.    4.25  4.78  2.99  2.57  2.84  4.22  2.6\n",
      "  3.15  4.32  4.3   2.85  3.01  3.28  4.63  4.65  3.12  4.52  4.47  2.89\n",
      "  4.24  4.49  4.57  4.36  4.8   4.76  2.94  4.66  4.54  4.56  4.62  4.37\n",
      "  4.46  4.31  2.91  4.5   4.39  4.4   4.55  2.86  2.35  2.93  4.41  4.51\n",
      "  4.45  4.72  4.48  2.98  4.75  4.64  4.84  2.92  4.87  4.35  4.53  4.44\n",
      "  4.6   4.81  4.68  4.82  3.    4.58  4.97  5.12  4.59  4.61  4.95  4.98\n",
      "  4.79  4.43  5.36  2.36  5.23  5.04  4.74  5.1   4.92  5.17  4.71  5.43\n",
      "  1.07  5.29  4.67  5.07  5.19  4.93  5.15  4.73  5.08  5.06  5.45  4.85\n",
      "  5.27  4.69  5.18  5.16  4.94  4.77  5.25  5.77  5.02  5.14  5.44  5.24\n",
      "  4.99  5.41  5.58  5.76  5.22  5.31  5.09  5.28  5.47  5.01  5.    4.91\n",
      "  4.88  5.32  4.89  5.67  5.97  5.33  5.2   4.83  5.53  5.37  5.65  1.53\n",
      "  4.9   5.21  5.05  5.11  5.35  1.41  4.96  5.98  5.03  5.73  4.86  5.6\n",
      "  5.56  5.66  5.26  5.91  3.04  5.3   5.79  5.13  6.38  5.49  5.34  8.06\n",
      "  5.85  5.57  5.92  6.03  3.02  5.48  5.62  5.46  3.03  5.55  5.39  5.5\n",
      "  6.17  6.24  5.75  6.16  5.51  6.27  6.31  5.69  6.13  5.54  5.86  5.38\n",
      "  5.72  5.4   5.61  6.43  5.52  5.42  6.98  5.9   6.72  5.64  5.59  3.06\n",
      "  3.05  3.07  3.09  3.11  2.26  2.24  2.32  2.28  2.3   2.38  2.34  2.29\n",
      "  2.06  2.25 31.8 ]\n",
      "\n"
     ]
    }
   ],
   "source": [
    "# To get the unique values of each column\n",
    "for col in df.columns:\n",
    "    unique_values = df[col].unique()\n",
    "    print(f\"Unique values of {col}: {unique_values}\\n\")"
   ]
  },
  {
   "cell_type": "code",
   "execution_count": 107,
   "id": "11c92481",
   "metadata": {},
   "outputs": [
    {
     "data": {
      "text/html": [
       "<div>\n",
       "<style scoped>\n",
       "    .dataframe tbody tr th:only-of-type {\n",
       "        vertical-align: middle;\n",
       "    }\n",
       "\n",
       "    .dataframe tbody tr th {\n",
       "        vertical-align: top;\n",
       "    }\n",
       "\n",
       "    .dataframe thead th {\n",
       "        text-align: right;\n",
       "    }\n",
       "</style>\n",
       "<table border=\"1\" class=\"dataframe\">\n",
       "  <thead>\n",
       "    <tr style=\"text-align: right;\">\n",
       "      <th></th>\n",
       "      <th>cut</th>\n",
       "      <th>color</th>\n",
       "      <th>clarity</th>\n",
       "    </tr>\n",
       "  </thead>\n",
       "  <tbody>\n",
       "    <tr>\n",
       "      <th>0</th>\n",
       "      <td>Ideal</td>\n",
       "      <td>E</td>\n",
       "      <td>SI2</td>\n",
       "    </tr>\n",
       "    <tr>\n",
       "      <th>1</th>\n",
       "      <td>Premium</td>\n",
       "      <td>E</td>\n",
       "      <td>SI1</td>\n",
       "    </tr>\n",
       "    <tr>\n",
       "      <th>2</th>\n",
       "      <td>Good</td>\n",
       "      <td>E</td>\n",
       "      <td>VS1</td>\n",
       "    </tr>\n",
       "    <tr>\n",
       "      <th>3</th>\n",
       "      <td>Premium</td>\n",
       "      <td>I</td>\n",
       "      <td>VS2</td>\n",
       "    </tr>\n",
       "    <tr>\n",
       "      <th>4</th>\n",
       "      <td>Good</td>\n",
       "      <td>J</td>\n",
       "      <td>SI2</td>\n",
       "    </tr>\n",
       "    <tr>\n",
       "      <th>...</th>\n",
       "      <td>...</td>\n",
       "      <td>...</td>\n",
       "      <td>...</td>\n",
       "    </tr>\n",
       "    <tr>\n",
       "      <th>53935</th>\n",
       "      <td>Ideal</td>\n",
       "      <td>D</td>\n",
       "      <td>SI1</td>\n",
       "    </tr>\n",
       "    <tr>\n",
       "      <th>53936</th>\n",
       "      <td>Good</td>\n",
       "      <td>D</td>\n",
       "      <td>SI1</td>\n",
       "    </tr>\n",
       "    <tr>\n",
       "      <th>53937</th>\n",
       "      <td>Very Good</td>\n",
       "      <td>D</td>\n",
       "      <td>SI1</td>\n",
       "    </tr>\n",
       "    <tr>\n",
       "      <th>53938</th>\n",
       "      <td>Premium</td>\n",
       "      <td>H</td>\n",
       "      <td>SI2</td>\n",
       "    </tr>\n",
       "    <tr>\n",
       "      <th>53939</th>\n",
       "      <td>Ideal</td>\n",
       "      <td>D</td>\n",
       "      <td>SI2</td>\n",
       "    </tr>\n",
       "  </tbody>\n",
       "</table>\n",
       "<p>53940 rows × 3 columns</p>\n",
       "</div>"
      ],
      "text/plain": [
       "             cut color clarity\n",
       "0          Ideal     E     SI2\n",
       "1        Premium     E     SI1\n",
       "2           Good     E     VS1\n",
       "3        Premium     I     VS2\n",
       "4           Good     J     SI2\n",
       "...          ...   ...     ...\n",
       "53935      Ideal     D     SI1\n",
       "53936       Good     D     SI1\n",
       "53937  Very Good     D     SI1\n",
       "53938    Premium     H     SI2\n",
       "53939      Ideal     D     SI2\n",
       "\n",
       "[53940 rows x 3 columns]"
      ]
     },
     "execution_count": 107,
     "metadata": {},
     "output_type": "execute_result"
    }
   ],
   "source": [
    "# Isolating the categorical columns and removing the column \"Unnamed: 0\" as it does not provide any meaning to the data\n",
    "df_x = df.drop([\"Unnamed: 0\",\"cut\",\"color\",\"clarity\",\"price\"], axis=1)\n",
    "df_x = df_x.apply(lambda x: ((x - x.min())/(x.max() - x.min())).round(2))\n",
    "df_y = df[\"price\"]\n",
    "df_cat = df[[\"cut\",\"color\",\"clarity\"]]\n",
    "df_cat"
   ]
  },
  {
   "cell_type": "code",
   "execution_count": 108,
   "id": "6e9abf3f",
   "metadata": {},
   "outputs": [
    {
     "data": {
      "text/html": [
       "<div>\n",
       "<style scoped>\n",
       "    .dataframe tbody tr th:only-of-type {\n",
       "        vertical-align: middle;\n",
       "    }\n",
       "\n",
       "    .dataframe tbody tr th {\n",
       "        vertical-align: top;\n",
       "    }\n",
       "\n",
       "    .dataframe thead th {\n",
       "        text-align: right;\n",
       "    }\n",
       "</style>\n",
       "<table border=\"1\" class=\"dataframe\">\n",
       "  <thead>\n",
       "    <tr style=\"text-align: right;\">\n",
       "      <th></th>\n",
       "      <th>carat</th>\n",
       "      <th>depth</th>\n",
       "      <th>table</th>\n",
       "      <th>x</th>\n",
       "      <th>y</th>\n",
       "      <th>z</th>\n",
       "    </tr>\n",
       "  </thead>\n",
       "  <tbody>\n",
       "    <tr>\n",
       "      <th>0</th>\n",
       "      <td>0.01</td>\n",
       "      <td>0.51</td>\n",
       "      <td>0.23</td>\n",
       "      <td>0.37</td>\n",
       "      <td>0.07</td>\n",
       "      <td>0.08</td>\n",
       "    </tr>\n",
       "    <tr>\n",
       "      <th>1</th>\n",
       "      <td>0.00</td>\n",
       "      <td>0.47</td>\n",
       "      <td>0.35</td>\n",
       "      <td>0.36</td>\n",
       "      <td>0.07</td>\n",
       "      <td>0.07</td>\n",
       "    </tr>\n",
       "    <tr>\n",
       "      <th>2</th>\n",
       "      <td>0.01</td>\n",
       "      <td>0.39</td>\n",
       "      <td>0.42</td>\n",
       "      <td>0.38</td>\n",
       "      <td>0.07</td>\n",
       "      <td>0.07</td>\n",
       "    </tr>\n",
       "    <tr>\n",
       "      <th>3</th>\n",
       "      <td>0.02</td>\n",
       "      <td>0.54</td>\n",
       "      <td>0.29</td>\n",
       "      <td>0.39</td>\n",
       "      <td>0.07</td>\n",
       "      <td>0.08</td>\n",
       "    </tr>\n",
       "    <tr>\n",
       "      <th>4</th>\n",
       "      <td>0.02</td>\n",
       "      <td>0.56</td>\n",
       "      <td>0.29</td>\n",
       "      <td>0.40</td>\n",
       "      <td>0.07</td>\n",
       "      <td>0.09</td>\n",
       "    </tr>\n",
       "  </tbody>\n",
       "</table>\n",
       "</div>"
      ],
      "text/plain": [
       "   carat  depth  table     x     y     z\n",
       "0   0.01   0.51   0.23  0.37  0.07  0.08\n",
       "1   0.00   0.47   0.35  0.36  0.07  0.07\n",
       "2   0.01   0.39   0.42  0.38  0.07  0.07\n",
       "3   0.02   0.54   0.29  0.39  0.07  0.08\n",
       "4   0.02   0.56   0.29  0.40  0.07  0.09"
      ]
     },
     "execution_count": 108,
     "metadata": {},
     "output_type": "execute_result"
    }
   ],
   "source": [
    "df_x.head()"
   ]
  },
  {
   "cell_type": "code",
   "execution_count": 109,
   "id": "4e225cc3",
   "metadata": {},
   "outputs": [
    {
     "data": {
      "text/plain": [
       "Index(['cut_Good', 'cut_Ideal', 'cut_Premium', 'cut_Very Good', 'color_E',\n",
       "       'color_F', 'color_G', 'color_H', 'color_I', 'color_J', 'clarity_IF',\n",
       "       'clarity_SI1', 'clarity_SI2', 'clarity_VS1', 'clarity_VS2',\n",
       "       'clarity_VVS1', 'clarity_VVS2', 'carat', 'depth', 'table', 'x', 'y',\n",
       "       'z'],\n",
       "      dtype='object')"
      ]
     },
     "execution_count": 109,
     "metadata": {},
     "output_type": "execute_result"
    }
   ],
   "source": [
    "#One hot encoding the categorical columns and combining them into one input data\n",
    "df_x_encoded = pd.get_dummies(df_cat,drop_first=True)\n",
    "df_final = pd.concat([df_x_encoded, df_x[df_x.columns.difference([\"cut\",\"color\",\"clarity\",\"price\"])]], axis=1)\n",
    "df_final.reset_index(drop=True)\n",
    "df_final.columns"
   ]
  },
  {
   "cell_type": "code",
   "execution_count": 110,
   "id": "4726fdb8",
   "metadata": {},
   "outputs": [
    {
     "name": "stdout",
     "output_type": "stream",
     "text": [
      "(43152, 23)\n",
      "(10788, 23)\n",
      "(43152,)\n",
      "(10788,)\n"
     ]
    }
   ],
   "source": [
    "#Splitting the data into test and training dataset\n",
    "X_train = df_final.sample(frac=0.8,random_state=200)\n",
    "print(X_train.shape)\n",
    "X_test = df_final.drop(X_train.index)\n",
    "print(X_test.shape)\n",
    "y_train = df_y.sample(frac=0.8,random_state=200)\n",
    "print(y_train.shape)\n",
    "y_test = df_y.drop(y_train.index)\n",
    "print(y_test.shape)"
   ]
  },
  {
   "cell_type": "markdown",
   "id": "4be1084b",
   "metadata": {},
   "source": [
    "## Ridge Regression - PART III"
   ]
  },
  {
   "cell_type": "code",
   "execution_count": 111,
   "id": "ac02317d",
   "metadata": {},
   "outputs": [],
   "source": [
    "# OLS equation for Ridge regression can be estimated as\n",
    "\n",
    "lambda_value = 0.1  # set the regularization parameter to some value\n",
    "I = np.eye(df_final.shape[1])  # create an identity matrix with the same dimensions as X\n",
    "w_ridge = np.linalg.inv(df_final.transpose().dot(df_final) + lambda_value*I).dot(df_final.transpose()).dot(df_y)"
   ]
  },
  {
   "cell_type": "code",
   "execution_count": 112,
   "id": "0a8ec0a3",
   "metadata": {},
   "outputs": [
    {
     "name": "stdout",
     "output_type": "stream",
     "text": [
      "35863807174.385956\n"
     ]
    }
   ],
   "source": [
    "# the squared loss can be written as:\n",
    "y_pred_ridge = df_final.dot(w_ridge)\n",
    "mse_ridge = 0.5*np.sum((df_y - y_pred_ridge)**2) + (lambda_value * np.dot(w_ridge, w_ridge))\n",
    "print(mse_ridge)"
   ]
  },
  {
   "cell_type": "code",
   "execution_count": 113,
   "id": "f49b7091",
   "metadata": {},
   "outputs": [
    {
     "data": {
      "text/plain": [
       "35863807174.385956"
      ]
     },
     "execution_count": 113,
     "metadata": {},
     "output_type": "execute_result"
    }
   ],
   "source": [
    "mse_ridge"
   ]
  },
  {
   "cell_type": "markdown",
   "id": "75026f32",
   "metadata": {},
   "source": [
    "## Bonus Gradient Descent from Scratch"
   ]
  },
  {
   "cell_type": "code",
   "execution_count": 114,
   "id": "13a699b5",
   "metadata": {},
   "outputs": [],
   "source": [
    "#Creating a class with all the functions for ridge regression\n",
    "class RidgeRegression:\n",
    "\n",
    "    def __init__(self,lambd, iterations,learning_rate):\n",
    "        #Assigning LR and iterations to self\n",
    "        self.learning_rate = learning_rate\n",
    "        self.lambd = lambd\n",
    "        self.iterations = iterations\n",
    "    \n",
    "    def cost(self,dx, dy):\n",
    "        m = dx.shape[0]\n",
    "        y_pred = dx.dot(self.weights)\n",
    "        reg_term = (self.lambd / m) * np.sum(self.weights**2)\n",
    "        return (1 / m) * np.sum((y_pred - dy)**2) + reg_term\n",
    "    \n",
    "    def gradient_descent(self,dx, dy):\n",
    "        m = dx.shape[0]\n",
    "        y_pred = dx.dot(self.weights)\n",
    "        reg_term = (self.lambd / m) * self.weights\n",
    "        return (1 / m) * dx.T.dot(y_pred - dy) + reg_term\n",
    "\n",
    "    def fit(self,dx,dy):\n",
    "        self.weights = np.zeros(dx.shape[1])\n",
    "        m = dx.shape[0]\n",
    "        self.loss = []\n",
    "\n",
    "        for i in range(self.iterations):\n",
    "            grad = self.gradient_descent(dx, dy)\n",
    "            self.weights = self.weights - self.learning_rate * grad\n",
    "            self.loss.append(self.cost(dx, dy))\n",
    "            \n",
    "    def predict(self, x):\n",
    "        y_pred = x.dot(self.weights)\n",
    "        \n",
    "        return y_pred\n",
    "    \n",
    "model = RidgeRegression(learning_rate=0.01, lambd=1, iterations=1000)\n",
    "model.fit(X_train, y_train)\n",
    "\n",
    "# Evaluate the model\n",
    "y_train_pred = model.predict(X_train)\n",
    "y_test_pred = model.predict(X_test)"
   ]
  },
  {
   "cell_type": "code",
   "execution_count": 115,
   "id": "8d5a6236",
   "metadata": {},
   "outputs": [
    {
     "data": {
      "image/png": "[encoded data removed]",
      "text/plain": [
       "<Figure size 640x480 with 1 Axes>"
      ]
     },
     "metadata": {},
     "output_type": "display_data"
    }
   ],
   "source": [
    "# Loss plot of Gradient Descent \n",
    "plt.plot(model.loss)\n",
    "plt.show()"
   ]
  },
  {
   "cell_type": "code",
   "execution_count": 116,
   "id": "e0597a0f",
   "metadata": {},
   "outputs": [
    {
     "name": "stdout",
     "output_type": "stream",
     "text": [
      "[30767149.796809945, 30340832.904145524, 29925276.191009164, 29520203.652734954, 29125346.377737552, 28740442.365152687, 28365236.34716649, 27999479.615913007, 27642929.854822643, 27295350.97430683, 26956512.95166765, 26626191.675123703, 26304168.791846182, 25990231.559902515, 25684172.70400653, 25385790.27497774, 25094887.51281405, 24811272.713285208, 24534759.097956337, 24265164.687553357, 24002312.178584438, 23746028.82313372, 23496146.311745714, 23252500.659321, 23014932.09394563, 22783284.948579002, 22557407.555526588, 22337152.14362586, 22122374.73807584, 21912935.062842105, 21708696.445571106, 21509525.72494933, 21315293.160444327, 21125872.34436646, 20941140.11619169, 20760976.47908714, 20585264.518583048, 20413890.32333561, 20246742.90792724, 20083714.137651645, 19924698.655232795, 19769593.809428066, 19618299.585467, 19470718.53727865, 19326755.72146134, 19186318.632950243, 19049317.142338872, 18915663.43481224, 18785271.950649977, 18658059.327259243, 18533944.342698026, 18412847.860650424, 18294692.77681676, 18179403.96668197, 18066908.23462693, 17957134.26434816, 17850012.570552267, 17745475.45189236, 17643456.94511447, 17543892.7803829, 17446720.337754212, 17351878.60477022, 17259308.135141335, 17168951.00849212, 17080750.791141886, 16994652.497893512, 16910602.55480478, 16828548.76291677, 16748440.262914881, 16670227.500698376, 16593862.193835124, 16519297.29887881, 16446486.979526378, 16375386.575594198, 16305952.57279176, 16238142.573272562, 16171915.26694206, 16107230.403503286, 16044048.765221206, 15982332.140387215, 15922043.297465883, 15863145.959906371, 15805604.781601407, 15749385.322977206, 15694454.027698057, 15640778.199969862, 15588325.98242715, 15537066.334588572, 15486969.011866305, 15438004.54511507, 15390144.22070695, 15343360.061118403, 15297624.806016408, 15252911.893830802, 15209195.44380038, 15166450.238480583, 15124651.706700811, 15083775.906959942, 15043799.511248665, 15004699.789287727, 14966454.593171356, 14929042.342405502, 14892442.009330658, 14856633.104919443, 14821595.66493932, 14787310.236470956, 14753757.864773242, 14720920.080485884, 14688778.887161044, 14657316.749115476, 14626516.579594914, 14596361.729242753, 14566835.974865137, 14537923.508484839, 14509608.926676553, 14481877.220176296, 14454713.763757957, 14428104.306370001, 14402034.961525785, 14376492.197940862, 14351462.830410944, 14326934.010924365, 14302893.220002996, 14279328.258265717, 14256227.238208784, 14233578.57619744, 14211370.984663378, 14189593.464502804, 14168235.297669828, 14147286.039960295, 14126735.513981063, 14106573.802300006, 14086791.240772063, 14067378.412036864, 14048326.139183456, 14029625.479577858, 14011267.718849286, 13993244.365030928, 13975547.1428513, 13958167.988172377, 13941099.042570593, 13924332.648057163, 13907861.341934131, 13891677.851782536, 13875775.090579448, 13860146.151940493, 13844784.305484608, 13829682.99231797, 13814835.820633953, 13800236.561426165, 13785879.144311668, 13771757.65346153, 13757866.323635962, 13744199.536321322, 13730751.81596642, 13717517.826315533, 13704492.366835626, 13691670.369235415, 13679046.894073864, 13666617.127455834, 13654376.377812637, 13642320.072765317, 13630443.756068552, 13618743.084633026, 13607213.825624373, 13595851.853636635, 13584653.147938332, 13573613.789789306, 13562729.959826516, 13551997.935516972, 13541414.088676117, 13530974.883049985, 13520676.871959463, 13510516.696005061, 13500491.080830675, 13490596.834944787, 13480830.84759764, 13471190.086712938, 13461671.596872693, 13452272.497353828, 13442989.98021523, 13433821.308433907, 13424763.814089077, 13415814.896592842, 13406972.02096637, 13398232.716160284, 13389594.573418248, 13381055.244682578, 13372612.441040765, 13364263.931211935, 13356007.540072164, 13347841.14721767, 13339762.685564889, 13331770.139986558, 13323861.54598272, 13316034.98838598, 13308288.600099897, 13300620.560869873, 13293029.096085504, 13285512.47561377, 13278069.012662116, 13270697.06267078, 13263395.022233512, 13256161.328046044, 13248994.455881521, 13241892.919592254, 13234855.270137109, 13227880.094633829, 13220966.015435727, 13214111.689232048, 13207315.806171428, 13200577.089007879, 13193894.29226863, 13187266.20144341, 13180691.63219447, 13174169.42958692, 13167698.467338778, 13161277.64709032, 13154905.897692109, 13148582.174511366, 13142305.458756085, 13136074.756816514, 13129889.099623514, 13123747.542023418, 13117649.162168864, 13111593.060925324, 13105578.361292813, 13099604.207842434, 13093669.766167402, 13087774.22234812, 13081916.782430992, 13076096.671920577, 13070313.135284819, 13064565.435472906, 13058852.85344552, 13053174.687717136, 13047530.253910039, 13041918.884319788, 13036339.927491825, 13030792.74780891, 13025276.725089168, 13019791.254194412, 13014335.744648514, 13008909.620265547, 13003512.318787482, 12998143.291531144, 12992802.00304422, 12987487.930770073, 12982200.56472119, 12976939.407160904, 12971703.972293368, 12966493.785961412, 12961308.385352133, 12956147.318710081, 12951010.145057715, 12945896.433923088, 12940805.765074436, 12935737.72826163, 12930691.922964197, 12925667.958145795, 12920665.452015016, 12915684.03179226, 12910723.333482595, 12905783.001654427, 12900862.689223848, 12895962.057244467, 12891080.774702644, 12886218.51831798, 12881374.97234884, 12876549.828402929, 12871742.785252666, 12866953.548655275, 12862181.831177518, 12857427.352024844, 12852689.836874975, 12847969.017715674, 12843264.63268673, 12838576.425925909, 12833904.147418896, 12829247.552853052, 12824606.403474888, 12819980.465951197, 12815369.512233743, 12810773.319427367, 12806191.669661501, 12801624.349964928, 12797071.152143758, 12792531.87266252, 12788006.312528256, 12783494.277177615, 12778995.576366799, 12774510.024064315, 12770037.438346483, 12765577.641295569, 12761130.458900552, 12756695.720960408, 12752273.260989847, 12747862.916127454, 12743464.527046185, 12739077.937866122, 12734702.996069465, 12730339.552417673, 12725987.460870724, 12721646.578508431, 12717316.76545374, 12712997.884798015, 12708689.802528178, 12704392.387455735, 12700105.511147603, 12695829.047858668, 12691562.874466075, 12687306.870405218, 12683060.917607276, 12678824.90043841, 12674598.70564048, 12670382.222273244, 12666175.341658045, 12661977.957322923, 12657789.96494912, 12653611.26231893, 12649441.749264883, 12645281.327620206, 12641129.901170548, 12636987.375606917, 12632853.65847982, 12628728.659154542, 12624612.288767591, 12620504.460184205, 12616405.087956963, 12612314.08828542, 12608231.37897678, 12604156.879407551, 12600090.510486173, 12596032.194616575, 12591981.85566267, 12587939.41891375, 12583904.811050717, 12579877.960113194, 12575858.795467472, 12571847.247775245, 12567843.24896312, 12563846.73219293, 12559857.631832765, 12555875.883428749, 12551901.423677497, 12547934.190399304, 12543974.122511975, 12540021.16000533, 12536075.243916323, 12532136.316304822, 12528204.32022997, 12524279.199727127, 12520360.899785439, 12516449.366325894, 12512544.546179997, 12508646.387068933, 12504754.837583259, 12500869.84716313, 12496991.366078971, 12493119.345412672, 12489253.737039227, 12485394.49360884, 12481541.568529468, 12477694.915949823, 12473854.490742758, 12470020.248489087, 12466192.145461818, 12462370.138610743, 12458554.185547449, 12454744.244530665, 12450940.274452005, 12447142.234822022, 12443350.085756648, 12439563.787963955, 12435783.302731222, 12432008.59191234, 12428239.617915552, 12424476.343691414, 12420718.732721161, 12416966.749005267, 12413220.357052332, 12409479.521868227, 12405744.208945524, 12402014.384253148, 12398290.014226316, 12394571.065756705, 12390857.506182868, 12387149.303280879, 12383446.425255202, 12379748.840729792, 12376056.5187394, 12372369.428721111, 12368687.540506052, 12365010.824311333, 12361339.250732172, 12357672.790734211, 12354011.415646, 12350355.097151704, 12346703.807283936, 12343057.518416796, 12339416.203259075, 12335779.8348476, 12332148.386540763, 12328521.83201219, 12324900.145244569, 12321283.300523616, 12317671.272432204, 12314064.035844607, 12310461.56592089, 12306863.83810145, 12303270.82810166, 12299682.51190665, 12296098.865766214, 12292519.86618984, 12288945.489941847, 12285375.714036636, 12281810.515734078, 12278249.872534957, 12274693.762176584, 12271142.162628472, 12267595.052088112, 12264052.408976864, 12260514.211935936, 12256980.439822465, 12253451.071705665, 12249926.086863086, 12246405.464776952, 12242889.185130589, 12239377.22780492, 12235869.572875056, 12232366.20060696, 12228867.091454178, 12225372.226054657, 12221881.585227638, 12218395.149970597, 12214912.90145628, 12211434.821029793, 12207960.89020576, 12204491.090665542, 12201025.40425452, 12197563.812979443, 12194106.299005829, 12190652.844655424, 12187203.43240372, 12183758.04487754, 12180316.66485264, 12176879.275251394, 12173445.859140549, 12170016.399728969, 12166590.880365476, 12163169.284536725, 12159751.595865132, 12156337.798106827, 12152927.875149654, 12149521.811011257, 12146119.589837143, 12142721.19589883, 12139326.613592017, 12135935.827434797, 12132548.822065912, 12129165.582243035, 12125786.0928411, 12122410.338850657, 12119038.30537626, 12115669.977634907, 12112305.340954488, 12108944.380772276, 12105587.082633462, 12102233.432189688, 12098883.415197643, 12095537.01751767, 12092194.2251124, 12088855.024045428, 12085519.400479998, 12082187.340677733, 12078858.830997366, 12075533.857893515, 12072212.407915488, 12068894.467706082, 12065580.024000445, 12062269.063624924, 12058961.573495958, 12055657.540618977, 12052356.952087352, 12049059.79508133, 12045766.05686699, 12042475.72479526, 12039188.786300903, 12035905.228901561, 12032625.04019679, 12029348.20786711, 12026074.719673121, 12022804.563454572, 12019537.727129476, 12016274.198693257, 12013013.966217881, 12009757.017851027, 12006503.341815256, 12003252.926407207, 12000005.759996809, 11996761.831026485, 11993521.128010405, 11990283.639533713, 11987049.354251813, 11983818.260889621, 11980590.34824085, 11977365.605167333, 11974144.020598304, 11970925.583529739, 11967710.283023678, 11964498.108207582, 11961289.048273675, 11958083.09247832, 11954880.230141398, 11951680.450645676, 11948483.74343623, 11945290.09801984, 11942099.503964394, 11938911.950898346, 11935727.428510107, 11932545.926547533, 11929367.434817348, 11926191.943184612, 11923019.441572206, 11919849.919960283, 11916683.368385777, 11913519.776941886, 11910359.135777568, 11907201.43509707, 11904046.665159417, 11900894.816277966, 11897745.878819901, 11894599.843205804, 11891456.699909175, 11888316.439456, 11885179.052424297, 11882044.529443678, 11878912.861194931, 11875784.038409585, 11872658.051869497, 11869534.89240643, 11866414.550901663, 11863297.018285573, 11860182.285537258, 11857070.343684122, 11853961.183801511, 11850854.797012325, 11847751.17448664, 11844650.307441346, 11841552.187139777, 11838456.804891346, 11835364.1520512, 11832274.220019858, 11829187.000242876, 11826102.484210497, 11823020.663457306, 11819941.529561918, 11816865.07414662, 11813791.288877076, 11810720.165461969, 11807651.695652725, 11804585.871243166, 11801522.684069213, 11798462.126008587, 11795404.188980484, 11792348.864945292, 11789296.145904308, 11786246.023899404, 11783198.49101279, 11780153.539366687, 11777111.161123062, 11774071.34848335, 11771034.093688168, 11767999.389017057, 11764967.2267882, 11761937.599358149, 11758910.499121586, 11755885.918511026, 11752863.849996598, 11749844.286085756, 11746827.219323035, 11743812.64228982, 11740800.547604065, 11737790.92792008, 11734783.775928264, 11731779.084354872, 11728776.84596179, 11725777.053546276, 11722779.699940752, 11719784.77801255, 11716792.280663704, 11713802.20083071, 11710814.531484302, 11707829.265629247, 11704846.396304095, 11701865.916580994, 11698887.819565458, 11695912.098396149, 11692938.74624468, 11689967.75631539, 11686999.121845154, 11684032.836103154, 11681068.892390702, 11678107.284041021, 11675148.00441905, 11672191.046921236, 11669236.404975364, 11666284.072040332, 11663334.041605975, 11660386.307192875, 11657440.862352159, 11654497.700665321, 11651556.81574404, 11648618.201229986, 11645681.850794634, 11642747.758139096, 11639815.916993935, 11636886.321118977, 11633958.964303153, 11631033.84036431, 11628110.943149036, 11625190.266532497, 11622271.80441826, 11619355.55073812, 11616441.49945195, 11613529.644547503, 11610619.980040275, 11607712.499973325, 11604807.19841712, 11601904.06946936, 11599003.10725485, 11596104.305925295, 11593207.659659183, 11590313.162661603, 11587420.809164098, 11584530.593424518, 11581642.50972685, 11578756.55238109, 11575872.71572307, 11572990.994114315, 11570111.38194191, 11567233.873618325, 11564358.463581294, 11561485.146293657, 11558613.916243222, 11555744.767942613, 11552877.695929145, 11550012.694764664, 11547149.75903542, 11544288.883351924, 11541430.062348813, 11538573.29068471, 11535718.563042093, 11532865.87412715, 11530015.218669664, 11527166.59142286, 11524319.987163285, 11521475.400690667, 11518632.826827813, 11515792.26042044, 11512953.696337068, 11510117.129468905, 11507282.554729693, 11504449.967055604, 11501619.361405106, 11498790.732758837, 11495964.076119497, 11493139.386511704, 11490316.6589819, 11487495.888598198, 11484677.070450293, 11481860.199649319, 11479045.271327754, 11476232.280639287, 11473421.222758703, 11470612.09288177, 11467804.886225136, 11464999.59802619, 11462196.223542972, 11459394.758054046, 11456595.196858404, 11453797.535275333, 11451001.768644322, 11448207.892324949, 11445415.90169677, 11442625.79215921, 11439837.559131458, 11437051.198052367, 11434266.704380326, 11431484.073593182, 11428703.301188126, 11425924.382681567, 11423147.313609073, 11420372.089525228, 11417598.70600355, 11414827.15863639, 11412057.443034822, 11409289.554828549, 11406523.489665799, 11403759.24321325, 11400996.811155882, 11398236.189196933, 11395477.373057773, 11392720.358477816, 11389965.141214417, 11387211.717042789, 11384460.0817559, 11381710.231164377, 11378962.16109643, 11376215.867397731, 11373471.34593135, 11370728.592577653, 11367987.603234202, 11365248.37381567, 11362510.900253769, 11359775.178497128, 11357041.204511233, 11354308.974278323, 11351578.483797316, 11348849.729083698, 11346122.706169467, 11343397.411103027, 11340673.839949107, 11337951.988788674, 11335231.853718858, 11332513.430852855, 11329796.716319857, 11327081.706264956, 11324368.396849077, 11321656.784248883, 11318946.86465669, 11316238.634280412, 11313532.089343444, 11310827.22608462, 11308124.040758098, 11305422.52963331, 11302722.688994866, 11300024.51514248, 11297328.004390903, 11294633.15306983, 11291939.957523827, 11289248.414112268, 11286558.519209247, 11283870.269203503, 11281183.660498349, 11278498.689511599, 11275815.352675492, 11273133.646436611, 11270453.567255829, 11267775.111608218, 11265098.275982987, 11262423.056883408, 11259749.450826736, 11257077.454344159, 11254407.063980704, 11251738.276295187, 11249071.087860124, 11246405.495261677, 11243741.495099584, 11241079.083987083, 11238418.258550845, 11235759.015430918, 11233101.351280639, 11230445.262766598, 11227790.746568529, 11225137.799379287, 11222486.417904755, 11219836.598863788, 11217188.338988151, 11214541.63502245, 11211896.483724058, 11209252.881863078, 11206610.826222258, 11203970.313596927, 11201331.340794945, 11198693.904636636, 11196058.00195472, 11193423.629594259, 11190790.784412595, 11188159.46327928, 11185529.663076034, 11182901.380696665, 11180274.613047019, 11177649.357044918, 11175025.609620107, 11172403.367714189, 11169782.628280565, 11167163.388284381, 11164545.644702472, 11161929.394523287, 11159314.63474686, 11156701.362384735, 11154089.57445991, 11151479.268006781, 11148870.440071102, 11146263.087709902, 11143657.20799146, 11141052.797995215, 11138449.85481175, 11135848.375542711, 11133248.357300756, 11130649.797209512, 11128052.692403521, 11125457.04002817, 11122862.837239657, 11120270.081204932, 11117678.769101642, 11115088.898118082, 11112500.46545315, 11109913.468316274, 11107327.903927391, 11104743.769516874, 11102161.06232549, 11099579.779604347, 11096999.91861485, 11094421.476628639, 11091844.450927557, 11089268.838803587, 11086694.637558814, 11084121.84450536, 11081550.456965353, 11078980.472270878, 11076411.887763912, 11073844.700796299, 11071278.908729685, 11068714.508935485, 11066151.498794828, 11063589.875698505, 11061029.637046939, 11058470.78025013, 11055913.302727608, 11053357.201908393, 11050802.475230938, 11048249.120143102, 11045697.134102099, 11043146.514574435, 11040597.259035897, 11038049.364971483, 11035502.829875369, 11032957.651250865, 11030413.82661037, 11027871.35347533, 11025330.2293762, 11022790.45185239, 11020252.018452233, 11017714.92673294, 11015179.17426056, 11012644.758609934, 11010111.677364655, 11007579.928117031, 11005049.508468043, 11002520.416027302, 10999992.648413006, 10997466.20325191, 10994941.078179274, 10992417.270838829, 10989894.778882742, 10987373.599971568, 10984853.73177422, 10982335.171967918, 10979817.918238165, 10977301.968278691, 10974787.319791436, 10972273.9704865, 10969761.918082096, 10967251.160304531, 10964741.694888161, 10962233.519575352, 10959726.632116437, 10957221.030269692, 10954716.711801298, 10952213.67448529, 10949711.916103542, 10947211.434445709, 10944712.227309218, 10942214.292499188, 10939717.62782846, 10937222.2311175, 10934728.100194393, 10932235.232894808, 10929743.627061961, 10927253.280546576, 10924764.19120685, 10922276.356908428, 10919789.775524365, 10917304.444935087, 10914820.363028362, 10912337.527699264, 10909855.936850145, 10907375.5883906, 10904896.480237432, 10902418.610314615, 10899941.97655327, 10897466.576891638, 10894992.409275027, 10892519.471655795, 10890047.761993319, 10887577.278253956, 10885108.018411022, 10882639.980444744, 10880173.16234225, 10877707.56209752, 10875243.17771136, 10872780.007191382, 10870318.048551956, 10867857.299814193, 10865397.759005912, 10862939.424161607, 10860482.293322416, 10858026.364536101, 10855571.635857001, 10853118.105346026, 10850665.771070601, 10848214.631104663, 10845764.68352861, 10843315.926429288, 10840868.357899962, 10838421.976040265, 10835976.7789562, 10833532.764760103, 10831089.931570597, 10828648.277512582, 10826207.80071721, 10823768.499321839, 10821330.371470032, 10818893.415311502, 10816457.6290021, 10814023.010703791, 10811589.558584617, 10809157.270818671, 10806726.145586088, 10804296.181072991, 10801867.375471484, 10799439.726979623, 10797013.233801385, 10794587.894146642, 10792163.706231141, 10789740.668276478, 10787318.778510064, 10784898.035165107, 10782478.436480584, 10780059.980701225, 10777642.666077465, 10775226.49086545, 10772811.453326987, 10770397.55172953, 10767984.784346158, 10765573.149455544, 10763162.645341929, 10760753.270295117, 10758345.022610426, 10755937.900588669, 10753531.902536156, 10751127.02676463, 10748723.271591278, 10746320.63533869, 10743919.116334833, 10741518.712913048, 10739119.423411997, 10736721.246175671, 10734324.179553349, 10731928.221899573, 10729533.37157414, 10727139.626942065, 10724746.986373566, 10722355.448244048, 10719965.010934064, 10717575.672829306, 10715187.43232058, 10712800.287803795, 10710414.23767991, 10708029.280354945, 10705645.414239952, 10703262.637750974, 10700880.949309062, 10698500.347340208, 10696120.830275357, 10693742.396550387, 10691365.044606054, 10688988.772888016, 10686613.579846779, 10684239.463937694, 10681866.423620932, 10679494.457361458, 10677123.563629016, 10674753.740898125, 10672384.987648021, 10670017.302362671, 10667650.68353074, 10665285.129645571, 10662920.639205173, 10660557.210712183, 10658194.842673874, 10655833.533602117, 10653473.282013357, 10651114.086428618, 10648755.945373459, 10646398.857377965, 10644042.820976734, 10641687.83470885]\n"
     ]
    }
   ],
   "source": [
    "print(model.loss)"
   ]
  },
  {
   "cell_type": "code",
   "execution_count": 117,
   "id": "968745b6",
   "metadata": {},
   "outputs": [],
   "source": [
    "#Saving the model weights in pickle file\n",
    "with open('dmohanra_zemingzh_assignment1_gradient_bonus.pickle','wb') as file:\n",
    "   pickle.dump(model.loss,file)"
   ]
  },
  {
   "cell_type": "markdown",
   "id": "fa6a9807",
   "metadata": {},
   "source": [
    "## Bonus Elastic Net from Scratch"
   ]
  },
  {
   "cell_type": "code",
   "execution_count": 118,
   "id": "5f0e166e",
   "metadata": {},
   "outputs": [
    {
     "name": "stdout",
     "output_type": "stream",
     "text": [
      "[  606.51700678   886.85413352   810.66207564   762.3597349\n",
      "  -209.23859937  -276.73633816  -483.16328778  -975.32159836\n",
      " -1454.26410687 -2344.05103117  5350.84266508  3647.47272254\n",
      "  2687.42858536  4569.26102894  4257.70448095  5006.0619652\n",
      "  4943.19302053 52800.2375172  -2072.62676629 -1278.25030798\n",
      " -9394.04784774 -3863.76498513   391.7407175 ]\n"
     ]
    }
   ],
   "source": [
    "# Using OLS equation for Ridge regression\n",
    "\n",
    "lambda_1 = 0.1  # set the regularization parameter to some value\n",
    "lambda_2 = 0.2 \n",
    "I = np.eye(df_final.shape[1])  # create an identity matrix with the same dimensions as X\n",
    "w_elasticnet = np.linalg.inv(df_final.transpose().dot(df_final) + lambda_value*I).dot(df_final.transpose()).dot(df_y) + lambda_2\n",
    "print(w_elasticnet)"
   ]
  },
  {
   "cell_type": "code",
   "execution_count": 119,
   "id": "94aba4dd",
   "metadata": {},
   "outputs": [],
   "source": [
    "#Saving the model weights in pickle file\n",
    "with open('dmohanra_zemingzh_assignment1_elasticnet_bonus.pickle','wb') as file:\n",
    "   pickle.dump(w_elasticnet,file)"
   ]
  },
  {
   "cell_type": "code",
   "execution_count": 120,
   "id": "af67c8a1",
   "metadata": {},
   "outputs": [
    {
     "name": "stdout",
     "output_type": "stream",
     "text": [
      "35863809749.24878\n"
     ]
    }
   ],
   "source": [
    "# the squared loss can be written as:\n",
    "y_pred_elasticnet = df_final.dot(w_ridge)\n",
    "mse_elasticnet = 0.5*np.sum((df_y - y_pred_elasticnet)**2) + (lambda_value * np.dot(w_elasticnet, w_elasticnet)) + lambda_2\n",
    "print(mse_elasticnet)"
   ]
  },
  {
   "cell_type": "code",
   "execution_count": 121,
   "id": "80244ece",
   "metadata": {},
   "outputs": [
    {
     "data": {
      "image/png": "[encoded data removed]",
      "text/plain": [
       "<Figure size 640x480 with 1 Axes>"
      ]
     },
     "metadata": {},
     "output_type": "display_data"
    }
   ],
   "source": [
    "# create a scatter plot of the actual targets and predictions\n",
    "plt.scatter(df_y, y_pred_elasticnet)\n",
    "\n",
    "# add a diagonal line to represent perfect predictions\n",
    "plt.plot([df_y.min(), df_y.max()], [df_y.min(), df_y.max()], 'k--', lw=2)\n",
    "\n",
    "# set the axis labels and title\n",
    "plt.xlabel('Actual Targets')\n",
    "plt.ylabel('Predicted Targets')\n",
    "plt.title('Actual vs Predicted Targets')\n",
    "\n",
    "# show the plot\n",
    "plt.show()"
   ]
  },
  {
   "cell_type": "code",
   "execution_count": 122,
   "id": "7826e92c",
   "metadata": {},
   "outputs": [
    {
     "data": {
      "text/plain": [
       "35863809749.24878"
      ]
     },
     "execution_count": 122,
     "metadata": {},
     "output_type": "execute_result"
    }
   ],
   "source": [
    "mse_elasticnet "
   ]
  }
 ],
 "metadata": {
  "kernelspec": {
   "display_name": "Python 3 (ipykernel)",
   "language": "python",
   "name": "python3"
  },
  "language_info": {
   "codemirror_mode": {
    "name": "ipython",
    "version": 3
   },
   "file_extension": ".py",
   "mimetype": "text/x-python",
   "name": "python",
   "nbconvert_exporter": "python",
   "pygments_lexer": "ipython3",
   "version": "3.9.13"
  }
 },
 "nbformat": 4,
 "nbformat_minor": 5
}
